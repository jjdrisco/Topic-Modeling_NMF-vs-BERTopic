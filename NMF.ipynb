{
 "cells": [
  {
   "cell_type": "code",
   "execution_count": 17,
   "metadata": {},
   "outputs": [],
   "source": [
    "import pandas as pd\n",
    "import numpy as np\n",
    "from sklearn.feature_extraction.text import ENGLISH_STOP_WORDS\n",
    "import string\n",
    "import re\n",
    "from nltk.stem.snowball import SnowballStemmer\n",
    "from nltk.tokenize import TweetTokenizer, RegexpTokenizer\n",
    "import nltk"
   ]
  },
  {
   "cell_type": "markdown",
   "metadata": {},
   "source": [
    "### Cleaning"
   ]
  },
  {
   "cell_type": "code",
   "execution_count": 18,
   "metadata": {},
   "outputs": [
    {
     "data": {
      "text/html": [
       "<div>\n",
       "<style scoped>\n",
       "    .dataframe tbody tr th:only-of-type {\n",
       "        vertical-align: middle;\n",
       "    }\n",
       "\n",
       "    .dataframe tbody tr th {\n",
       "        vertical-align: top;\n",
       "    }\n",
       "\n",
       "    .dataframe thead th {\n",
       "        text-align: right;\n",
       "    }\n",
       "</style>\n",
       "<table border=\"1\" class=\"dataframe\">\n",
       "  <thead>\n",
       "    <tr style=\"text-align: right;\">\n",
       "      <th></th>\n",
       "      <th>title</th>\n",
       "      <th>year</th>\n",
       "      <th>journal_issn</th>\n",
       "      <th>language</th>\n",
       "      <th>abstract</th>\n",
       "      <th>doi</th>\n",
       "      <th>pmid</th>\n",
       "      <th>citation_count</th>\n",
       "      <th>IOSPressVolume</th>\n",
       "      <th>publication_type</th>\n",
       "      <th>authors</th>\n",
       "      <th>keywords</th>\n",
       "      <th>topics</th>\n",
       "      <th>affiliation_countries</th>\n",
       "      <th>affiliations</th>\n",
       "    </tr>\n",
       "  </thead>\n",
       "  <tbody>\n",
       "    <tr>\n",
       "      <th>0</th>\n",
       "      <td>Using an open source observational tool to mea...</td>\n",
       "      <td>2009</td>\n",
       "      <td>0926-9630</td>\n",
       "      <td>eng</td>\n",
       "      <td>Computerization of general practice is an inte...</td>\n",
       "      <td>None</td>\n",
       "      <td>19745467</td>\n",
       "      <td>4</td>\n",
       "      <td>150</td>\n",
       "      <td>[Journal Article]</td>\n",
       "      <td>[De Lusignan, S, Kumarapeli, P, Debar, S, Kush...</td>\n",
       "      <td>[Attitude to Computers, Computer Systems, Deci...</td>\n",
       "      <td>[EPR systems, consultation, primary care compu...</td>\n",
       "      <td>[united kingdom]</td>\n",
       "      <td>[St George's University of London, London SW17...</td>\n",
       "    </tr>\n",
       "    <tr>\n",
       "      <th>1</th>\n",
       "      <td>Portable devices, sensors and networks: wirele...</td>\n",
       "      <td>2009</td>\n",
       "      <td>0926-9630</td>\n",
       "      <td>eng</td>\n",
       "      <td>The 21st century healthcare systems aim at inv...</td>\n",
       "      <td>None</td>\n",
       "      <td>19745466</td>\n",
       "      <td>7</td>\n",
       "      <td>150</td>\n",
       "      <td>[Journal Article, Research Support, Non-U.S. G...</td>\n",
       "      <td>[Pharow, P, Blobel, B, Ruotsalainen, P, Peters...</td>\n",
       "      <td>[Health Services, Humans, Internet, Precision ...</td>\n",
       "      <td>[health services, Portable devices, portable d...</td>\n",
       "      <td>[germany]</td>\n",
       "      <td>[eHealth Competence Center, Regensburg Univers...</td>\n",
       "    </tr>\n",
       "    <tr>\n",
       "      <th>2</th>\n",
       "      <td>Archetype-based knowledge management for seman...</td>\n",
       "      <td>2009</td>\n",
       "      <td>0926-9630</td>\n",
       "      <td>eng</td>\n",
       "      <td>Formal modeling of clinical content that can b...</td>\n",
       "      <td>None</td>\n",
       "      <td>19745465</td>\n",
       "      <td>13</td>\n",
       "      <td>150</td>\n",
       "      <td>[Journal Article]</td>\n",
       "      <td>[Garde, S, Chen, R, Leslie, H, Beale, T, McNic...</td>\n",
       "      <td>[Medical Record Linkage, Medical Records Syste...</td>\n",
       "      <td>[compliance templates, templates, archetype re...</td>\n",
       "      <td>[united kingdom]</td>\n",
       "      <td>[Ocean Informatics, London, UK. sebastian.gard...</td>\n",
       "    </tr>\n",
       "    <tr>\n",
       "      <th>3</th>\n",
       "      <td>Is there a common background to support better...</td>\n",
       "      <td>2009</td>\n",
       "      <td>0926-9630</td>\n",
       "      <td>eng</td>\n",
       "      <td>The workshop is proposed by the EFMI WG Health...</td>\n",
       "      <td>None</td>\n",
       "      <td>19745464</td>\n",
       "      <td>0</td>\n",
       "      <td>150</td>\n",
       "      <td>[Journal Article]</td>\n",
       "      <td>[Stoicu-Tivadar, L, Blobel, B, Kern, J, Masic,...</td>\n",
       "      <td>[Education, Europe, Humans, International Coop...</td>\n",
       "      <td>[healthcare services, better healthcare, healt...</td>\n",
       "      <td>[romania]</td>\n",
       "      <td>[University Politehnica Timisoara, Romania. st...</td>\n",
       "    </tr>\n",
       "    <tr>\n",
       "      <th>4</th>\n",
       "      <td>Digital pathology in Europe: coordinating pati...</td>\n",
       "      <td>2009</td>\n",
       "      <td>0926-9630</td>\n",
       "      <td>eng</td>\n",
       "      <td>The COST Action IC0604  Telepathology Network ...</td>\n",
       "      <td>None</td>\n",
       "      <td>19745463</td>\n",
       "      <td>7</td>\n",
       "      <td>150</td>\n",
       "      <td>[Journal Article]</td>\n",
       "      <td>[Garcia Rojo, M, Punys, V, Slodkowska, J, Schr...</td>\n",
       "      <td>[Biomedical Research, Europe, Humans, Medical ...</td>\n",
       "      <td>[research efforts, Anatomic Pathology, Patholo...</td>\n",
       "      <td>[spain]</td>\n",
       "      <td>[Hospital General de Ciudad Real, 13005 Ciudad...</td>\n",
       "    </tr>\n",
       "  </tbody>\n",
       "</table>\n",
       "</div>"
      ],
      "text/plain": [
       "                                               title  year journal_issn  \\\n",
       "0  Using an open source observational tool to mea...  2009    0926-9630   \n",
       "1  Portable devices, sensors and networks: wirele...  2009    0926-9630   \n",
       "2  Archetype-based knowledge management for seman...  2009    0926-9630   \n",
       "3  Is there a common background to support better...  2009    0926-9630   \n",
       "4  Digital pathology in Europe: coordinating pati...  2009    0926-9630   \n",
       "\n",
       "  language                                           abstract   doi      pmid  \\\n",
       "0      eng  Computerization of general practice is an inte...  None  19745467   \n",
       "1      eng  The 21st century healthcare systems aim at inv...  None  19745466   \n",
       "2      eng  Formal modeling of clinical content that can b...  None  19745465   \n",
       "3      eng  The workshop is proposed by the EFMI WG Health...  None  19745464   \n",
       "4      eng  The COST Action IC0604  Telepathology Network ...  None  19745463   \n",
       "\n",
       "   citation_count  IOSPressVolume  \\\n",
       "0               4             150   \n",
       "1               7             150   \n",
       "2              13             150   \n",
       "3               0             150   \n",
       "4               7             150   \n",
       "\n",
       "                                    publication_type  \\\n",
       "0                                  [Journal Article]   \n",
       "1  [Journal Article, Research Support, Non-U.S. G...   \n",
       "2                                  [Journal Article]   \n",
       "3                                  [Journal Article]   \n",
       "4                                  [Journal Article]   \n",
       "\n",
       "                                             authors  \\\n",
       "0  [De Lusignan, S, Kumarapeli, P, Debar, S, Kush...   \n",
       "1  [Pharow, P, Blobel, B, Ruotsalainen, P, Peters...   \n",
       "2  [Garde, S, Chen, R, Leslie, H, Beale, T, McNic...   \n",
       "3  [Stoicu-Tivadar, L, Blobel, B, Kern, J, Masic,...   \n",
       "4  [Garcia Rojo, M, Punys, V, Slodkowska, J, Schr...   \n",
       "\n",
       "                                            keywords  \\\n",
       "0  [Attitude to Computers, Computer Systems, Deci...   \n",
       "1  [Health Services, Humans, Internet, Precision ...   \n",
       "2  [Medical Record Linkage, Medical Records Syste...   \n",
       "3  [Education, Europe, Humans, International Coop...   \n",
       "4  [Biomedical Research, Europe, Humans, Medical ...   \n",
       "\n",
       "                                              topics affiliation_countries  \\\n",
       "0  [EPR systems, consultation, primary care compu...      [united kingdom]   \n",
       "1  [health services, Portable devices, portable d...             [germany]   \n",
       "2  [compliance templates, templates, archetype re...      [united kingdom]   \n",
       "3  [healthcare services, better healthcare, healt...             [romania]   \n",
       "4  [research efforts, Anatomic Pathology, Patholo...               [spain]   \n",
       "\n",
       "                                        affiliations  \n",
       "0  [St George's University of London, London SW17...  \n",
       "1  [eHealth Competence Center, Regensburg Univers...  \n",
       "2  [Ocean Informatics, London, UK. sebastian.gard...  \n",
       "3  [University Politehnica Timisoara, Romania. st...  \n",
       "4  [Hospital General de Ciudad Real, 13005 Ciudad...  "
      ]
     },
     "execution_count": 18,
     "metadata": {},
     "output_type": "execute_result"
    }
   ],
   "source": [
    "# let's take a look at our dataset\n",
    "documents = pd.read_json(\"dataset-mie.json\")\n",
    "documents.head()"
   ]
  },
  {
   "cell_type": "code",
   "execution_count": 19,
   "metadata": {},
   "outputs": [
    {
     "data": {
      "text/plain": [
       "eng    4565\n",
       "ger      41\n",
       "Name: language, dtype: int64"
      ]
     },
     "execution_count": 19,
     "metadata": {},
     "output_type": "execute_result"
    }
   ],
   "source": [
    "# explore dataset for different language types\n",
    "documents[\"language\"].value_counts()"
   ]
  },
  {
   "cell_type": "code",
   "execution_count": 20,
   "metadata": {},
   "outputs": [
    {
     "data": {
      "text/html": [
       "<div>\n",
       "<style scoped>\n",
       "    .dataframe tbody tr th:only-of-type {\n",
       "        vertical-align: middle;\n",
       "    }\n",
       "\n",
       "    .dataframe tbody tr th {\n",
       "        vertical-align: top;\n",
       "    }\n",
       "\n",
       "    .dataframe thead th {\n",
       "        text-align: right;\n",
       "    }\n",
       "</style>\n",
       "<table border=\"1\" class=\"dataframe\">\n",
       "  <thead>\n",
       "    <tr style=\"text-align: right;\">\n",
       "      <th></th>\n",
       "      <th>abstract</th>\n",
       "      <th>keywords</th>\n",
       "      <th>topics</th>\n",
       "    </tr>\n",
       "    <tr>\n",
       "      <th>pmid</th>\n",
       "      <th></th>\n",
       "      <th></th>\n",
       "      <th></th>\n",
       "    </tr>\n",
       "  </thead>\n",
       "  <tbody>\n",
       "    <tr>\n",
       "      <th>19745467</th>\n",
       "      <td>Computerization of general practice is an inte...</td>\n",
       "      <td>[Attitude to Computers, Computer Systems, Deci...</td>\n",
       "      <td>[EPR systems, consultation, primary care compu...</td>\n",
       "    </tr>\n",
       "    <tr>\n",
       "      <th>19745466</th>\n",
       "      <td>The 21st century healthcare systems aim at inv...</td>\n",
       "      <td>[Health Services, Humans, Internet, Precision ...</td>\n",
       "      <td>[health services, Portable devices, portable d...</td>\n",
       "    </tr>\n",
       "    <tr>\n",
       "      <th>19745465</th>\n",
       "      <td>Formal modeling of clinical content that can b...</td>\n",
       "      <td>[Medical Record Linkage, Medical Records Syste...</td>\n",
       "      <td>[compliance templates, templates, archetype re...</td>\n",
       "    </tr>\n",
       "    <tr>\n",
       "      <th>19745464</th>\n",
       "      <td>The workshop is proposed by the EFMI WG Health...</td>\n",
       "      <td>[Education, Europe, Humans, International Coop...</td>\n",
       "      <td>[healthcare services, better healthcare, healt...</td>\n",
       "    </tr>\n",
       "    <tr>\n",
       "      <th>19745463</th>\n",
       "      <td>The COST Action IC0604  Telepathology Network ...</td>\n",
       "      <td>[Biomedical Research, Europe, Humans, Medical ...</td>\n",
       "      <td>[research efforts, Anatomic Pathology, Patholo...</td>\n",
       "    </tr>\n",
       "  </tbody>\n",
       "</table>\n",
       "</div>"
      ],
      "text/plain": [
       "                                                   abstract  \\\n",
       "pmid                                                          \n",
       "19745467  Computerization of general practice is an inte...   \n",
       "19745466  The 21st century healthcare systems aim at inv...   \n",
       "19745465  Formal modeling of clinical content that can b...   \n",
       "19745464  The workshop is proposed by the EFMI WG Health...   \n",
       "19745463  The COST Action IC0604  Telepathology Network ...   \n",
       "\n",
       "                                                   keywords  \\\n",
       "pmid                                                          \n",
       "19745467  [Attitude to Computers, Computer Systems, Deci...   \n",
       "19745466  [Health Services, Humans, Internet, Precision ...   \n",
       "19745465  [Medical Record Linkage, Medical Records Syste...   \n",
       "19745464  [Education, Europe, Humans, International Coop...   \n",
       "19745463  [Biomedical Research, Europe, Humans, Medical ...   \n",
       "\n",
       "                                                     topics  \n",
       "pmid                                                         \n",
       "19745467  [EPR systems, consultation, primary care compu...  \n",
       "19745466  [health services, Portable devices, portable d...  \n",
       "19745465  [compliance templates, templates, archetype re...  \n",
       "19745464  [healthcare services, better healthcare, healt...  \n",
       "19745463  [research efforts, Anatomic Pathology, Patholo...  "
      ]
     },
     "execution_count": 20,
     "metadata": {},
     "output_type": "execute_result"
    }
   ],
   "source": [
    "# only look at english doucments\n",
    "documents = documents[documents['language'] == 'eng'][['abstract', 'keywords', 'topics', 'pmid']]\n",
    "documents = documents.set_index('pmid')\n",
    "documents.head()"
   ]
  },
  {
   "cell_type": "code",
   "execution_count": 21,
   "metadata": {},
   "outputs": [
    {
     "data": {
      "text/plain": [
       "4497"
      ]
     },
     "execution_count": 21,
     "metadata": {},
     "output_type": "execute_result"
    }
   ],
   "source": [
    "# remove the documents that are empty\n",
    "documents = documents[documents[\"abstract\"] != '']\n",
    "documents.shape[0]"
   ]
  },
  {
   "cell_type": "code",
   "execution_count": 22,
   "metadata": {},
   "outputs": [
    {
     "name": "stdout",
     "output_type": "stream",
     "text": [
      "mean number of words: 131.6995774961085 standard deviation of number of words: 54.8173713464437\n"
     ]
    }
   ],
   "source": [
    "words_per_document = documents[\"abstract\"].apply(lambda x: len(x.split(\" \")))\n",
    "mean_words = words_per_document.mean()\n",
    "std_words = words_per_document.std()\n",
    "print(\"mean number of words:\", mean_words, \"standard deviation of number of words:\", std_words)"
   ]
  },
  {
   "cell_type": "code",
   "execution_count": 23,
   "metadata": {},
   "outputs": [
    {
     "data": {
      "text/plain": [
       "398"
      ]
     },
     "execution_count": 23,
     "metadata": {},
     "output_type": "execute_result"
    }
   ],
   "source": [
    "max(words_per_document)"
   ]
  },
  {
   "cell_type": "code",
   "execution_count": 24,
   "metadata": {},
   "outputs": [
    {
     "data": {
      "text/plain": [
       "19"
      ]
     },
     "execution_count": 24,
     "metadata": {},
     "output_type": "execute_result"
    }
   ],
   "source": [
    "min(words_per_document)"
   ]
  },
  {
   "cell_type": "code",
   "execution_count": 25,
   "metadata": {},
   "outputs": [
    {
     "data": {
      "text/plain": [
       "{'whiskers': [<matplotlib.lines.Line2D at 0x7faa37772310>,\n",
       "  <matplotlib.lines.Line2D at 0x7faa377728e0>],\n",
       " 'caps': [<matplotlib.lines.Line2D at 0x7faa377728b0>,\n",
       "  <matplotlib.lines.Line2D at 0x7faa3772b310>],\n",
       " 'boxes': [<matplotlib.lines.Line2D at 0x7faa37642940>],\n",
       " 'medians': [<matplotlib.lines.Line2D at 0x7faa3761a130>],\n",
       " 'fliers': [<matplotlib.lines.Line2D at 0x7faa3761a970>],\n",
       " 'means': []}"
      ]
     },
     "execution_count": 25,
     "metadata": {},
     "output_type": "execute_result"
    },
    {
     "data": {
      "image/png": "[encoded data removed]",
      "text/plain": [
       "<Figure size 640x480 with 1 Axes>"
      ]
     },
     "metadata": {},
     "output_type": "display_data"
    }
   ],
   "source": [
    "import matplotlib.pyplot\n",
    "matplotlib.pyplot.boxplot(words_per_document)"
   ]
  },
  {
   "cell_type": "code",
   "execution_count": 30,
   "metadata": {},
   "outputs": [
    {
     "name": "stderr",
     "output_type": "stream",
     "text": [
      "[nltk_data] Downloading package wordnet to /Users/sarah/nltk_data...\n",
      "[nltk_data]   Package wordnet is already up-to-date!\n"
     ]
    },
    {
     "data": {
      "text/plain": [
       "True"
      ]
     },
     "execution_count": 30,
     "metadata": {},
     "output_type": "execute_result"
    }
   ],
   "source": [
    "from nltk.stem import WordNetLemmatizer\n",
    "nltk.download(\"wordnet\")"
   ]
  },
  {
   "cell_type": "code",
   "execution_count": 60,
   "metadata": {},
   "outputs": [],
   "source": [
    "#tokenize\n",
    "from sklearn.feature_extraction.text import ENGLISH_STOP_WORDS\n",
    "import string\n",
    "import re\n",
    "from nltk.stem.snowball import SnowballStemmer\n",
    "from nltk.tokenize import TweetTokenizer, RegexpTokenizer\n",
    "import nltk\n",
    "\n",
    "# List of stop words\n",
    "medical_stop_words = set([\"study\", \"patient\", \"data\", \"result\", \"used\"])\n",
    "stop_words = ENGLISH_STOP_WORDS.union(medical_stop_words)\n",
    "\n",
    "# List of punctuation\n",
    "punc = list(set(string.punctuation))\n",
    "\n",
    "# Splits words on white spaces\n",
    "def casual_tokenizer(text):\n",
    "    tokenizer = TweetTokenizer()\n",
    "    tokens = tokenizer.tokenize(text)\n",
    "    return tokens\n",
    "\n",
    "def process_text(text):\n",
    "    \n",
    "    # Lowercase\n",
    "    text = text.lower()\n",
    "    # Remove punctuation and numbers\n",
    "    text = re.sub(r'\\d+|[^\\w\\s]', '', text)\n",
    "    # Tokenize and lemmatize\n",
    "    wnl = WordNetLemmatizer()\n",
    "    tokens = [wnl.lemmatize(word) for word in casual_tokenizer(text) if word not in stop_words]\n",
    "    text = [each for each in tokens if len(each) > 1]\n",
    "    text = [each for each in text if ' ' not in each]\n",
    "    return \" \".join(text)\n",
    "\n",
    "def top_words(topic, n_top_words):\n",
    "    return topic.argsort()[:-n_top_words - 1:-1]  "
   ]
  },
  {
   "cell_type": "code",
   "execution_count": 56,
   "metadata": {},
   "outputs": [
    {
     "data": {
      "text/plain": [
       "\"The 21st century healthcare systems aim at involving citizen and health professionals alike entitling especially the citizens to take over a higher level of responsibility for their own health status. Applied technologies like, e.g., Internet, notebooks, and mobile phones enable patients to actively participate in treatment and rehabilitation. It's not any longer just health cards; it's an ongoing standardized personalization of health services including application of portable devices, sensors and actuators stipulating the personalized health approach while offering chances for practicing high quality wireless personalized shared care. The path from cards to personalized and portable devices tackles aspects like health advisors, RFDI technology, the EHR, chips, and smart objects. It is important to identify criteria and factors determining the application of such personalized devices in a wirelessly operated healthcare and welfare, the paradigm change from cards to secure wireless devices to mobile sensors, and the citizen's acceptance of underlying technologies. The presentations of the workshop jointly organized by EFMI WG  Personal Portable Devices (PPD)  and ISO/IEC JTC 1  Study Group on Sensor Networks (SGSN)  therefore aim at introducing technical approaches and standardization activities as well as emerging implementations in the addressed domain.\""
      ]
     },
     "execution_count": 56,
     "metadata": {},
     "output_type": "execute_result"
    }
   ],
   "source": [
    "documents[\"abstract\"][19745466]"
   ]
  },
  {
   "cell_type": "code",
   "execution_count": 68,
   "metadata": {},
   "outputs": [
    {
     "data": {
      "text/plain": [
       "'st century healthcare system aim involving citizen health professional alike entitling especially citizen higher level responsibility health status applied technology like internet notebook mobile phone enable patient actively participate treatment rehabilitation longer just health card ongoing standardized personalization health service including application portable device sensor actuator stipulating personalized health approach offering chance practicing high quality wireless personalized shared care path card personalized portable device tackle aspect like health advisor rfdi technology ehr chip smart object important identify criterion factor determining application personalized device wirelessly operated healthcare welfare paradigm change card secure wireless device mobile sensor citizen acceptance underlying technology presentation workshop jointly organized efmi wg personal portable device ppd isoiec jtc group sensor network sgsn aim introducing technical approach standardization activity emerging implementation addressed domain'"
      ]
     },
     "execution_count": 68,
     "metadata": {},
     "output_type": "execute_result"
    }
   ],
   "source": [
    "process_text(documents[\"abstract\"][19745466])"
   ]
  },
  {
   "cell_type": "code",
   "execution_count": 61,
   "metadata": {},
   "outputs": [
    {
     "data": {
      "text/plain": [
       "pmid\n",
       "19745467    computerization general practice international...\n",
       "19745466    st century healthcare system aim involving cit...\n",
       "19745465    formal modeling clinical content available int...\n",
       "19745464    workshop proposed efmi wg health informatics i...\n",
       "19745463    cost action ic telepathology network europe eu...\n",
       "                                  ...                        \n",
       "39176482    advance utility synthetic hematology particula...\n",
       "39176481    administrable dose form obtained notransformat...\n",
       "39176480    key research area kras identified establish se...\n",
       "39176479    paper present versatile solution formally repr...\n",
       "39176478    international classification icdwho icdwho sex...\n",
       "Name: processed_abstracts, Length: 4497, dtype: object"
      ]
     },
     "execution_count": 61,
     "metadata": {},
     "output_type": "execute_result"
    }
   ],
   "source": [
    "### tokenize the abstracts\n",
    "documents['processed_abstracts'] = documents['abstract'].apply(process_text)\n",
    "documents['processed_abstracts']"
   ]
  },
  {
   "cell_type": "code",
   "execution_count": 70,
   "metadata": {},
   "outputs": [],
   "source": [
    "from sklearn.feature_extraction.text import CountVectorizer\n",
    "# Initialize CountVectorizer\n",
    "vectorizer = CountVectorizer(max_df=0.80, min_df=5)\n",
    "\n",
    "# Fit and transform the processed abstracts into DTM\n",
    "dtm = vectorizer.fit_transform(documents['processed_abstracts'])"
   ]
  },
  {
   "cell_type": "code",
   "execution_count": 77,
   "metadata": {},
   "outputs": [
    {
     "name": "stderr",
     "output_type": "stream",
     "text": [
      "/Library/Frameworks/Python.framework/Versions/3.9/lib/python3.9/site-packages/sklearn/decomposition/_nmf.py:289: FutureWarning: The 'init' value, when 'init=None' and n_components is less than n_samples and n_features, will be changed from 'nndsvd' to 'nndsvda' in 1.1 (renaming of 0.26).\n",
      "  warnings.warn(\n"
     ]
    }
   ],
   "source": [
    "from sklearn.decomposition import NMF\n",
    "\n",
    "# Specify the number of topics\n",
    "n_topics = 20  # or any number based on your analysis needs\n",
    "nmf_model = NMF(n_components=n_topics)\n",
    "W = nmf_model.fit_transform(dtm)  # Document-topic matrix\n",
    "H = nmf_model.components_         # Topic-term matrix"
   ]
  },
  {
   "cell_type": "code",
   "execution_count": 78,
   "metadata": {},
   "outputs": [
    {
     "name": "stdout",
     "output_type": "stream",
     "text": [
      "Topic #1:\n",
      "test,algorithm,feature,classification,paper,approach,result,using,used,method\n",
      "Topic #2:\n",
      "informatics,ehealth,social,technology,public,professional,digital,national,service,health\n",
      "Topic #3:\n",
      "content,retrieval,internet,physician,communication,web,management,need,access,information\n",
      "Topic #4:\n",
      "tool,used,use,standard,practice,support,decision,trial,guideline,clinical\n",
      "Topic #5:\n",
      "network,predict,machine,prediction,used,performance,based,using,learning,model\n",
      "Topic #6:\n",
      "chronic,based,used,outcome,risk,cancer,group,treatment,disease,patient\n",
      "Topic #7:\n",
      "delivery,present,need,ai,professional,application,paper,technology,service,healthcare\n",
      "Topic #8:\n",
      "year,curriculum,field,text,university,education,language,student,informatics,medical\n",
      "Topic #9:\n",
      "shared,network,need,improve,provider,management,primary,quality,support,care\n",
      "Topic #10:\n",
      "mapping,semantic,language,ontology,code,term,terminology,concept,ct,snomed\n",
      "Topic #11:\n",
      "emr,health,access,ehrs,work,paper,document,ehr,electronic,record\n",
      "Topic #12:\n",
      "based,different,integration,ehr,standard,paper,approach,support,development,system\n",
      "Topic #13:\n",
      "interface,need,paper,technology,evaluation,design,application,usability,use,user\n",
      "Topic #14:\n",
      "business,support,tool,assessment,error,development,design,mining,quality,process\n",
      "Topic #15:\n",
      "developed,aim,development,database,paper,study,approach,quality,project,research\n",
      "Topic #16:\n",
      "stay,emergency,project,order,department,management,time,service,university,hospital\n",
      "Topic #17:\n",
      "access,imaging,based,using,algorithm,feature,dicom,database,network,image\n",
      "Topic #18:\n",
      "case,approach,management,rule,guideline,disease,ontology,support,decision,knowledge\n",
      "Topic #19:\n",
      "classification,ci,documentation,intervention,outcome,practice,icnp,application,nurse,nursing\n",
      "Topic #20:\n",
      "language,parameter,activity,using,used,disease,time,result,tool,analysis\n"
     ]
    }
   ],
   "source": [
    "feature_names = vectorizer.get_feature_names_out()\n",
    "for index, topic in enumerate(H):\n",
    "    print(f\"Topic #{index + 1}:\")\n",
    "    print(\",\".join([feature_names[i] for i in topic.argsort()[-10:]]))  # Top 10 words per topic"
   ]
  },
  {
   "cell_type": "code",
   "execution_count": 79,
   "metadata": {},
   "outputs": [
    {
     "name": "stdout",
     "output_type": "stream",
     "text": [
      "Document #1 dominant topic: Topic 12\n",
      "Topic Distribution for Document #1:\n",
      "Topic 1: 0.0000\n",
      "Topic 2: 0.0000\n",
      "Topic 3: 0.0020\n",
      "Topic 4: 0.2361\n",
      "Topic 5: 0.0092\n",
      "Topic 6: 0.0000\n",
      "Topic 7: 0.0000\n",
      "Topic 8: 0.0014\n",
      "Topic 9: 0.1018\n",
      "Topic 10: 0.0201\n",
      "Topic 11: 0.1500\n",
      "Topic 12: 0.4295\n",
      "Topic 13: 0.0957\n",
      "Topic 14: 0.0000\n",
      "Topic 15: 0.0000\n",
      "Topic 16: 0.0144\n",
      "Topic 17: 0.0317\n",
      "Topic 18: 0.0000\n",
      "Topic 19: 0.0727\n",
      "Topic 20: 0.3220\n",
      "\n",
      "Top words for Dominant Topic 12:\n",
      "based different integration ehr standard paper approach support development system\n",
      "['Attitude to Computers', 'Computer Systems', 'Decision Making', 'Education', 'Family Practice', 'Humans', 'Medical Records Systems, Computerized', 'Observation', 'Outcome and Process Assessment, Health Care', 'Physician-Patient Relations', 'Referral and Consultation', 'Video Recording']\n",
      "Computerization of general practice is an international phenomenon. Many of the Electronic Patient Record (EPR) systems have developed organically with considerable variation in their interface and functionality. Consequently they have differing impact on the clinical consultation. There is a dearth of tools available to study their impact on the consultation. The objective is to use ALFA to film and analyze a simulated clinical consultation. We used the ALFA (Activity Log File Aggregation) open source toolkit, to make video based observation and analysis of the computer mediated consultation. ALFA enables precise comparison of core elements of EPR systems. It allows multiple video channels including screen capture, data about computer use, and verbal interactions to be synchronized, timed and navigated through for analysis. The toolkit is free and can be downloaded under an open source license from www.biomedicalinformatics.info/alfa/. Its outputs, which include Unified Modelling Language (UML), provide the evidence-base for assessing the impact of the computer on the consultation the designing of EPR systems. ALFA has been used to compare different brands of primary care computer systems; nurse case-load selection and consultation in psychiatry.\n"
     ]
    }
   ],
   "source": [
    "import numpy as np\n",
    "\n",
    "# Let's say we want the topic distribution for the first document (index 0)\n",
    "document_index = 0\n",
    "document_topics = W[document_index]  # Get topic weights for this document\n",
    "\n",
    "# Identify the dominant topic for this document\n",
    "dominant_topic = np.argmax(document_topics)\n",
    "\n",
    "print(f\"Document #{document_index + 1} dominant topic: Topic {dominant_topic + 1}\")\n",
    "print(f\"Topic Distribution for Document #{document_index + 1}:\")\n",
    "for topic_idx, weight in enumerate(document_topics):\n",
    "    print(f\"Topic {topic_idx + 1}: {weight:.4f}\")\n",
    "\n",
    "# Print the top words for the dominant topic to understand its meaning\n",
    "top_word_indices = H[dominant_topic].argsort()[-10:]  # Top 10 words for the dominant topic\n",
    "print(f\"\\nTop words for Dominant Topic {dominant_topic + 1}:\")\n",
    "print(\" \".join([feature_names[i] for i in top_word_indices]))\n",
    "print(documents.iloc[document_index][\"keywords\"])\n",
    "print(documents.iloc[document_index][\"abstract\"])"
   ]
  },
  {
   "cell_type": "code",
   "execution_count": null,
   "metadata": {},
   "outputs": [],
   "source": []
  },
  {
   "cell_type": "markdown",
   "metadata": {},
   "source": [
    "### Run NMF"
   ]
  },
  {
   "cell_type": "code",
   "execution_count": null,
   "metadata": {},
   "outputs": [],
   "source": []
  }
 ],
 "metadata": {
  "kernelspec": {
   "display_name": "Python 3 (ipykernel)",
   "language": "python",
   "name": "python3"
  },
  "language_info": {
   "codemirror_mode": {
    "name": "ipython",
    "version": 3
   },
   "file_extension": ".py",
   "mimetype": "text/x-python",
   "name": "python",
   "nbconvert_exporter": "python",
   "pygments_lexer": "ipython3",
   "version": "3.9.2"
  }
 },
 "nbformat": 4,
 "nbformat_minor": 2
}
