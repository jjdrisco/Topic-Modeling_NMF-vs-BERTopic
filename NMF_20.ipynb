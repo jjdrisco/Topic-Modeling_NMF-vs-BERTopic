{
  "cells": [
    {
      "cell_type": "markdown",
      "metadata": {
        "id": "8BOIDXt2nhjf"
      },
      "source": [
        "### Import Statements"
      ]
    },
    {
      "cell_type": "code",
      "source": [
        "#!git clone https://github.com/jjdrisco/dsc210project.git"
      ],
      "metadata": {
        "id": "bE1k8pg6n1Vo"
      },
      "execution_count": 1,
      "outputs": []
    },
    {
      "cell_type": "code",
      "execution_count": 2,
      "metadata": {
        "id": "wWGdNuumnhji"
      },
      "outputs": [],
      "source": [
        "import pandas as pd\n",
        "import numpy as np\n",
        "import seaborn as sns\n",
        "import matplotlib.pyplot as plt\n",
        "from sklearn.feature_extraction.text import ENGLISH_STOP_WORDS\n",
        "import string\n",
        "import re\n",
        "from nltk.tokenize import TweetTokenizer, RegexpTokenizer\n",
        "import nltk\n",
        "from collections import Counter"
      ]
    },
    {
      "cell_type": "code",
      "execution_count": 3,
      "metadata": {
        "id": "ghFb74Amnhjl",
        "outputId": "4711928a-3951-4af1-a779-3cfe58cb1436",
        "colab": {
          "base_uri": "https://localhost:8080/"
        }
      },
      "outputs": [
        {
          "output_type": "stream",
          "name": "stderr",
          "text": [
            "[nltk_data] Downloading package wordnet to /root/nltk_data...\n",
            "[nltk_data]   Package wordnet is already up-to-date!\n",
            "[nltk_data] Downloading package words to /root/nltk_data...\n",
            "[nltk_data]   Package words is already up-to-date!\n"
          ]
        },
        {
          "output_type": "execute_result",
          "data": {
            "text/plain": [
              "True"
            ]
          },
          "metadata": {},
          "execution_count": 3
        }
      ],
      "source": [
        "#tokenization resources\n",
        "from nltk.stem import WordNetLemmatizer\n",
        "nltk.download(\"wordnet\")\n",
        "from nltk.corpus import words\n",
        "nltk.download('words')"
      ]
    },
    {
      "cell_type": "code",
      "execution_count": 4,
      "metadata": {
        "id": "vE8oWrHmnhjl"
      },
      "outputs": [],
      "source": [
        "#for NMF\n",
        "from sklearn.feature_extraction.text import TfidfVectorizer\n",
        "from sklearn.decomposition import NMF\n"
      ]
    },
    {
      "cell_type": "code",
      "execution_count": 5,
      "metadata": {
        "id": "RNDDFf2unhjm"
      },
      "outputs": [],
      "source": [
        "#for coherence implementation\n",
        "from gensim.models import Word2Vec\n",
        "from itertools import combinations\n",
        "from operator import itemgetter"
      ]
    },
    {
      "cell_type": "code",
      "source": [
        "#!pip install octis"
      ],
      "metadata": {
        "id": "kxT63GdRoaXB"
      },
      "execution_count": 6,
      "outputs": []
    },
    {
      "cell_type": "code",
      "execution_count": 7,
      "metadata": {
        "id": "NYUFZKGFnhjm"
      },
      "outputs": [],
      "source": [
        "#for topic diveristy\n",
        "from octis.evaluation_metrics.diversity_metrics import TopicDiversity"
      ]
    },
    {
      "cell_type": "markdown",
      "metadata": {
        "id": "1day54Pqnhjm"
      },
      "source": [
        "### Data Cleaning & EDA"
      ]
    },
    {
      "cell_type": "markdown",
      "metadata": {
        "id": "4z3y3eofnhjn"
      },
      "source": [
        "Our dataset is a collection of 18,000 newsgroup documents from 20 different newgroups. The dataset has been split into training and testing subsets. We will be training our topic model on the larger subset, the training set. Since our algorithm is an unsupervised machine learning algorithm, we will not be using the test set. Additionally, the target values for the 20 different newsgroups will be used to assess the evaluation of our model in correctly extracting relevant topics."
      ]
    },
    {
      "cell_type": "code",
      "execution_count": 8,
      "metadata": {
        "id": "7sdril7lnhjo"
      },
      "outputs": [],
      "source": [
        "# import dataset from sklearn and remove headers and footers for a more realistic model\n",
        "\n",
        "from sklearn.datasets import fetch_20newsgroups\n",
        "dataset = fetch_20newsgroups(subset='train', remove=['headers', 'footers'])"
      ]
    },
    {
      "cell_type": "markdown",
      "metadata": {
        "id": "jg0g0ctAnhjq"
      },
      "source": [
        "Past research on this dataset has shown a tendency for topic models to overfit on headers, so we have removed them from the data. This will improve generalizability to other documents that do not follow the same format.\n",
        "\n",
        "The data is split into document contents and targets. The 20 newsgroup targets are show below."
      ]
    },
    {
      "cell_type": "code",
      "execution_count": 9,
      "metadata": {
        "id": "yYAL3f4Wnhjs",
        "outputId": "90e91d12-3da2-46d8-8312-f6aa0fe43f42",
        "colab": {
          "base_uri": "https://localhost:8080/"
        }
      },
      "outputs": [
        {
          "output_type": "execute_result",
          "data": {
            "text/plain": [
              "['alt.atheism',\n",
              " 'comp.graphics',\n",
              " 'comp.os.ms-windows.misc',\n",
              " 'comp.sys.ibm.pc.hardware',\n",
              " 'comp.sys.mac.hardware',\n",
              " 'comp.windows.x',\n",
              " 'misc.forsale',\n",
              " 'rec.autos',\n",
              " 'rec.motorcycles',\n",
              " 'rec.sport.baseball',\n",
              " 'rec.sport.hockey',\n",
              " 'sci.crypt',\n",
              " 'sci.electronics',\n",
              " 'sci.med',\n",
              " 'sci.space',\n",
              " 'soc.religion.christian',\n",
              " 'talk.politics.guns',\n",
              " 'talk.politics.mideast',\n",
              " 'talk.politics.misc',\n",
              " 'talk.religion.misc']"
            ]
          },
          "metadata": {},
          "execution_count": 9
        }
      ],
      "source": [
        "dataset.target_names"
      ]
    },
    {
      "cell_type": "markdown",
      "metadata": {
        "id": "5kdCW6Xynhju"
      },
      "source": [
        "An example of a document and its corresponding newsgroup is illustrated. _Data_ includes the content of the newsgroup document, _target_ includes the index of the category of the newsgroup, and _target_names_ includes the name of the category of the newsgroup."
      ]
    },
    {
      "cell_type": "code",
      "execution_count": 10,
      "metadata": {
        "id": "7D336DnBnhju",
        "outputId": "d03b9e21-bd75-4cab-990a-8520525a9b0d",
        "colab": {
          "base_uri": "https://localhost:8080/",
          "height": 0
        }
      },
      "outputs": [
        {
          "output_type": "execute_result",
          "data": {
            "text/plain": [
              "\"Robert J.C. Kyanko (rob@rjck.UUCP) wrote:\\n> abraxis@iastate.edu writes in article <abraxis.734340159@class1.iastate.edu>:\\n> > Anyone know about the Weitek P9000 graphics chip?\\n> As far as the low-level stuff goes, it looks pretty nice.  It's got this\\n> quadrilateral fill command that requires just the four points.\\n\\nDo you have Weitek's address/phone number?  I'd like to get some information\\nabout this chip.\\n\""
            ],
            "application/vnd.google.colaboratory.intrinsic+json": {
              "type": "string"
            }
          },
          "metadata": {},
          "execution_count": 10
        }
      ],
      "source": [
        "dataset.data[3]"
      ]
    },
    {
      "cell_type": "code",
      "execution_count": 11,
      "metadata": {
        "id": "nmLk86Scnhju",
        "outputId": "ad686889-b62b-41da-efa0-b933105fa7ce",
        "colab": {
          "base_uri": "https://localhost:8080/"
        }
      },
      "outputs": [
        {
          "output_type": "execute_result",
          "data": {
            "text/plain": [
              "(1, 'comp.graphics')"
            ]
          },
          "metadata": {},
          "execution_count": 11
        }
      ],
      "source": [
        "dataset.target[3], dataset.target_names[dataset.target[3]]"
      ]
    },
    {
      "cell_type": "markdown",
      "metadata": {
        "id": "OocfUrMHnhju"
      },
      "source": [
        "We can represent this data as a dataframe for more efficient data cleaning and data exploration."
      ]
    },
    {
      "cell_type": "code",
      "execution_count": 12,
      "metadata": {
        "id": "EDBrwfoCnhjv",
        "outputId": "d28cd70d-a64c-4b48-dbc3-a743974a2f06",
        "colab": {
          "base_uri": "https://localhost:8080/",
          "height": 0
        }
      },
      "outputs": [
        {
          "output_type": "execute_result",
          "data": {
            "text/plain": [
              "                                            document  target  \\\n",
              "0  I was wondering if anyone out there could enli...       7   \n",
              "1  A fair number of brave souls who upgraded thei...       4   \n",
              "2  well folks, my mac plus finally gave up the gh...       4   \n",
              "3  Robert J.C. Kyanko (rob@rjck.UUCP) wrote:\\n> a...       1   \n",
              "4  From article <C5owCB.n3p@world.std.com>, by to...      14   \n",
              "\n",
              "               newsgroup  \n",
              "0              rec.autos  \n",
              "1  comp.sys.mac.hardware  \n",
              "2  comp.sys.mac.hardware  \n",
              "3          comp.graphics  \n",
              "4              sci.space  "
            ],
            "text/html": [
              "\n",
              "  <div id=\"df-0f4d0641-750d-493d-81e2-a37b3e9b5b7c\" class=\"colab-df-container\">\n",
              "    <div>\n",
              "<style scoped>\n",
              "    .dataframe tbody tr th:only-of-type {\n",
              "        vertical-align: middle;\n",
              "    }\n",
              "\n",
              "    .dataframe tbody tr th {\n",
              "        vertical-align: top;\n",
              "    }\n",
              "\n",
              "    .dataframe thead th {\n",
              "        text-align: right;\n",
              "    }\n",
              "</style>\n",
              "<table border=\"1\" class=\"dataframe\">\n",
              "  <thead>\n",
              "    <tr style=\"text-align: right;\">\n",
              "      <th></th>\n",
              "      <th>document</th>\n",
              "      <th>target</th>\n",
              "      <th>newsgroup</th>\n",
              "    </tr>\n",
              "  </thead>\n",
              "  <tbody>\n",
              "    <tr>\n",
              "      <th>0</th>\n",
              "      <td>I was wondering if anyone out there could enli...</td>\n",
              "      <td>7</td>\n",
              "      <td>rec.autos</td>\n",
              "    </tr>\n",
              "    <tr>\n",
              "      <th>1</th>\n",
              "      <td>A fair number of brave souls who upgraded thei...</td>\n",
              "      <td>4</td>\n",
              "      <td>comp.sys.mac.hardware</td>\n",
              "    </tr>\n",
              "    <tr>\n",
              "      <th>2</th>\n",
              "      <td>well folks, my mac plus finally gave up the gh...</td>\n",
              "      <td>4</td>\n",
              "      <td>comp.sys.mac.hardware</td>\n",
              "    </tr>\n",
              "    <tr>\n",
              "      <th>3</th>\n",
              "      <td>Robert J.C. Kyanko (rob@rjck.UUCP) wrote:\\n&gt; a...</td>\n",
              "      <td>1</td>\n",
              "      <td>comp.graphics</td>\n",
              "    </tr>\n",
              "    <tr>\n",
              "      <th>4</th>\n",
              "      <td>From article &lt;C5owCB.n3p@world.std.com&gt;, by to...</td>\n",
              "      <td>14</td>\n",
              "      <td>sci.space</td>\n",
              "    </tr>\n",
              "  </tbody>\n",
              "</table>\n",
              "</div>\n",
              "    <div class=\"colab-df-buttons\">\n",
              "\n",
              "  <div class=\"colab-df-container\">\n",
              "    <button class=\"colab-df-convert\" onclick=\"convertToInteractive('df-0f4d0641-750d-493d-81e2-a37b3e9b5b7c')\"\n",
              "            title=\"Convert this dataframe to an interactive table.\"\n",
              "            style=\"display:none;\">\n",
              "\n",
              "  <svg xmlns=\"http://www.w3.org/2000/svg\" height=\"24px\" viewBox=\"0 -960 960 960\">\n",
              "    <path d=\"M120-120v-720h720v720H120Zm60-500h600v-160H180v160Zm220 220h160v-160H400v160Zm0 220h160v-160H400v160ZM180-400h160v-160H180v160Zm440 0h160v-160H620v160ZM180-180h160v-160H180v160Zm440 0h160v-160H620v160Z\"/>\n",
              "  </svg>\n",
              "    </button>\n",
              "\n",
              "  <style>\n",
              "    .colab-df-container {\n",
              "      display:flex;\n",
              "      gap: 12px;\n",
              "    }\n",
              "\n",
              "    .colab-df-convert {\n",
              "      background-color: #E8F0FE;\n",
              "      border: none;\n",
              "      border-radius: 50%;\n",
              "      cursor: pointer;\n",
              "      display: none;\n",
              "      fill: #1967D2;\n",
              "      height: 32px;\n",
              "      padding: 0 0 0 0;\n",
              "      width: 32px;\n",
              "    }\n",
              "\n",
              "    .colab-df-convert:hover {\n",
              "      background-color: #E2EBFA;\n",
              "      box-shadow: 0px 1px 2px rgba(60, 64, 67, 0.3), 0px 1px 3px 1px rgba(60, 64, 67, 0.15);\n",
              "      fill: #174EA6;\n",
              "    }\n",
              "\n",
              "    .colab-df-buttons div {\n",
              "      margin-bottom: 4px;\n",
              "    }\n",
              "\n",
              "    [theme=dark] .colab-df-convert {\n",
              "      background-color: #3B4455;\n",
              "      fill: #D2E3FC;\n",
              "    }\n",
              "\n",
              "    [theme=dark] .colab-df-convert:hover {\n",
              "      background-color: #434B5C;\n",
              "      box-shadow: 0px 1px 3px 1px rgba(0, 0, 0, 0.15);\n",
              "      filter: drop-shadow(0px 1px 2px rgba(0, 0, 0, 0.3));\n",
              "      fill: #FFFFFF;\n",
              "    }\n",
              "  </style>\n",
              "\n",
              "    <script>\n",
              "      const buttonEl =\n",
              "        document.querySelector('#df-0f4d0641-750d-493d-81e2-a37b3e9b5b7c button.colab-df-convert');\n",
              "      buttonEl.style.display =\n",
              "        google.colab.kernel.accessAllowed ? 'block' : 'none';\n",
              "\n",
              "      async function convertToInteractive(key) {\n",
              "        const element = document.querySelector('#df-0f4d0641-750d-493d-81e2-a37b3e9b5b7c');\n",
              "        const dataTable =\n",
              "          await google.colab.kernel.invokeFunction('convertToInteractive',\n",
              "                                                    [key], {});\n",
              "        if (!dataTable) return;\n",
              "\n",
              "        const docLinkHtml = 'Like what you see? Visit the ' +\n",
              "          '<a target=\"_blank\" href=https://colab.research.google.com/notebooks/data_table.ipynb>data table notebook</a>'\n",
              "          + ' to learn more about interactive tables.';\n",
              "        element.innerHTML = '';\n",
              "        dataTable['output_type'] = 'display_data';\n",
              "        await google.colab.output.renderOutput(dataTable, element);\n",
              "        const docLink = document.createElement('div');\n",
              "        docLink.innerHTML = docLinkHtml;\n",
              "        element.appendChild(docLink);\n",
              "      }\n",
              "    </script>\n",
              "  </div>\n",
              "\n",
              "\n",
              "<div id=\"df-d8b69819-e412-4c2d-a621-270f3b37705e\">\n",
              "  <button class=\"colab-df-quickchart\" onclick=\"quickchart('df-d8b69819-e412-4c2d-a621-270f3b37705e')\"\n",
              "            title=\"Suggest charts\"\n",
              "            style=\"display:none;\">\n",
              "\n",
              "<svg xmlns=\"http://www.w3.org/2000/svg\" height=\"24px\"viewBox=\"0 0 24 24\"\n",
              "     width=\"24px\">\n",
              "    <g>\n",
              "        <path d=\"M19 3H5c-1.1 0-2 .9-2 2v14c0 1.1.9 2 2 2h14c1.1 0 2-.9 2-2V5c0-1.1-.9-2-2-2zM9 17H7v-7h2v7zm4 0h-2V7h2v10zm4 0h-2v-4h2v4z\"/>\n",
              "    </g>\n",
              "</svg>\n",
              "  </button>\n",
              "\n",
              "<style>\n",
              "  .colab-df-quickchart {\n",
              "      --bg-color: #E8F0FE;\n",
              "      --fill-color: #1967D2;\n",
              "      --hover-bg-color: #E2EBFA;\n",
              "      --hover-fill-color: #174EA6;\n",
              "      --disabled-fill-color: #AAA;\n",
              "      --disabled-bg-color: #DDD;\n",
              "  }\n",
              "\n",
              "  [theme=dark] .colab-df-quickchart {\n",
              "      --bg-color: #3B4455;\n",
              "      --fill-color: #D2E3FC;\n",
              "      --hover-bg-color: #434B5C;\n",
              "      --hover-fill-color: #FFFFFF;\n",
              "      --disabled-bg-color: #3B4455;\n",
              "      --disabled-fill-color: #666;\n",
              "  }\n",
              "\n",
              "  .colab-df-quickchart {\n",
              "    background-color: var(--bg-color);\n",
              "    border: none;\n",
              "    border-radius: 50%;\n",
              "    cursor: pointer;\n",
              "    display: none;\n",
              "    fill: var(--fill-color);\n",
              "    height: 32px;\n",
              "    padding: 0;\n",
              "    width: 32px;\n",
              "  }\n",
              "\n",
              "  .colab-df-quickchart:hover {\n",
              "    background-color: var(--hover-bg-color);\n",
              "    box-shadow: 0 1px 2px rgba(60, 64, 67, 0.3), 0 1px 3px 1px rgba(60, 64, 67, 0.15);\n",
              "    fill: var(--button-hover-fill-color);\n",
              "  }\n",
              "\n",
              "  .colab-df-quickchart-complete:disabled,\n",
              "  .colab-df-quickchart-complete:disabled:hover {\n",
              "    background-color: var(--disabled-bg-color);\n",
              "    fill: var(--disabled-fill-color);\n",
              "    box-shadow: none;\n",
              "  }\n",
              "\n",
              "  .colab-df-spinner {\n",
              "    border: 2px solid var(--fill-color);\n",
              "    border-color: transparent;\n",
              "    border-bottom-color: var(--fill-color);\n",
              "    animation:\n",
              "      spin 1s steps(1) infinite;\n",
              "  }\n",
              "\n",
              "  @keyframes spin {\n",
              "    0% {\n",
              "      border-color: transparent;\n",
              "      border-bottom-color: var(--fill-color);\n",
              "      border-left-color: var(--fill-color);\n",
              "    }\n",
              "    20% {\n",
              "      border-color: transparent;\n",
              "      border-left-color: var(--fill-color);\n",
              "      border-top-color: var(--fill-color);\n",
              "    }\n",
              "    30% {\n",
              "      border-color: transparent;\n",
              "      border-left-color: var(--fill-color);\n",
              "      border-top-color: var(--fill-color);\n",
              "      border-right-color: var(--fill-color);\n",
              "    }\n",
              "    40% {\n",
              "      border-color: transparent;\n",
              "      border-right-color: var(--fill-color);\n",
              "      border-top-color: var(--fill-color);\n",
              "    }\n",
              "    60% {\n",
              "      border-color: transparent;\n",
              "      border-right-color: var(--fill-color);\n",
              "    }\n",
              "    80% {\n",
              "      border-color: transparent;\n",
              "      border-right-color: var(--fill-color);\n",
              "      border-bottom-color: var(--fill-color);\n",
              "    }\n",
              "    90% {\n",
              "      border-color: transparent;\n",
              "      border-bottom-color: var(--fill-color);\n",
              "    }\n",
              "  }\n",
              "</style>\n",
              "\n",
              "  <script>\n",
              "    async function quickchart(key) {\n",
              "      const quickchartButtonEl =\n",
              "        document.querySelector('#' + key + ' button');\n",
              "      quickchartButtonEl.disabled = true;  // To prevent multiple clicks.\n",
              "      quickchartButtonEl.classList.add('colab-df-spinner');\n",
              "      try {\n",
              "        const charts = await google.colab.kernel.invokeFunction(\n",
              "            'suggestCharts', [key], {});\n",
              "      } catch (error) {\n",
              "        console.error('Error during call to suggestCharts:', error);\n",
              "      }\n",
              "      quickchartButtonEl.classList.remove('colab-df-spinner');\n",
              "      quickchartButtonEl.classList.add('colab-df-quickchart-complete');\n",
              "    }\n",
              "    (() => {\n",
              "      let quickchartButtonEl =\n",
              "        document.querySelector('#df-d8b69819-e412-4c2d-a621-270f3b37705e button');\n",
              "      quickchartButtonEl.style.display =\n",
              "        google.colab.kernel.accessAllowed ? 'block' : 'none';\n",
              "    })();\n",
              "  </script>\n",
              "</div>\n",
              "\n",
              "    </div>\n",
              "  </div>\n"
            ],
            "application/vnd.google.colaboratory.intrinsic+json": {
              "type": "dataframe",
              "variable_name": "newsgroup_df",
              "summary": "{\n  \"name\": \"newsgroup_df\",\n  \"rows\": 11314,\n  \"fields\": [\n    {\n      \"column\": \"document\",\n      \"properties\": {\n        \"dtype\": \"string\",\n        \"num_unique_values\": 11267,\n        \"samples\": [\n          \"hi all,\\n\\nIN SHORT: looking for very fast assembly code for line/circle drawing\\n\\t  on SVGA graphics.\\n\\nCOMPLETE:\\n\\tI am thinking of a simple but fast molecular\\ngraphics program to write on PC or clones. (ball-and-stick type)\\n\\nReasons: programs that I've seen are far too slow for this purpose.\\n\\nPlatform: 386/486 class machine.\\n\\t  800x600-16 or 1024x728-16 VGA graphics\\n\\t\\t(speed is important, 16-color for non-rendering\\n\\t\\t purpose is enough; may stay at 800x600 for\\n\\t\\t speed reason.)\\n         (hope the code would be generic enough for different SVGA\\n          cards.  My own card is based on Trident 8900c, not VESA?)\\n\\nWhat I'm looking for?\\n1) fast, very fast routines to draw lines/circles/simple-shapes\\n   on above-mentioned SVGA resolutions.\\n   Presumably in assembly languagine.\\n\\tYes, VERY FAST please.\\n2) related codes to help rotating/zooming/animating the drawings on screen.\\n   Drawings for beginning, would be lines, circles mainly, think of\\n   text, else later.\\n   (you know, the way molecular graphics rotates, zooms a molecule)\\n2) and any other codes (preferentially in C) that can help the \\n   project.\\n\\nFinal remarks;-\\nnon-profit.  expected to become share-, free-ware.\\n\\n\\tAny help is appreciated.\\n\\tthanks\\n\\n-Frankie\\nlau@tammy.harvard.edu\",\n          \"In article <1993Apr16.061736.8785@CSD-NewsHost.Stanford.EDU> robert@Xenon.Stanf\\nord.EDU (Robert Kennedy) writes:\\n>I've seen solar battery boosters, and they seem to come without any\\n>guarantee. On the other hand, I've heard that some people use them\\n>with success, although I have yet to communicate directly with such a\\n>person. Have you tried one? What was your experience? How did you use\\n>it (occasional charging, long-term leave-it-for-weeks, etc.)?\\n>\\n>    -- Robert Kennedy\\n\\nI have a cheap solar charger that I keep in my car.  I purchased it via\\nsome mail order catalog when the 4 year old battery in my Oldsmobile would\\nrun down during Summer when I was riding my bike more than driving my car.\\nKnowing I'd be selling the car in a year or so, I purchased the charger.\\nBelieve it or not, the thing worked.  The battery held a charge and\\nenergetically started the car, many times after 4 or 5 weeks of just\\nsitting.\\n\\nEventually I had to purchase a new battery anyway because the Winter sun\\nwasn't strong enough due to its low angle.\\n\\nI think I paid $29 or $30 for the charger.  There are more powerful, more\\nexpensive ones, but I purchased the cheapest one I could find.\\n\\nI've never used it on the bike because I have an E-Z Charger on it and\\nkeep it plugged in all the time the bike is garaged.\",\n          \"I need some advice on having someone ride pillion with me on my 750 Ninja.\\nThis will be the the first time I've taken anyone for an extended ride\\n(read: farther than around the block  :-).  We'll be riding some twisty, \\nfairly bumpy roads (the Mines Road-Mt.Hamilton Loop for you SF Bay Areans).\\n\\nThis person is <100 lbs. and fairly small, so I don't see weight as too much\\nof a problem, but what sort of of advice should I give her before we go?\\nI want her to hold onto me  :-)   rather than the grab rail out back, and\\nI've heard that she should look over my shoulder in the direction we're\\nturning so she leans *with* me, but what else?  Are there traditional\\nsignals for SLOW DOWN!! or GO FASTER!! or I HAFTA GO PEE!! etc.???\\n\\nI really want this to be a positive experience for us both, mainly so that\\nshe'll want to go with me again, so any help will be appreciated...\\n\\nThanks,\\n        -Bob-\"\n        ],\n        \"semantic_type\": \"\",\n        \"description\": \"\"\n      }\n    },\n    {\n      \"column\": \"target\",\n      \"properties\": {\n        \"dtype\": \"number\",\n        \"std\": 5,\n        \"min\": 0,\n        \"max\": 19,\n        \"num_unique_values\": 20,\n        \"samples\": [\n          7,\n          17,\n          9\n        ],\n        \"semantic_type\": \"\",\n        \"description\": \"\"\n      }\n    },\n    {\n      \"column\": \"newsgroup\",\n      \"properties\": {\n        \"dtype\": \"category\",\n        \"num_unique_values\": 20,\n        \"samples\": [\n          \"rec.autos\",\n          \"talk.politics.mideast\",\n          \"rec.sport.baseball\"\n        ],\n        \"semantic_type\": \"\",\n        \"description\": \"\"\n      }\n    }\n  ]\n}"
            }
          },
          "metadata": {},
          "execution_count": 12
        }
      ],
      "source": [
        "newsgroup_df = pd.DataFrame({\"document\": dataset.data, \"target\": dataset.target})\n",
        "newsgroup_df = newsgroup_df.assign(newsgroup=newsgroup_df[\"target\"].apply(lambda x: dataset.target_names[x]))\n",
        "newsgroup_df.head()"
      ]
    },
    {
      "cell_type": "markdown",
      "metadata": {
        "id": "JBveYV8ynhjv"
      },
      "source": [
        "Let's do some exploratory data analysis to better understand our dataset. First, we can look at the distriubtion of our newsgroup targets to see if there are any outliers."
      ]
    },
    {
      "cell_type": "code",
      "execution_count": 13,
      "metadata": {
        "id": "p8F45NIvnhjv",
        "outputId": "072c6425-509e-4dff-8f35-d276254e6022",
        "colab": {
          "base_uri": "https://localhost:8080/",
          "height": 0
        }
      },
      "outputs": [
        {
          "output_type": "execute_result",
          "data": {
            "text/plain": [
              "Text(0.5, 0, 'Number of Corresponding Documents')"
            ]
          },
          "metadata": {},
          "execution_count": 13
        },
        {
          "output_type": "display_data",
          "data": {
            "text/plain": [
              "<Figure size 1800x1000 with 1 Axes>"
            ],
            "image/png": "[encoded data removed]"
          },
          "metadata": {}
        }
      ],
      "source": [
        "# plot the distribution of the newsgroups\n",
        "fig1 = plt.figure(figsize =[18 ,10])\n",
        "ax = sns.countplot(y=newsgroup_df['newsgroup'], color=\"lightblue\", order=dataset.target_names)\n",
        "plt.title('Distribution of Newsgroup Targets', size=20)\n",
        "plt.ylabel('Newsgroup Topic', size = 15)\n",
        "plt.xlabel('Number of Corresponding Documents', size = 15)"
      ]
    },
    {
      "cell_type": "markdown",
      "metadata": {
        "id": "Bc1ycDACnhjv"
      },
      "source": [
        "Talk.politics.misc and talk.religion.misc are more abstract, overlap with other topics like talk.politics.guns and alt.atheism, and have lower counts of associated documents. We will remove them from our training set and focus on the remaining 18 topics instead."
      ]
    },
    {
      "cell_type": "code",
      "execution_count": 14,
      "metadata": {
        "id": "_uRL4dDGnhjv",
        "outputId": "1d90cda6-127a-4512-da6d-b6dce3b97bd0",
        "colab": {
          "base_uri": "https://localhost:8080/"
        }
      },
      "outputs": [
        {
          "output_type": "execute_result",
          "data": {
            "text/plain": [
              "(10472, 3)"
            ]
          },
          "metadata": {},
          "execution_count": 14
        }
      ],
      "source": [
        "newsgroup_df = newsgroup_df[(newsgroup_df[\"newsgroup\"] != 'talk.politics.misc') & (newsgroup_df[\"newsgroup\"] != 'talk.religion.misc')]\n",
        "newsgroup_df.shape"
      ]
    },
    {
      "cell_type": "code",
      "execution_count": 15,
      "metadata": {
        "id": "Vwmw1oAonhjw",
        "outputId": "a7dd142a-46cb-4c06-a273-38023d25b942",
        "colab": {
          "base_uri": "https://localhost:8080/",
          "height": 0
        }
      },
      "outputs": [
        {
          "output_type": "execute_result",
          "data": {
            "text/plain": [
              "0        I was wondering if anyone out there could enli...\n",
              "1        A fair number of brave souls who upgraded thei...\n",
              "2        well folks, my mac plus finally gave up the gh...\n",
              "3        Robert J.C. Kyanko (rob@rjck.UUCP) wrote:\\n> a...\n",
              "4        From article <C5owCB.n3p@world.std.com>, by to...\n",
              "                               ...                        \n",
              "11309    DN> From: nyeda@cnsvax.uwec.edu (David Nye)\\nD...\n",
              "11310    I have a (very old) Mac 512k and a Mac Plus, b...\n",
              "11311    I just installed a DX2-66 CPU in a clone mothe...\n",
              "11312    In article <1qkgbuINNs9n@shelley.u.washington....\n",
              "11313    Stolen from Pasadena between 4:30 and 6:30 pm ...\n",
              "Name: document, Length: 10472, dtype: object"
            ],
            "text/html": [
              "<div>\n",
              "<style scoped>\n",
              "    .dataframe tbody tr th:only-of-type {\n",
              "        vertical-align: middle;\n",
              "    }\n",
              "\n",
              "    .dataframe tbody tr th {\n",
              "        vertical-align: top;\n",
              "    }\n",
              "\n",
              "    .dataframe thead th {\n",
              "        text-align: right;\n",
              "    }\n",
              "</style>\n",
              "<table border=\"1\" class=\"dataframe\">\n",
              "  <thead>\n",
              "    <tr style=\"text-align: right;\">\n",
              "      <th></th>\n",
              "      <th>document</th>\n",
              "    </tr>\n",
              "  </thead>\n",
              "  <tbody>\n",
              "    <tr>\n",
              "      <th>0</th>\n",
              "      <td>I was wondering if anyone out there could enli...</td>\n",
              "    </tr>\n",
              "    <tr>\n",
              "      <th>1</th>\n",
              "      <td>A fair number of brave souls who upgraded thei...</td>\n",
              "    </tr>\n",
              "    <tr>\n",
              "      <th>2</th>\n",
              "      <td>well folks, my mac plus finally gave up the gh...</td>\n",
              "    </tr>\n",
              "    <tr>\n",
              "      <th>3</th>\n",
              "      <td>Robert J.C. Kyanko (rob@rjck.UUCP) wrote:\\n&gt; a...</td>\n",
              "    </tr>\n",
              "    <tr>\n",
              "      <th>4</th>\n",
              "      <td>From article &lt;C5owCB.n3p@world.std.com&gt;, by to...</td>\n",
              "    </tr>\n",
              "    <tr>\n",
              "      <th>...</th>\n",
              "      <td>...</td>\n",
              "    </tr>\n",
              "    <tr>\n",
              "      <th>11309</th>\n",
              "      <td>DN&gt; From: nyeda@cnsvax.uwec.edu (David Nye)\\nD...</td>\n",
              "    </tr>\n",
              "    <tr>\n",
              "      <th>11310</th>\n",
              "      <td>I have a (very old) Mac 512k and a Mac Plus, b...</td>\n",
              "    </tr>\n",
              "    <tr>\n",
              "      <th>11311</th>\n",
              "      <td>I just installed a DX2-66 CPU in a clone mothe...</td>\n",
              "    </tr>\n",
              "    <tr>\n",
              "      <th>11312</th>\n",
              "      <td>In article &lt;1qkgbuINNs9n@shelley.u.washington....</td>\n",
              "    </tr>\n",
              "    <tr>\n",
              "      <th>11313</th>\n",
              "      <td>Stolen from Pasadena between 4:30 and 6:30 pm ...</td>\n",
              "    </tr>\n",
              "  </tbody>\n",
              "</table>\n",
              "<p>10472 rows × 1 columns</p>\n",
              "</div><br><label><b>dtype:</b> object</label>"
            ]
          },
          "metadata": {},
          "execution_count": 15
        }
      ],
      "source": [
        "newsgroup_df[\"document\"]"
      ]
    },
    {
      "cell_type": "code",
      "execution_count": 16,
      "metadata": {
        "id": "b3EyemA7nhjw",
        "outputId": "23657122-0c38-4c5a-e069-f9978ff02d9a",
        "colab": {
          "base_uri": "https://localhost:8080/"
        }
      },
      "outputs": [
        {
          "output_type": "stream",
          "name": "stdout",
          "text": [
            "mean number of words: 257.52320473644005 standard deviation of number of words: 645.7135193230083\n"
          ]
        }
      ],
      "source": [
        "words_per_document = newsgroup_df[\"document\"].apply(lambda x: len(x.split(\" \")))\n",
        "mean_words = words_per_document.mean()\n",
        "std_words = words_per_document.std()\n",
        "print(\"mean number of words:\", mean_words, \"standard deviation of number of words:\", std_words)"
      ]
    },
    {
      "cell_type": "code",
      "execution_count": 17,
      "metadata": {
        "id": "NUyIsx2fnhjw",
        "outputId": "f481a73d-4f3b-4635-973d-480b5daae6e5",
        "colab": {
          "base_uri": "https://localhost:8080/"
        }
      },
      "outputs": [
        {
          "output_type": "execute_result",
          "data": {
            "text/plain": [
              "1189673"
            ]
          },
          "metadata": {},
          "execution_count": 17
        }
      ],
      "source": [
        "#total number of distinct words\n",
        "sum(words_per_document.unique())"
      ]
    },
    {
      "cell_type": "code",
      "execution_count": 18,
      "metadata": {
        "id": "-oGQv0YCnhjw",
        "outputId": "65b90c74-f818-4bdd-ff23-65be2e406ad0",
        "colab": {
          "base_uri": "https://localhost:8080/",
          "height": 0
        }
      },
      "outputs": [
        {
          "output_type": "execute_result",
          "data": {
            "text/plain": [
              "document\n",
              "714      1\n",
              "823      1\n",
              "789      1\n",
              "1138     1\n",
              "3953     1\n",
              "        ..\n",
              "625      1\n",
              "725      1\n",
              "4869     1\n",
              "10554    1\n",
              "631      1\n",
              "Name: count, Length: 300, dtype: int64"
            ],
            "text/html": [
              "<div>\n",
              "<style scoped>\n",
              "    .dataframe tbody tr th:only-of-type {\n",
              "        vertical-align: middle;\n",
              "    }\n",
              "\n",
              "    .dataframe tbody tr th {\n",
              "        vertical-align: top;\n",
              "    }\n",
              "\n",
              "    .dataframe thead th {\n",
              "        text-align: right;\n",
              "    }\n",
              "</style>\n",
              "<table border=\"1\" class=\"dataframe\">\n",
              "  <thead>\n",
              "    <tr style=\"text-align: right;\">\n",
              "      <th></th>\n",
              "      <th>count</th>\n",
              "    </tr>\n",
              "    <tr>\n",
              "      <th>document</th>\n",
              "      <th></th>\n",
              "    </tr>\n",
              "  </thead>\n",
              "  <tbody>\n",
              "    <tr>\n",
              "      <th>714</th>\n",
              "      <td>1</td>\n",
              "    </tr>\n",
              "    <tr>\n",
              "      <th>823</th>\n",
              "      <td>1</td>\n",
              "    </tr>\n",
              "    <tr>\n",
              "      <th>789</th>\n",
              "      <td>1</td>\n",
              "    </tr>\n",
              "    <tr>\n",
              "      <th>1138</th>\n",
              "      <td>1</td>\n",
              "    </tr>\n",
              "    <tr>\n",
              "      <th>3953</th>\n",
              "      <td>1</td>\n",
              "    </tr>\n",
              "    <tr>\n",
              "      <th>...</th>\n",
              "      <td>...</td>\n",
              "    </tr>\n",
              "    <tr>\n",
              "      <th>625</th>\n",
              "      <td>1</td>\n",
              "    </tr>\n",
              "    <tr>\n",
              "      <th>725</th>\n",
              "      <td>1</td>\n",
              "    </tr>\n",
              "    <tr>\n",
              "      <th>4869</th>\n",
              "      <td>1</td>\n",
              "    </tr>\n",
              "    <tr>\n",
              "      <th>10554</th>\n",
              "      <td>1</td>\n",
              "    </tr>\n",
              "    <tr>\n",
              "      <th>631</th>\n",
              "      <td>1</td>\n",
              "    </tr>\n",
              "  </tbody>\n",
              "</table>\n",
              "<p>300 rows × 1 columns</p>\n",
              "</div><br><label><b>dtype:</b> int64</label>"
            ]
          },
          "metadata": {},
          "execution_count": 18
        }
      ],
      "source": [
        "newsgroup_df[\"document\"].apply(lambda x: len(x.split(\" \"))).value_counts().sort_values()[:300]"
      ]
    },
    {
      "cell_type": "code",
      "execution_count": 19,
      "metadata": {
        "id": "770PrtFynhjw",
        "outputId": "b751d484-a8c2-422a-8fcb-0fc4af140830",
        "colab": {
          "base_uri": "https://localhost:8080/"
        }
      },
      "outputs": [
        {
          "output_type": "stream",
          "name": "stdout",
          "text": [
            "max words per document 20083 , min words per document 1\n"
          ]
        }
      ],
      "source": [
        "print('max words per document', max(words_per_document), ', min words per document', min(words_per_document))"
      ]
    },
    {
      "cell_type": "code",
      "execution_count": 20,
      "metadata": {
        "id": "2skzPYWJnhjx",
        "outputId": "4a7c60b2-da35-4267-c45e-27207aa0d6a4",
        "colab": {
          "base_uri": "https://localhost:8080/",
          "height": 0
        }
      },
      "outputs": [
        {
          "output_type": "execute_result",
          "data": {
            "text/plain": [
              "{'whiskers': [<matplotlib.lines.Line2D at 0x792f58b25990>,\n",
              "  <matplotlib.lines.Line2D at 0x792f58b25c30>],\n",
              " 'caps': [<matplotlib.lines.Line2D at 0x792f58b25f00>,\n",
              "  <matplotlib.lines.Line2D at 0x792f58b261a0>],\n",
              " 'boxes': [<matplotlib.lines.Line2D at 0x792f58ade560>],\n",
              " 'medians': [<matplotlib.lines.Line2D at 0x792f58b26440>],\n",
              " 'fliers': [<matplotlib.lines.Line2D at 0x792f58b266e0>],\n",
              " 'means': []}"
            ]
          },
          "metadata": {},
          "execution_count": 20
        },
        {
          "output_type": "display_data",
          "data": {
            "text/plain": [
              "<Figure size 640x480 with 1 Axes>"
            ],
            "image/png": "[encoded data removed]"
          },
          "metadata": {}
        }
      ],
      "source": [
        "plt.boxplot(words_per_document)"
      ]
    },
    {
      "cell_type": "markdown",
      "metadata": {
        "id": "I9U4M9cUnhjx"
      },
      "source": [
        "We can now preprocess the data for the topic model. We will first clean the documents by removing punctation, numbers, and characters, converting to lowercase, and stripping empty strings. We will also remove non-descriptive words such as \"a\", \"is\", \"from\", \"and\", etc. We will add additional stop words that occur often in our dataset but do not have any significant meaning for the theme extraction. Lastly, we will lemmatize our documents, meaning we will distill words into their foundational terms, like \"running\" to \"run\". This will help reduce unnecessary and redundant terms and ensure a faster runtime."
      ]
    },
    {
      "cell_type": "code",
      "execution_count": 21,
      "metadata": {
        "id": "h6ulc6Evnhjx"
      },
      "outputs": [],
      "source": [
        "# List of stop words\n",
        "additional_stop_words = set([\"article\", \"subject\", 'time','im','thing', 'new', 'said', 'need', 'want', 'did',\n",
        "                             'know','like','people','think','writes','just','dont', '___', 'good', 'used',\n",
        "                            \"use\", \"think\", 'doe', \"year\", \"say\", \"make\", 'maxaxaxaxaxaxaxaxaxaxaxaxaxaxax'])\n",
        "stop_words = ENGLISH_STOP_WORDS.union(additional_stop_words)\n",
        "\n",
        "# Splits words on white spaces\n",
        "def tokenizer(text):\n",
        "    tokenizer = TweetTokenizer()\n",
        "    tokens = tokenizer.tokenize(text)\n",
        "    return tokens\n",
        "\n",
        "def process_text(text):\n",
        "    # Lowercase\n",
        "    text = text.lower()\n",
        "    # Remove punctuation, numbers, \\n, and extra whitespaces\n",
        "    text = re.sub(r'\\d+|[^\\w\\s]', '', text)\n",
        "    text = text.replace('\\n', ' ')\n",
        "    text = re.sub(r'\\s{2,}', ' ', text)\n",
        "    # only include english dictionary words\n",
        "    # Tokenize and lemmatize\n",
        "    wnl = WordNetLemmatizer()\n",
        "    tokens = [wnl.lemmatize(word) for word in tokenizer(text) if word not in stop_words]\n",
        "    text = [each for each in tokens if len(each) > 1]\n",
        "    text = [each for each in text if ' ' not in each]\n",
        "    return \" \".join(text)"
      ]
    },
    {
      "cell_type": "code",
      "execution_count": 22,
      "metadata": {
        "id": "rYxZ7CzInhjy",
        "outputId": "dcb8f78d-229c-41ea-988a-23fb830a436e",
        "colab": {
          "base_uri": "https://localhost:8080/",
          "height": 0
        }
      },
      "outputs": [
        {
          "output_type": "execute_result",
          "data": {
            "text/plain": [
              "\"A fair number of brave souls who upgraded their SI clock oscillator have\\nshared their experiences for this poll. Please send a brief message detailing\\nyour experiences with the procedure. Top speed attained, CPU rated speed,\\nadd on cards and adapters, heat sinks, hour of usage per day, floppy disk\\nfunctionality with 800 and 1.4 m floppies are especially requested.\\n\\nI will be summarizing in the next two days, so please add to the network\\nknowledge base if you have done the clock upgrade and haven't answered this\\npoll. Thanks.\""
            ],
            "application/vnd.google.colaboratory.intrinsic+json": {
              "type": "string"
            }
          },
          "metadata": {},
          "execution_count": 22
        }
      ],
      "source": [
        "# Set options to display all rows and columns\n",
        "newsgroup_df['document'][1]"
      ]
    },
    {
      "cell_type": "code",
      "execution_count": 23,
      "metadata": {
        "id": "onefIbvMnhjy",
        "outputId": "c2358e55-5d77-4318-d907-c739d9515f4a",
        "colab": {
          "base_uri": "https://localhost:8080/",
          "height": 0
        }
      },
      "outputs": [
        {
          "output_type": "execute_result",
          "data": {
            "text/plain": [
              "0    wondering enlighten car saw day door sport car...\n",
              "1    fair number brave soul upgraded si clock oscil...\n",
              "2    folk mac plus finally gave ghost weekend start...\n",
              "3    robert jc kyanko robrjckuucp wrote abraxisiast...\n",
              "4    cowcbnpworldstdcom tombakerworldstdcom tom bak...\n",
              "5    reuttransferstratuscom cdtswstratuscom tavares...\n",
              "6    responded request info treatment astrocytomas ...\n",
              "7    dxbpsuvmpsuedu qlbrlinnrkdnsnmsuedu bgrubbdant...\n",
              "8    win downloaded icon bmps figure change wallpap...\n",
              "9    jappocwruedu joseph pellettiere looking inform...\n",
              "Name: document, dtype: object"
            ],
            "text/html": [
              "<div>\n",
              "<style scoped>\n",
              "    .dataframe tbody tr th:only-of-type {\n",
              "        vertical-align: middle;\n",
              "    }\n",
              "\n",
              "    .dataframe tbody tr th {\n",
              "        vertical-align: top;\n",
              "    }\n",
              "\n",
              "    .dataframe thead th {\n",
              "        text-align: right;\n",
              "    }\n",
              "</style>\n",
              "<table border=\"1\" class=\"dataframe\">\n",
              "  <thead>\n",
              "    <tr style=\"text-align: right;\">\n",
              "      <th></th>\n",
              "      <th>document</th>\n",
              "    </tr>\n",
              "  </thead>\n",
              "  <tbody>\n",
              "    <tr>\n",
              "      <th>0</th>\n",
              "      <td>wondering enlighten car saw day door sport car...</td>\n",
              "    </tr>\n",
              "    <tr>\n",
              "      <th>1</th>\n",
              "      <td>fair number brave soul upgraded si clock oscil...</td>\n",
              "    </tr>\n",
              "    <tr>\n",
              "      <th>2</th>\n",
              "      <td>folk mac plus finally gave ghost weekend start...</td>\n",
              "    </tr>\n",
              "    <tr>\n",
              "      <th>3</th>\n",
              "      <td>robert jc kyanko robrjckuucp wrote abraxisiast...</td>\n",
              "    </tr>\n",
              "    <tr>\n",
              "      <th>4</th>\n",
              "      <td>cowcbnpworldstdcom tombakerworldstdcom tom bak...</td>\n",
              "    </tr>\n",
              "    <tr>\n",
              "      <th>5</th>\n",
              "      <td>reuttransferstratuscom cdtswstratuscom tavares...</td>\n",
              "    </tr>\n",
              "    <tr>\n",
              "      <th>6</th>\n",
              "      <td>responded request info treatment astrocytomas ...</td>\n",
              "    </tr>\n",
              "    <tr>\n",
              "      <th>7</th>\n",
              "      <td>dxbpsuvmpsuedu qlbrlinnrkdnsnmsuedu bgrubbdant...</td>\n",
              "    </tr>\n",
              "    <tr>\n",
              "      <th>8</th>\n",
              "      <td>win downloaded icon bmps figure change wallpap...</td>\n",
              "    </tr>\n",
              "    <tr>\n",
              "      <th>9</th>\n",
              "      <td>jappocwruedu joseph pellettiere looking inform...</td>\n",
              "    </tr>\n",
              "  </tbody>\n",
              "</table>\n",
              "</div><br><label><b>dtype:</b> object</label>"
            ]
          },
          "metadata": {},
          "execution_count": 23
        }
      ],
      "source": [
        "newsgroup_df['document'][:10].apply(process_text)"
      ]
    },
    {
      "cell_type": "code",
      "execution_count": 24,
      "metadata": {
        "id": "-rWPV0Lanhjy",
        "outputId": "7045f83e-1fae-4399-cc3b-df81c3195f3b",
        "colab": {
          "base_uri": "https://localhost:8080/",
          "height": 0
        }
      },
      "outputs": [
        {
          "output_type": "execute_result",
          "data": {
            "text/plain": [
              "0        wondering enlighten car saw day door sport car...\n",
              "1        fair number brave soul upgraded si clock oscil...\n",
              "2        folk mac plus finally gave ghost weekend start...\n",
              "3        robert jc kyanko robrjckuucp wrote abraxisiast...\n",
              "4        cowcbnpworldstdcom tombakerworldstdcom tom bak...\n",
              "                               ...                        \n",
              "11309    dn nyedacnsvaxuwecedu david nye dn neurology d...\n",
              "11310    old mac mac plus problem screen blank minor ph...\n",
              "11311    installed dx cpu clone motherboard tried mount...\n",
              "11312    qkgbuinnsnshelleyuwashingtonedu bolsoncarsonuw...\n",
              "11313    stolen pasadena pm blue white honda cbrrr cali...\n",
              "Name: processed_documents, Length: 10472, dtype: object"
            ],
            "text/html": [
              "<div>\n",
              "<style scoped>\n",
              "    .dataframe tbody tr th:only-of-type {\n",
              "        vertical-align: middle;\n",
              "    }\n",
              "\n",
              "    .dataframe tbody tr th {\n",
              "        vertical-align: top;\n",
              "    }\n",
              "\n",
              "    .dataframe thead th {\n",
              "        text-align: right;\n",
              "    }\n",
              "</style>\n",
              "<table border=\"1\" class=\"dataframe\">\n",
              "  <thead>\n",
              "    <tr style=\"text-align: right;\">\n",
              "      <th></th>\n",
              "      <th>processed_documents</th>\n",
              "    </tr>\n",
              "  </thead>\n",
              "  <tbody>\n",
              "    <tr>\n",
              "      <th>0</th>\n",
              "      <td>wondering enlighten car saw day door sport car...</td>\n",
              "    </tr>\n",
              "    <tr>\n",
              "      <th>1</th>\n",
              "      <td>fair number brave soul upgraded si clock oscil...</td>\n",
              "    </tr>\n",
              "    <tr>\n",
              "      <th>2</th>\n",
              "      <td>folk mac plus finally gave ghost weekend start...</td>\n",
              "    </tr>\n",
              "    <tr>\n",
              "      <th>3</th>\n",
              "      <td>robert jc kyanko robrjckuucp wrote abraxisiast...</td>\n",
              "    </tr>\n",
              "    <tr>\n",
              "      <th>4</th>\n",
              "      <td>cowcbnpworldstdcom tombakerworldstdcom tom bak...</td>\n",
              "    </tr>\n",
              "    <tr>\n",
              "      <th>...</th>\n",
              "      <td>...</td>\n",
              "    </tr>\n",
              "    <tr>\n",
              "      <th>11309</th>\n",
              "      <td>dn nyedacnsvaxuwecedu david nye dn neurology d...</td>\n",
              "    </tr>\n",
              "    <tr>\n",
              "      <th>11310</th>\n",
              "      <td>old mac mac plus problem screen blank minor ph...</td>\n",
              "    </tr>\n",
              "    <tr>\n",
              "      <th>11311</th>\n",
              "      <td>installed dx cpu clone motherboard tried mount...</td>\n",
              "    </tr>\n",
              "    <tr>\n",
              "      <th>11312</th>\n",
              "      <td>qkgbuinnsnshelleyuwashingtonedu bolsoncarsonuw...</td>\n",
              "    </tr>\n",
              "    <tr>\n",
              "      <th>11313</th>\n",
              "      <td>stolen pasadena pm blue white honda cbrrr cali...</td>\n",
              "    </tr>\n",
              "  </tbody>\n",
              "</table>\n",
              "<p>10472 rows × 1 columns</p>\n",
              "</div><br><label><b>dtype:</b> object</label>"
            ]
          },
          "metadata": {},
          "execution_count": 24
        }
      ],
      "source": [
        "### tokenize the abstracts\n",
        "newsgroup_df['processed_documents'] = newsgroup_df['document'].apply(process_text)\n",
        "newsgroup_df['processed_documents']"
      ]
    },
    {
      "cell_type": "code",
      "execution_count": 25,
      "metadata": {
        "id": "KtYDowgznhjy",
        "outputId": "7b0c4aea-b454-41e0-f12c-be8ce0db1c8e",
        "colab": {
          "base_uri": "https://localhost:8080/",
          "height": 0
        }
      },
      "outputs": [
        {
          "output_type": "execute_result",
          "data": {
            "text/plain": [
              "        word  frequency\n",
              "0        doe       3508\n",
              "1       file       2821\n",
              "2      right       2809\n",
              "3    problem       2806\n",
              "4        way       2586\n",
              "5       work       2475\n",
              "6     window       2402\n",
              "7        god       2307\n",
              "8   question       2042\n",
              "9    program       1952\n",
              "10    number       1945\n",
              "11     point       1918\n",
              "12     drive       1831\n",
              "13    really       1781\n",
              "14      come       1779\n",
              "15      game       1773\n",
              "16     using       1748\n",
              "17       bit       1738\n",
              "18       key       1724\n",
              "19       day       1638"
            ],
            "text/html": [
              "\n",
              "  <div id=\"df-0bf043a5-6890-4ad2-9000-ebb91ce2dda9\" class=\"colab-df-container\">\n",
              "    <div>\n",
              "<style scoped>\n",
              "    .dataframe tbody tr th:only-of-type {\n",
              "        vertical-align: middle;\n",
              "    }\n",
              "\n",
              "    .dataframe tbody tr th {\n",
              "        vertical-align: top;\n",
              "    }\n",
              "\n",
              "    .dataframe thead th {\n",
              "        text-align: right;\n",
              "    }\n",
              "</style>\n",
              "<table border=\"1\" class=\"dataframe\">\n",
              "  <thead>\n",
              "    <tr style=\"text-align: right;\">\n",
              "      <th></th>\n",
              "      <th>word</th>\n",
              "      <th>frequency</th>\n",
              "    </tr>\n",
              "  </thead>\n",
              "  <tbody>\n",
              "    <tr>\n",
              "      <th>0</th>\n",
              "      <td>doe</td>\n",
              "      <td>3508</td>\n",
              "    </tr>\n",
              "    <tr>\n",
              "      <th>1</th>\n",
              "      <td>file</td>\n",
              "      <td>2821</td>\n",
              "    </tr>\n",
              "    <tr>\n",
              "      <th>2</th>\n",
              "      <td>right</td>\n",
              "      <td>2809</td>\n",
              "    </tr>\n",
              "    <tr>\n",
              "      <th>3</th>\n",
              "      <td>problem</td>\n",
              "      <td>2806</td>\n",
              "    </tr>\n",
              "    <tr>\n",
              "      <th>4</th>\n",
              "      <td>way</td>\n",
              "      <td>2586</td>\n",
              "    </tr>\n",
              "    <tr>\n",
              "      <th>5</th>\n",
              "      <td>work</td>\n",
              "      <td>2475</td>\n",
              "    </tr>\n",
              "    <tr>\n",
              "      <th>6</th>\n",
              "      <td>window</td>\n",
              "      <td>2402</td>\n",
              "    </tr>\n",
              "    <tr>\n",
              "      <th>7</th>\n",
              "      <td>god</td>\n",
              "      <td>2307</td>\n",
              "    </tr>\n",
              "    <tr>\n",
              "      <th>8</th>\n",
              "      <td>question</td>\n",
              "      <td>2042</td>\n",
              "    </tr>\n",
              "    <tr>\n",
              "      <th>9</th>\n",
              "      <td>program</td>\n",
              "      <td>1952</td>\n",
              "    </tr>\n",
              "    <tr>\n",
              "      <th>10</th>\n",
              "      <td>number</td>\n",
              "      <td>1945</td>\n",
              "    </tr>\n",
              "    <tr>\n",
              "      <th>11</th>\n",
              "      <td>point</td>\n",
              "      <td>1918</td>\n",
              "    </tr>\n",
              "    <tr>\n",
              "      <th>12</th>\n",
              "      <td>drive</td>\n",
              "      <td>1831</td>\n",
              "    </tr>\n",
              "    <tr>\n",
              "      <th>13</th>\n",
              "      <td>really</td>\n",
              "      <td>1781</td>\n",
              "    </tr>\n",
              "    <tr>\n",
              "      <th>14</th>\n",
              "      <td>come</td>\n",
              "      <td>1779</td>\n",
              "    </tr>\n",
              "    <tr>\n",
              "      <th>15</th>\n",
              "      <td>game</td>\n",
              "      <td>1773</td>\n",
              "    </tr>\n",
              "    <tr>\n",
              "      <th>16</th>\n",
              "      <td>using</td>\n",
              "      <td>1748</td>\n",
              "    </tr>\n",
              "    <tr>\n",
              "      <th>17</th>\n",
              "      <td>bit</td>\n",
              "      <td>1738</td>\n",
              "    </tr>\n",
              "    <tr>\n",
              "      <th>18</th>\n",
              "      <td>key</td>\n",
              "      <td>1724</td>\n",
              "    </tr>\n",
              "    <tr>\n",
              "      <th>19</th>\n",
              "      <td>day</td>\n",
              "      <td>1638</td>\n",
              "    </tr>\n",
              "  </tbody>\n",
              "</table>\n",
              "</div>\n",
              "    <div class=\"colab-df-buttons\">\n",
              "\n",
              "  <div class=\"colab-df-container\">\n",
              "    <button class=\"colab-df-convert\" onclick=\"convertToInteractive('df-0bf043a5-6890-4ad2-9000-ebb91ce2dda9')\"\n",
              "            title=\"Convert this dataframe to an interactive table.\"\n",
              "            style=\"display:none;\">\n",
              "\n",
              "  <svg xmlns=\"http://www.w3.org/2000/svg\" height=\"24px\" viewBox=\"0 -960 960 960\">\n",
              "    <path d=\"M120-120v-720h720v720H120Zm60-500h600v-160H180v160Zm220 220h160v-160H400v160Zm0 220h160v-160H400v160ZM180-400h160v-160H180v160Zm440 0h160v-160H620v160ZM180-180h160v-160H180v160Zm440 0h160v-160H620v160Z\"/>\n",
              "  </svg>\n",
              "    </button>\n",
              "\n",
              "  <style>\n",
              "    .colab-df-container {\n",
              "      display:flex;\n",
              "      gap: 12px;\n",
              "    }\n",
              "\n",
              "    .colab-df-convert {\n",
              "      background-color: #E8F0FE;\n",
              "      border: none;\n",
              "      border-radius: 50%;\n",
              "      cursor: pointer;\n",
              "      display: none;\n",
              "      fill: #1967D2;\n",
              "      height: 32px;\n",
              "      padding: 0 0 0 0;\n",
              "      width: 32px;\n",
              "    }\n",
              "\n",
              "    .colab-df-convert:hover {\n",
              "      background-color: #E2EBFA;\n",
              "      box-shadow: 0px 1px 2px rgba(60, 64, 67, 0.3), 0px 1px 3px 1px rgba(60, 64, 67, 0.15);\n",
              "      fill: #174EA6;\n",
              "    }\n",
              "\n",
              "    .colab-df-buttons div {\n",
              "      margin-bottom: 4px;\n",
              "    }\n",
              "\n",
              "    [theme=dark] .colab-df-convert {\n",
              "      background-color: #3B4455;\n",
              "      fill: #D2E3FC;\n",
              "    }\n",
              "\n",
              "    [theme=dark] .colab-df-convert:hover {\n",
              "      background-color: #434B5C;\n",
              "      box-shadow: 0px 1px 3px 1px rgba(0, 0, 0, 0.15);\n",
              "      filter: drop-shadow(0px 1px 2px rgba(0, 0, 0, 0.3));\n",
              "      fill: #FFFFFF;\n",
              "    }\n",
              "  </style>\n",
              "\n",
              "    <script>\n",
              "      const buttonEl =\n",
              "        document.querySelector('#df-0bf043a5-6890-4ad2-9000-ebb91ce2dda9 button.colab-df-convert');\n",
              "      buttonEl.style.display =\n",
              "        google.colab.kernel.accessAllowed ? 'block' : 'none';\n",
              "\n",
              "      async function convertToInteractive(key) {\n",
              "        const element = document.querySelector('#df-0bf043a5-6890-4ad2-9000-ebb91ce2dda9');\n",
              "        const dataTable =\n",
              "          await google.colab.kernel.invokeFunction('convertToInteractive',\n",
              "                                                    [key], {});\n",
              "        if (!dataTable) return;\n",
              "\n",
              "        const docLinkHtml = 'Like what you see? Visit the ' +\n",
              "          '<a target=\"_blank\" href=https://colab.research.google.com/notebooks/data_table.ipynb>data table notebook</a>'\n",
              "          + ' to learn more about interactive tables.';\n",
              "        element.innerHTML = '';\n",
              "        dataTable['output_type'] = 'display_data';\n",
              "        await google.colab.output.renderOutput(dataTable, element);\n",
              "        const docLink = document.createElement('div');\n",
              "        docLink.innerHTML = docLinkHtml;\n",
              "        element.appendChild(docLink);\n",
              "      }\n",
              "    </script>\n",
              "  </div>\n",
              "\n",
              "\n",
              "<div id=\"df-c12deb15-c644-49d9-a12c-7db703ced67c\">\n",
              "  <button class=\"colab-df-quickchart\" onclick=\"quickchart('df-c12deb15-c644-49d9-a12c-7db703ced67c')\"\n",
              "            title=\"Suggest charts\"\n",
              "            style=\"display:none;\">\n",
              "\n",
              "<svg xmlns=\"http://www.w3.org/2000/svg\" height=\"24px\"viewBox=\"0 0 24 24\"\n",
              "     width=\"24px\">\n",
              "    <g>\n",
              "        <path d=\"M19 3H5c-1.1 0-2 .9-2 2v14c0 1.1.9 2 2 2h14c1.1 0 2-.9 2-2V5c0-1.1-.9-2-2-2zM9 17H7v-7h2v7zm4 0h-2V7h2v10zm4 0h-2v-4h2v4z\"/>\n",
              "    </g>\n",
              "</svg>\n",
              "  </button>\n",
              "\n",
              "<style>\n",
              "  .colab-df-quickchart {\n",
              "      --bg-color: #E8F0FE;\n",
              "      --fill-color: #1967D2;\n",
              "      --hover-bg-color: #E2EBFA;\n",
              "      --hover-fill-color: #174EA6;\n",
              "      --disabled-fill-color: #AAA;\n",
              "      --disabled-bg-color: #DDD;\n",
              "  }\n",
              "\n",
              "  [theme=dark] .colab-df-quickchart {\n",
              "      --bg-color: #3B4455;\n",
              "      --fill-color: #D2E3FC;\n",
              "      --hover-bg-color: #434B5C;\n",
              "      --hover-fill-color: #FFFFFF;\n",
              "      --disabled-bg-color: #3B4455;\n",
              "      --disabled-fill-color: #666;\n",
              "  }\n",
              "\n",
              "  .colab-df-quickchart {\n",
              "    background-color: var(--bg-color);\n",
              "    border: none;\n",
              "    border-radius: 50%;\n",
              "    cursor: pointer;\n",
              "    display: none;\n",
              "    fill: var(--fill-color);\n",
              "    height: 32px;\n",
              "    padding: 0;\n",
              "    width: 32px;\n",
              "  }\n",
              "\n",
              "  .colab-df-quickchart:hover {\n",
              "    background-color: var(--hover-bg-color);\n",
              "    box-shadow: 0 1px 2px rgba(60, 64, 67, 0.3), 0 1px 3px 1px rgba(60, 64, 67, 0.15);\n",
              "    fill: var(--button-hover-fill-color);\n",
              "  }\n",
              "\n",
              "  .colab-df-quickchart-complete:disabled,\n",
              "  .colab-df-quickchart-complete:disabled:hover {\n",
              "    background-color: var(--disabled-bg-color);\n",
              "    fill: var(--disabled-fill-color);\n",
              "    box-shadow: none;\n",
              "  }\n",
              "\n",
              "  .colab-df-spinner {\n",
              "    border: 2px solid var(--fill-color);\n",
              "    border-color: transparent;\n",
              "    border-bottom-color: var(--fill-color);\n",
              "    animation:\n",
              "      spin 1s steps(1) infinite;\n",
              "  }\n",
              "\n",
              "  @keyframes spin {\n",
              "    0% {\n",
              "      border-color: transparent;\n",
              "      border-bottom-color: var(--fill-color);\n",
              "      border-left-color: var(--fill-color);\n",
              "    }\n",
              "    20% {\n",
              "      border-color: transparent;\n",
              "      border-left-color: var(--fill-color);\n",
              "      border-top-color: var(--fill-color);\n",
              "    }\n",
              "    30% {\n",
              "      border-color: transparent;\n",
              "      border-left-color: var(--fill-color);\n",
              "      border-top-color: var(--fill-color);\n",
              "      border-right-color: var(--fill-color);\n",
              "    }\n",
              "    40% {\n",
              "      border-color: transparent;\n",
              "      border-right-color: var(--fill-color);\n",
              "      border-top-color: var(--fill-color);\n",
              "    }\n",
              "    60% {\n",
              "      border-color: transparent;\n",
              "      border-right-color: var(--fill-color);\n",
              "    }\n",
              "    80% {\n",
              "      border-color: transparent;\n",
              "      border-right-color: var(--fill-color);\n",
              "      border-bottom-color: var(--fill-color);\n",
              "    }\n",
              "    90% {\n",
              "      border-color: transparent;\n",
              "      border-bottom-color: var(--fill-color);\n",
              "    }\n",
              "  }\n",
              "</style>\n",
              "\n",
              "  <script>\n",
              "    async function quickchart(key) {\n",
              "      const quickchartButtonEl =\n",
              "        document.querySelector('#' + key + ' button');\n",
              "      quickchartButtonEl.disabled = true;  // To prevent multiple clicks.\n",
              "      quickchartButtonEl.classList.add('colab-df-spinner');\n",
              "      try {\n",
              "        const charts = await google.colab.kernel.invokeFunction(\n",
              "            'suggestCharts', [key], {});\n",
              "      } catch (error) {\n",
              "        console.error('Error during call to suggestCharts:', error);\n",
              "      }\n",
              "      quickchartButtonEl.classList.remove('colab-df-spinner');\n",
              "      quickchartButtonEl.classList.add('colab-df-quickchart-complete');\n",
              "    }\n",
              "    (() => {\n",
              "      let quickchartButtonEl =\n",
              "        document.querySelector('#df-c12deb15-c644-49d9-a12c-7db703ced67c button');\n",
              "      quickchartButtonEl.style.display =\n",
              "        google.colab.kernel.accessAllowed ? 'block' : 'none';\n",
              "    })();\n",
              "  </script>\n",
              "</div>\n",
              "\n",
              "  <div id=\"id_243273c3-ec50-4eb3-8e93-a6bf43923730\">\n",
              "    <style>\n",
              "      .colab-df-generate {\n",
              "        background-color: #E8F0FE;\n",
              "        border: none;\n",
              "        border-radius: 50%;\n",
              "        cursor: pointer;\n",
              "        display: none;\n",
              "        fill: #1967D2;\n",
              "        height: 32px;\n",
              "        padding: 0 0 0 0;\n",
              "        width: 32px;\n",
              "      }\n",
              "\n",
              "      .colab-df-generate:hover {\n",
              "        background-color: #E2EBFA;\n",
              "        box-shadow: 0px 1px 2px rgba(60, 64, 67, 0.3), 0px 1px 3px 1px rgba(60, 64, 67, 0.15);\n",
              "        fill: #174EA6;\n",
              "      }\n",
              "\n",
              "      [theme=dark] .colab-df-generate {\n",
              "        background-color: #3B4455;\n",
              "        fill: #D2E3FC;\n",
              "      }\n",
              "\n",
              "      [theme=dark] .colab-df-generate:hover {\n",
              "        background-color: #434B5C;\n",
              "        box-shadow: 0px 1px 3px 1px rgba(0, 0, 0, 0.15);\n",
              "        filter: drop-shadow(0px 1px 2px rgba(0, 0, 0, 0.3));\n",
              "        fill: #FFFFFF;\n",
              "      }\n",
              "    </style>\n",
              "    <button class=\"colab-df-generate\" onclick=\"generateWithVariable('top_20')\"\n",
              "            title=\"Generate code using this dataframe.\"\n",
              "            style=\"display:none;\">\n",
              "\n",
              "  <svg xmlns=\"http://www.w3.org/2000/svg\" height=\"24px\"viewBox=\"0 0 24 24\"\n",
              "       width=\"24px\">\n",
              "    <path d=\"M7,19H8.4L18.45,9,17,7.55,7,17.6ZM5,21V16.75L18.45,3.32a2,2,0,0,1,2.83,0l1.4,1.43a1.91,1.91,0,0,1,.58,1.4,1.91,1.91,0,0,1-.58,1.4L9.25,21ZM18.45,9,17,7.55Zm-12,3A5.31,5.31,0,0,0,4.9,8.1,5.31,5.31,0,0,0,1,6.5,5.31,5.31,0,0,0,4.9,4.9,5.31,5.31,0,0,0,6.5,1,5.31,5.31,0,0,0,8.1,4.9,5.31,5.31,0,0,0,12,6.5,5.46,5.46,0,0,0,6.5,12Z\"/>\n",
              "  </svg>\n",
              "    </button>\n",
              "    <script>\n",
              "      (() => {\n",
              "      const buttonEl =\n",
              "        document.querySelector('#id_243273c3-ec50-4eb3-8e93-a6bf43923730 button.colab-df-generate');\n",
              "      buttonEl.style.display =\n",
              "        google.colab.kernel.accessAllowed ? 'block' : 'none';\n",
              "\n",
              "      buttonEl.onclick = () => {\n",
              "        google.colab.notebook.generateWithVariable('top_20');\n",
              "      }\n",
              "      })();\n",
              "    </script>\n",
              "  </div>\n",
              "\n",
              "    </div>\n",
              "  </div>\n"
            ],
            "application/vnd.google.colaboratory.intrinsic+json": {
              "type": "dataframe",
              "variable_name": "top_20",
              "summary": "{\n  \"name\": \"top_20\",\n  \"rows\": 20,\n  \"fields\": [\n    {\n      \"column\": \"word\",\n      \"properties\": {\n        \"dtype\": \"string\",\n        \"num_unique_values\": 20,\n        \"samples\": [\n          \"doe\",\n          \"bit\",\n          \"game\"\n        ],\n        \"semantic_type\": \"\",\n        \"description\": \"\"\n      }\n    },\n    {\n      \"column\": \"frequency\",\n      \"properties\": {\n        \"dtype\": \"number\",\n        \"std\": 511,\n        \"min\": 1638,\n        \"max\": 3508,\n        \"num_unique_values\": 20,\n        \"samples\": [\n          3508,\n          1738,\n          1773\n        ],\n        \"semantic_type\": \"\",\n        \"description\": \"\"\n      }\n    }\n  ]\n}"
            }
          },
          "metadata": {},
          "execution_count": 25
        }
      ],
      "source": [
        "# Get the top 20 most common words among all the documents\n",
        "\n",
        "p_text = ' '.join(newsgroup_df['processed_documents'].tolist())\n",
        "\n",
        "p_text = p_text.split(' ')\n",
        "\n",
        "# Top 20\n",
        "top_20 = pd.DataFrame(\n",
        "    Counter(p_text).most_common(20),\n",
        "    columns=['word', 'frequency']\n",
        ")\n",
        "\n",
        "top_20"
      ]
    },
    {
      "cell_type": "code",
      "execution_count": 26,
      "metadata": {
        "id": "g-5I3KpVnhjz",
        "outputId": "d7922a04-1b23-480b-8a28-17176158c184",
        "colab": {
          "base_uri": "https://localhost:8080/",
          "height": 0
        }
      },
      "outputs": [
        {
          "output_type": "execute_result",
          "data": {
            "text/plain": [
              "'game'"
            ],
            "application/vnd.google.colaboratory.intrinsic+json": {
              "type": "string"
            }
          },
          "metadata": {},
          "execution_count": 26
        }
      ],
      "source": [
        "top_20['word'][15]"
      ]
    },
    {
      "cell_type": "code",
      "execution_count": 27,
      "metadata": {
        "id": "ItwAML3Anhjz"
      },
      "outputs": [],
      "source": [
        "def pre_process_test():\n",
        "    \"\"\"\n",
        "    Callable function to process 20newsgroups test data.\n",
        "    Summarizes steps done above\n",
        "    \"\"\"\n",
        "    #pull the data\n",
        "    test_dataset = fetch_20newsgroups(subset='test', remove=['headers', 'footers'])\n",
        "\n",
        "    #put into dataframe\n",
        "    test_newsgroup_df = pd.DataFrame({\"document\": test_dataset.data, \"target\": test_dataset.target})\n",
        "    test_newsgroup_df = test_newsgroup_df.assign(newsgroup=test_newsgroup_df[\"target\"].apply(lambda x: test_dataset.target_names[x]))\n",
        "\n",
        "    #remove redundant groups\n",
        "    test_newsgroup_df = test_newsgroup_df[(test_newsgroup_df[\"newsgroup\"] != 'talk.politics.misc') & (test_newsgroup_df[\"newsgroup\"] != 'talk.religion.misc')]\n",
        "\n",
        "    #process text\n",
        "    test_newsgroup_df['processed_documents'] = test_newsgroup_df['document'].apply(process_text)\n",
        "\n",
        "    return test_newsgroup_df\n",
        "\n",
        "test_newsgroup_df = pre_process_test()"
      ]
    },
    {
      "cell_type": "markdown",
      "metadata": {
        "id": "MJTnRMS8nhjz"
      },
      "source": [
        "### NMF - Manual Topic Number"
      ]
    },
    {
      "cell_type": "markdown",
      "metadata": {
        "id": "GBvRIIDQnhjz"
      },
      "source": [
        "#### Model Training"
      ]
    },
    {
      "cell_type": "markdown",
      "metadata": {
        "id": "XoE3w-L4nhjz"
      },
      "source": [
        "Transform lemmatized and cleaned words into a document-term frequency matrix (DTM)"
      ]
    },
    {
      "cell_type": "code",
      "execution_count": 28,
      "metadata": {
        "id": "GMlZ2xFNnhjz"
      },
      "outputs": [],
      "source": [
        "# Initialize TfidfVectorizer\n",
        "vectorizer = TfidfVectorizer(max_df=0.90, min_df=2)\n",
        "\n",
        "# Fit and transform the processed abstracts into DTM\n",
        "dtm = vectorizer.fit_transform(newsgroup_df['processed_documents'])"
      ]
    },
    {
      "cell_type": "code",
      "execution_count": 29,
      "metadata": {
        "id": "8TDPdX9Nnhjz"
      },
      "outputs": [],
      "source": [
        "def do_nmf(n_topics):\n",
        "\n",
        "    # Specify the number of topics\n",
        "    nmf_model = NMF(n_components=n_topics)\n",
        "    W = nmf_model.fit_transform(dtm)  # Document-topic matrix   (n_samples, n_components)\n",
        "    H = nmf_model.components_         # Topic-term matrix       (n_components, n_features)\n",
        "    return nmf_model, W, H"
      ]
    },
    {
      "cell_type": "code",
      "execution_count": 30,
      "metadata": {
        "id": "ZoJAFZb4nhj1"
      },
      "outputs": [],
      "source": [
        "n_topics = 18\n",
        "nmf_model, W, H = do_nmf(n_topics)"
      ]
    },
    {
      "cell_type": "code",
      "execution_count": 31,
      "metadata": {
        "id": "JkUhJmIQnhj1",
        "outputId": "6416cadd-ba78-406a-a40c-83084305a5cd",
        "colab": {
          "base_uri": "https://localhost:8080/"
        }
      },
      "outputs": [
        {
          "output_type": "stream",
          "name": "stdout",
          "text": [
            "Topic #1:\n",
            "way,right,food,day,problem,really,going,msg,ive,bike\n",
            "Topic #2:\n",
            "run,running,version,problem,font,program,manager,application,do,window\n",
            "Topic #3:\n",
            "cdrom,switch,cable,jumper,problem,boot,hard,floppy,disk,drive\n",
            "Topic #4:\n",
            "fan,league,baseball,hockey,season,win,play,player,team,game\n",
            "Topic #5:\n",
            "secure,algorithm,phone,bit,government,escrow,clipper,encryption,chip,key\n",
            "Topic #6:\n",
            "church,truth,belief,atheist,faith,believe,bible,jesus,christian,god\n",
            "Topic #7:\n",
            "manual,best,email,sell,asking,condition,shipping,price,offer,sale\n",
            "Topic #8:\n",
            "bus,vga,vesa,graphic,mode,ati,diamond,video,driver,card\n",
            "Topic #9:\n",
            "help,information,address,doe,info,looking,hi,advance,email,thanks\n",
            "Topic #10:\n",
            "policy,state,lebanon,peace,lebanese,palestinian,jew,arab,israeli,israel\n",
            "Topic #11:\n",
            "convert,gif,disk,bmp,image,ftp,directory,format,program,file\n",
            "Topic #12:\n",
            "handgun,government,state,crime,criminal,firearm,right,law,weapon,gun\n",
            "Topic #13:\n",
            "azerbaijan,azeri,muslim,greek,genocide,turk,turkey,armenia,turkish,armenian\n",
            "Topic #14:\n",
            "problem,bit,video,image,vga,display,apple,screen,color,monitor\n",
            "Topic #15:\n",
            "memory,device,ram,isa,mhz,bus,controller,ide,mb,scsi\n",
            "Topic #16:\n",
            "lunar,shuttle,cost,science,orbit,moon,program,launch,nasa,space\n",
            "Topic #17:\n",
            "driving,driver,insurance,price,speed,mile,model,dealer,engine,car\n",
            "Topic #18:\n",
            "using,pin,mac,printer,irq,serial,com,mouse,modem,port\n"
          ]
        }
      ],
      "source": [
        "feature_names = vectorizer.get_feature_names_out()\n",
        "for index, topic in enumerate(H):\n",
        "    print(f\"Topic #{index + 1}:\")\n",
        "    print(\",\".join([feature_names[i] for i in topic.argsort()[-10:]]))  # Top 10 words per topic"
      ]
    },
    {
      "cell_type": "code",
      "execution_count": 32,
      "metadata": {
        "id": "FPcI2hUInhj1",
        "outputId": "ac47828d-f819-432b-e26a-dda94591a330",
        "colab": {
          "base_uri": "https://localhost:8080/"
        }
      },
      "outputs": [
        {
          "output_type": "stream",
          "name": "stdout",
          "text": [
            "Document #11 dominant topic: Topic 1\n",
            "Topic Distribution for Document #11:\n",
            "Topic 1: 0.0251\n",
            "Topic 2: 0.0000\n",
            "Topic 3: 0.0015\n",
            "Topic 4: 0.0000\n",
            "Topic 5: 0.0000\n",
            "Topic 6: 0.0000\n",
            "Topic 7: 0.0038\n",
            "Topic 8: 0.0000\n",
            "Topic 9: 0.0225\n",
            "Topic 10: 0.0000\n",
            "Topic 11: 0.0000\n",
            "Topic 12: 0.0000\n",
            "Topic 13: 0.0000\n",
            "Topic 14: 0.0035\n",
            "Topic 15: 0.0030\n",
            "Topic 16: 0.0000\n",
            "Topic 17: 0.0149\n",
            "Topic 18: 0.0000\n",
            "\n",
            "Top words for Dominant Topic 1:\n",
            "way right food day problem really going msg ive bike\n",
            "rec.motorcycles\n",
            "I have a line on a Ducati 900GTS 1978 model with 17k on the clock.  Runs\n",
            "very well, paint is the bronze/brown/orange faded out, leaks a bit of oil\n",
            "and pops out of 1st with hard accel.  The shop will fix trans and oil \n",
            "leak.  They sold the bike to the 1 and only owner.  They want $3495, and\n",
            "I am thinking more like $3K.  Any opinions out there?  Please email me.\n",
            "Thanks.  It would be a nice stable mate to the Beemer.  Then I'll get\n",
            "a jap bike and call myself Axis Motors!\n",
            "\n",
            "-- \n",
            "-----------------------------------------------------------------------\n",
            "\"Tuba\" (Irwin)      \"I honk therefore I am\"     CompuTrac-Richardson,Tx\n",
            "irwin@cmptrc.lonestar.org    DoD #0826          (R75/6)\n"
          ]
        }
      ],
      "source": [
        "# Let's say we want the topic distribution for the first document (index 0)\n",
        "document_index = 10\n",
        "document_topics = W[document_index]  # Get topic weights for this document\n",
        "\n",
        "# Identify the dominant topic for this document\n",
        "dominant_topic = np.argmax(document_topics)\n",
        "\n",
        "print(f\"Document #{document_index + 1} dominant topic: Topic {dominant_topic + 1}\")\n",
        "print(f\"Topic Distribution for Document #{document_index + 1}:\")\n",
        "for topic_idx, weight in enumerate(document_topics):\n",
        "    print(f\"Topic {topic_idx + 1}: {weight:.4f}\")\n",
        "\n",
        "# Print the top words for the dominant topic to understand its meaning\n",
        "top_word_indices = H[dominant_topic].argsort()[-10:]  # Top 10 words for the dominant topic\n",
        "print(f\"\\nTop words for Dominant Topic {dominant_topic + 1}:\")\n",
        "print(\" \".join([feature_names[i] for i in top_word_indices]))\n",
        "print(newsgroup_df.iloc[document_index][\"newsgroup\"])\n",
        "print(newsgroup_df.iloc[document_index][\"document\"])"
      ]
    },
    {
      "cell_type": "markdown",
      "metadata": {
        "id": "Up6ZSNg7nhj1"
      },
      "source": [
        "#### Coherence Score for NMF"
      ]
    },
    {
      "cell_type": "markdown",
      "metadata": {
        "id": "9FJBOIb1nhj2"
      },
      "source": [
        "Coherence score measures the relative distance between words within a topic."
      ]
    },
    {
      "cell_type": "markdown",
      "metadata": {
        "id": "1fQMrdbTnhj2"
      },
      "source": [
        "##### TC-W2V Implementation for SKLearn\n",
        "Source: https://github.com/derekgreene/topic-model-tutorial/blob/master/3%20-%20Parameter%20Selection%20for%20NMF.ipynb"
      ]
    },
    {
      "cell_type": "markdown",
      "metadata": {
        "id": "qyUMAmcJnhj2"
      },
      "source": [
        "<b>Build a Word Embedding</b>\n",
        "\n",
        "To select the number of topics, here we will use a topic coherence measure called TC-W2V. This measure relies on the use of a word embedding model constructed from our corpus. So in this step we will use the Gensim implementation of Word2Vec to build a Word2Vec model based on our collection of news articles."
      ]
    },
    {
      "cell_type": "code",
      "execution_count": 33,
      "metadata": {
        "id": "3CZ7Y8Kynhj2"
      },
      "outputs": [],
      "source": [
        "#First, we need to define a class that will generate documents in a form that can be consumed by Gensim's Word2Vec implementation:\n",
        "\n",
        "class TokenGenerator:\n",
        "    def __init__(self, documents, stopwords):\n",
        "        self.documents = documents\n",
        "        self.stopwords = stopwords\n",
        "        self.tokenizer = re.compile( r\"(?u)\\b\\w\\w+\\b\" )\n",
        "\n",
        "    def __iter__(self):\n",
        "        print(\"Building Word2Vec model ...\")\n",
        "        for doc in self.documents:\n",
        "            tokens = []\n",
        "            for tok in self.tokenizer.findall( doc ):\n",
        "                if tok in self.stopwords:\n",
        "                    tokens.append( \"<stopword>\" )\n",
        "                elif len(tok) >= 2:\n",
        "                    tokens.append( tok )\n",
        "            yield tokens"
      ]
    },
    {
      "cell_type": "code",
      "execution_count": 34,
      "metadata": {
        "id": "xEeICIG9nhj2"
      },
      "outputs": [],
      "source": [
        "# # Now build a Skipgram Word2Vec model from all documents in the input file using Gensim:\n",
        "\n",
        "# raw_documents = newsgroup_df['processed_documents']\n",
        "# custom_stop_words = stop_words\n",
        "\n",
        "# docgen = TokenGenerator(raw_documents, custom_stop_words)\n",
        "# # the model has 500 dimensions, the minimum document-term frequency is 20\n",
        "# w2v_model = Word2Vec(docgen, vector_size=500, min_count=20, sg=1)\n",
        "\n",
        "# # Save for later use, so that we do not need to rebuild it:\n",
        "# # w2v_model.save(\"w2v-model.bin\")\n",
        "\n",
        "# print(\"Model has %d terms\" % len(w2v_model.wv.key_to_index))"
      ]
    },
    {
      "cell_type": "code",
      "execution_count": 36,
      "metadata": {
        "id": "ntytfdOknhj2"
      },
      "outputs": [],
      "source": [
        "# To re-load this model, run\n",
        "# for google colab\n",
        "#w2v_model = Word2Vec.load(\"dsc210project/w2v-model.bin\")\n",
        "w2v_model = Word2Vec.load(\"w2v-model.bin\")"
      ]
    },
    {
      "cell_type": "markdown",
      "metadata": {
        "id": "Im4KWysYnhj2"
      },
      "source": [
        "<b>Selecting the Number of Topics</b>\n",
        "\n",
        "Once we have our Word2vec model, we can use it as part of our topic coherence approach to evaluate the different NMF topic models that we created previously. To do this, we will implement a simple version of the TC-W2V coherence measure.\n"
      ]
    },
    {
      "cell_type": "code",
      "execution_count": 37,
      "metadata": {
        "id": "AnOqDBlonhj3"
      },
      "outputs": [],
      "source": [
        "# We use the Word2vec model to calculate coherence scores for each of these models.\n",
        "# We will define this coherence score as follows:\n",
        "\n",
        "def calculate_coherence(w2v_model, term_rankings):\n",
        "    overall_coherence = 0.0\n",
        "    for topic_index in range(len(term_rankings)):\n",
        "        # check each pair of terms\n",
        "        pair_scores = []\n",
        "        for pair in combinations( term_rankings[topic_index], 2 ):\n",
        "            try: # sometimes a term NMF identified may not have been identified by w2v\n",
        "                pair_scores.append( w2v_model.wv.similarity(pair[0], pair[1]) )\n",
        "            except:\n",
        "                None\n",
        "        # get the mean for all pairs in this topic\n",
        "        topic_score = sum(pair_scores) / len(pair_scores)\n",
        "        overall_coherence += topic_score\n",
        "    # get the mean score across all topics\n",
        "    return overall_coherence / len(term_rankings)\n",
        "\n",
        "#We also define a function to get the topic descriptor (i.e. list of top terms) for each topic:\n",
        "\n",
        "def get_descriptor( all_terms, H, topic_index, top ):\n",
        "    # reverse sort the values to sort the indices\n",
        "    top_indices = np.argsort( H[topic_index,:] )[::-1]\n",
        "    # now get the terms corresponding to the top-ranked indices\n",
        "    top_terms = []\n",
        "    for term_index in top_indices[0:top]:\n",
        "        top_terms.append( all_terms[term_index] )\n",
        "    return top_terms"
      ]
    },
    {
      "cell_type": "code",
      "execution_count": 38,
      "metadata": {
        "id": "Zry5PATAnhj3"
      },
      "outputs": [],
      "source": [
        "def do_coherence(k, W, H, terms=feature_names):\n",
        "    \"\"\"Generates a final coherence score for a NMF model\"\"\"\n",
        "    # where k is number of topics\n",
        "\n",
        "    # Get all of the topic descriptors - the term_rankings, based on top 10 terms\n",
        "    term_rankings = []\n",
        "    for topic_index in range(k):\n",
        "        term_rankings.append( get_descriptor( terms, H, topic_index, 10 ) )\n",
        "    global temp_top_terms\n",
        "    temp_top_terms = term_rankings\n",
        "    curr_coherence = calculate_coherence( w2v_model, term_rankings )\n",
        "    print(\"K=%02d: Coherence=%.4f\" % ( k, curr_coherence ) )\n",
        "    return curr_coherence"
      ]
    },
    {
      "cell_type": "code",
      "execution_count": 39,
      "metadata": {
        "id": "OMWwk4q2nhj4",
        "outputId": "0726feee-ad4d-4379-f248-483f911004cb",
        "colab": {
          "base_uri": "https://localhost:8080/"
        }
      },
      "outputs": [
        {
          "output_type": "stream",
          "name": "stdout",
          "text": [
            "K=18: Coherence=0.4824\n"
          ]
        },
        {
          "output_type": "execute_result",
          "data": {
            "text/plain": [
              "0.4824428917495189"
            ]
          },
          "metadata": {},
          "execution_count": 39
        }
      ],
      "source": [
        "do_coherence(18, W, H)"
      ]
    },
    {
      "cell_type": "markdown",
      "metadata": {
        "id": "flDQnaB9nhj4"
      },
      "source": [
        "end sourced code"
      ]
    },
    {
      "cell_type": "markdown",
      "metadata": {
        "id": "khAAPQyqnhj5"
      },
      "source": [
        "### NMF - Automatic Topic Number"
      ]
    },
    {
      "cell_type": "markdown",
      "metadata": {
        "id": "DgYN0poRnhj5"
      },
      "source": [
        "In practice, a model will not know a-priori the true number of topics in a set, so coherence score can be used as a measure to choose the best topic model across multiple numbers of topics."
      ]
    },
    {
      "cell_type": "code",
      "execution_count": null,
      "metadata": {
        "id": "7nguyXFDnhj6",
        "outputId": "a5f75886-94a5-404d-e1b0-8092e0613bdf"
      },
      "outputs": [
        {
          "name": "stdout",
          "output_type": "stream",
          "text": [
            "K=10: Coherence=0.4485\n",
            "K=12: Coherence=0.4756\n",
            "K=14: Coherence=0.4793\n",
            "K=16: Coherence=0.4819\n"
          ]
        },
        {
          "name": "stderr",
          "output_type": "stream",
          "text": [
            "/Users/johndriscoll/opt/anaconda3/lib/python3.9/site-packages/sklearn/decomposition/_nmf.py:1665: ConvergenceWarning: Maximum number of iterations 200 reached. Increase it to improve convergence.\n",
            "  warnings.warn(\n"
          ]
        },
        {
          "name": "stdout",
          "output_type": "stream",
          "text": [
            "K=18: Coherence=0.4947\n"
          ]
        },
        {
          "name": "stderr",
          "output_type": "stream",
          "text": [
            "/Users/johndriscoll/opt/anaconda3/lib/python3.9/site-packages/sklearn/decomposition/_nmf.py:1665: ConvergenceWarning: Maximum number of iterations 200 reached. Increase it to improve convergence.\n",
            "  warnings.warn(\n"
          ]
        },
        {
          "name": "stdout",
          "output_type": "stream",
          "text": [
            "K=20: Coherence=0.5083\n",
            "K=22: Coherence=0.5113\n",
            "K=24: Coherence=0.5073\n",
            "K=26: Coherence=0.5259\n",
            "K=28: Coherence=0.5209\n",
            "26 0.5259123247084964\n"
          ]
        }
      ],
      "source": [
        "# Create a list of the topic numbers we want to try\n",
        "topic_nums = np.arange(10, 30, 2)\n",
        "coherence_scores = dict()\n",
        "nmf_models = dict()\n",
        "\n",
        "for k in topic_nums:\n",
        "    curr_model, curr_W, curr_H = do_nmf(k)\n",
        "    nmf_models[k] = (curr_W, curr_H)\n",
        "    coherence_scores[k] = do_coherence(k, curr_W, curr_H)\n",
        "\n",
        "# Get the number of topics with the highest coherence score\n",
        "scores = list(zip(topic_nums, coherence_scores.values()))\n",
        "best_num_topics = sorted(scores, key=itemgetter(1), reverse=True)[0][0]\n",
        "\n",
        "print(best_num_topics, coherence_scores[best_num_topics])"
      ]
    },
    {
      "cell_type": "code",
      "execution_count": null,
      "metadata": {
        "id": "MWFbIKGBnhj6",
        "outputId": "b29f2c1f-4ef4-48f8-cf10-1044fb7ede0d"
      },
      "outputs": [
        {
          "data": {
            "image/png": "[encoded data removed]",
            "text/plain": [
              "<Figure size 432x288 with 1 Axes>"
            ]
          },
          "metadata": {
            "needs_background": "light"
          },
          "output_type": "display_data"
        }
      ],
      "source": [
        "plt.plot(topic_nums, coherence_scores.values())\n",
        "plt.title(\"Coherence Score by Topic Number - Best: {}\".format(best_num_topics))\n",
        "plt.grid(True)\n",
        "plt.xticks(topic_nums)\n",
        "plt.show()"
      ]
    },
    {
      "cell_type": "markdown",
      "metadata": {
        "id": "XE_iPezHnhj7"
      },
      "source": [
        "The model chosen by hyperparameter optimization on coherence would have 26 parameters."
      ]
    },
    {
      "cell_type": "markdown",
      "metadata": {
        "id": "wnfd9AYsnhj7"
      },
      "source": [
        "### NMF - Evaluation"
      ]
    },
    {
      "cell_type": "markdown",
      "metadata": {
        "id": "anASisROnhj7"
      },
      "source": [
        "For our evaluation of NMF, we use NMF with a manually selected 18 topics for ease of interpretation unless otherwise specified."
      ]
    },
    {
      "cell_type": "markdown",
      "metadata": {
        "id": "iAw3OP-mnhj7"
      },
      "source": [
        "#### Residual Score (NMF only)"
      ]
    },
    {
      "cell_type": "markdown",
      "metadata": {
        "id": "GqVZqvaFnhj7"
      },
      "source": [
        "\"Residuals are differences between the observed and predicted values of the data. A residual of 0 means the topic perfectly approximates the text of the article, so the lower the better.\n",
        "\n",
        "To calculate the residual you can take the Frobenius norm (square root of the sum of the absolute squares of its elements) of the tf-idf weights (A) minus the dot product of the coefficients of the topics (H) and the topics (W). We can then get the average residual for each topic to see which has the smallest residual on average.\" - https://freedium.cfd/https://towardsdatascience.com/topic-modeling-articles-with-nmf-8c6b2a227a45\n",
        "<br><br><br>\n",
        "How well do the topics approximate the original weights of the tfidf matrix for each document?\n",
        "Averaged across topics, can get the sense of how good of an approximator each topic is."
      ]
    },
    {
      "cell_type": "markdown",
      "metadata": {
        "id": "qN1LfGvZnhj7"
      },
      "source": [
        "Residual $[x_i]$ $\\lVert x_i - W_i H\\rVert _F$ where document $x_i \\in$ documents $X$, $W_i$ is row i of the Document-topic matrix and $H$ is the Topic-term matrix, $F$ represents Frobenius norm"
      ]
    },
    {
      "cell_type": "code",
      "execution_count": null,
      "metadata": {
        "id": "92n2YlkTnhj8",
        "outputId": "2a01f319-dd11-4e47-e843-e57729388989"
      },
      "outputs": [
        {
          "data": {
            "text/plain": [
              "array([0.86996536, 0.98171994, 0.95922364, ..., 0.99335532, 0.98736501,\n",
              "       0.99289406])"
            ]
          },
          "execution_count": 42,
          "metadata": {},
          "output_type": "execute_result"
        }
      ],
      "source": [
        "# For each document calculate the difference between the original tfidf weights and those predicted\n",
        "# by multiplying W and H for that specific row.\n",
        "# Cell Source: https://freedium.cfd/https://towardsdatascience.com/topic-modeling-articles-with-nmf-8c6b2a227a45\n",
        "def do_residual(dtm, W, H):\n",
        "    residuals = np.zeros(dtm.shape[0])\n",
        "    for row in range(dtm.shape[0]):\n",
        "        # 'fro' here means we are using the Frobenium norm as the distance metric\n",
        "        residuals[row] = np.linalg.norm(dtm[row, :] - W[row, :].dot(H), 'fro')\n",
        "    return residuals\n",
        "\n",
        "residuals = do_residual(dtm, W, H)\n",
        "residuals"
      ]
    },
    {
      "cell_type": "code",
      "execution_count": null,
      "metadata": {
        "id": "mNV7_wnpnhj8",
        "outputId": "d9f66bee-8110-4ab0-b949-565a18f42409"
      },
      "outputs": [
        {
          "data": {
            "text/plain": [
              "0.9708446389530064"
            ]
          },
          "execution_count": 43,
          "metadata": {},
          "output_type": "execute_result"
        }
      ],
      "source": [
        "np.mean(residuals)"
      ]
    },
    {
      "cell_type": "code",
      "execution_count": null,
      "metadata": {
        "id": "GM5353dgnhj9",
        "outputId": "00ef0a8e-84b9-4711-8ec6-544b1df2fef1"
      },
      "outputs": [
        {
          "data": {
            "text/plain": [
              "Text(0.5, 1.0, 'Average Residual per Document by Main Topic')"
            ]
          },
          "execution_count": 44,
          "metadata": {},
          "output_type": "execute_result"
        },
        {
          "data": {
            "image/png": "[encoded data removed]",
            "text/plain": [
              "<Figure size 432x288 with 1 Axes>"
            ]
          },
          "metadata": {
            "needs_background": "light"
          },
          "output_type": "display_data"
        }
      ],
      "source": [
        "residuals_by_topic = pd.Series(residuals).groupby(np.argmax(W, axis=1)).mean()\n",
        "plt.bar(x=residuals_by_topic.index, height=residuals_by_topic.values)\n",
        "plt.xticks(residuals_by_topic.index)\n",
        "plt.title(\"Average Residual per Document by Main Topic\")"
      ]
    },
    {
      "cell_type": "markdown",
      "metadata": {
        "id": "asMy4t3Inhj9"
      },
      "source": [
        "Residuals are nearly indistinguishable by visualization."
      ]
    },
    {
      "cell_type": "code",
      "execution_count": null,
      "metadata": {
        "id": "meiU1G6jnhj9",
        "outputId": "466df47b-7afb-4aa8-8eb1-37a12d02d5da"
      },
      "outputs": [
        {
          "data": {
            "text/plain": [
              "15    0.990236\n",
              "8     0.984835\n",
              "17    0.983434\n",
              "11    0.981562\n",
              "3     0.980905\n",
              "13    0.979958\n",
              "16    0.974065\n",
              "5     0.970011\n",
              "4     0.957961\n",
              "10    0.954941\n",
              "9     0.954250\n",
              "1     0.953899\n",
              "6     0.947701\n",
              "7     0.946102\n",
              "12    0.943613\n",
              "2     0.922046\n",
              "14    0.906730\n",
              "0     0.902853\n",
              "dtype: float64"
            ]
          },
          "execution_count": 49,
          "metadata": {},
          "output_type": "execute_result"
        }
      ],
      "source": [
        "residuals_by_topic.sort_values(ascending=False)"
      ]
    },
    {
      "cell_type": "markdown",
      "metadata": {
        "id": "k-xFa5EWnhj-"
      },
      "source": [
        "Topic 0 has the lowest residual while topic 15 has the highest."
      ]
    },
    {
      "cell_type": "markdown",
      "metadata": {
        "id": "yJGHrHrwnhj-"
      },
      "source": [
        "<b>Using Residual to Compare NMF Models</b>"
      ]
    },
    {
      "cell_type": "code",
      "execution_count": null,
      "metadata": {
        "id": "qUIE5c3Jnhj-",
        "outputId": "1beaa024-33ec-439f-cf2c-c3aa9e3d4c6f"
      },
      "outputs": [
        {
          "data": {
            "text/plain": [
              "0.9649444927577222"
            ]
          },
          "execution_count": 62,
          "metadata": {},
          "output_type": "execute_result"
        }
      ],
      "source": [
        "# manually selected had residual of 0.98\n",
        "# calculate residual on \"best\" model chosen by coherence score (26 topics)\n",
        "np.mean(do_residual(dtm, list(nmf_models.values())[-2][0], list(nmf_models.values())[-2][1]))"
      ]
    },
    {
      "cell_type": "markdown",
      "metadata": {
        "id": "ZYxwoLrWnhj-"
      },
      "source": [
        "The matrix chosen by coherence score has a worse residual than the one chosen with 18 features, indicating that selecting by coherence score may not result in the best decomposition, but it is standard practice at the moment."
      ]
    },
    {
      "cell_type": "markdown",
      "metadata": {
        "id": "UBdSvHa5nhj-"
      },
      "source": [
        "#### \"Expert\" Manual Evaluation"
      ]
    },
    {
      "cell_type": "markdown",
      "metadata": {
        "id": "jXICJv4Knhj-"
      },
      "source": [
        "Note: These types of manual investigations can serve as sanity checks but don't tell us much about how good a topic model would be for a given task."
      ]
    },
    {
      "cell_type": "markdown",
      "metadata": {
        "id": "tQi7pW9lnhj_"
      },
      "source": [
        "<b>Instance Inspection</b>\n",
        "\n",
        "Since relevance is difficult to interpret without a baseline, we compare the two for quality below by inspecting sets of training instances."
      ]
    },
    {
      "cell_type": "code",
      "execution_count": null,
      "metadata": {
        "id": "c6-QoCHHnhj_",
        "outputId": "566f11f9-eeb8-4c24-f34c-866dd010c9e1"
      },
      "outputs": [
        {
          "data": {
            "text/plain": [
              "['running',\n",
              " 'run',\n",
              " 'using',\n",
              " 'version',\n",
              " 'font',\n",
              " 'program',\n",
              " 'manager',\n",
              " 'application',\n",
              " 'do',\n",
              " 'window']"
            ]
          },
          "metadata": {},
          "output_type": "display_data"
        },
        {
          "data": {
            "text/plain": [
              "(5749,\n",
              " 'Consumer Reports once wrote about the S-10 Blazer that it \"shook and rattled\\nlike a tired taxi cab\".  There is one noise that is expecially irritating -\\nthe back window squeaks.  I believe its because the whole tailgate assembly\\nand window are not solid.  Anyway, has anyone had the same problem, and have\\nyou found any fixes?')"
            ]
          },
          "metadata": {},
          "output_type": "display_data"
        },
        {
          "data": {
            "text/plain": [
              "(1157,\n",
              " \"comp.windows.x\\nIn article <1993Apr26.122007.25760@relay.nswc.navy.mil>, rchui@nswc-wo.nswc.navy.mil (Raymond Chui) writes:\\n\\n\\tPlease igore my previouse calculation mistaked. Please see the correct\\ncalculation. Sorry!\\n|> I created a pixmap or drawable window, then used XDrawLine() function \\n|> drawed a line as below fingure:\\n|> \\n|> \\t\\twidth = 300\\n|> \\t================================\\n|> \\t|\\t\\t\\t\\t|\\n|> \\t|\\t\\t\\t\\t|\\n|> \\t|\\t\\t\\tp1\\t|\\n|> \\t|\\t\\t\\t\\\\\\t|\\n|> \\t|\\t\\t\\t \\\\\\t| height = 300\\n|> \\t|\\t\\t\\t  \\\\\\t|\\n|> \\t|\\t\\t\\t   \\\\\\t|\\n|> \\t|\\t\\t\\t    \\\\\\t|\\n|> \\t|\\t\\t\\t     \\\\\\t|\\n|> \\t|\\t\\t\\t      \\\\\\t|\\n|> \\t|\\t\\t\\t       \\\\|p3\\n|> \\t|\\t\\t\\t\\t| \\n|> \\t|===============================| \\\\\\n|> \\t\\t\\t\\t\\t    \\\\\\n|> \\t\\t\\t\\t\\t     p2\\n|> \\n|> \\tI created the pixmap or drawable window only with size 300x300.\\n|> But I draw line from p1(x1=270,y1=100) to p2(x2=500,y2=800).\\n|> My question is, dose the XDrawLine function can finger out that correct\\n|> p3(x3 and y3) for me? If you calculate x3 and y3. \\n|> \\n x3 = 300;\\n @ = art tan (500 - 270)/(800 - 100)) = 18.19 degrees;\\n y3 = 100 + (300 - 270)/tan(@) = 191.29 ~= 191 integer\\n\\n|> \\n|> How do I prove XDrawLine() give me the right x3, y3 or not?\\n|> Please don't ask me why I don't created a 900x900 pixmap. No, I don't\\n|> wan to. \\n|> \\n|> Thanks in advance!\\n|> -- \\n|> Raymond H. Chui\\n|> NSWC N62\\n|> 10901 New Hampshire Ave.\\n|> Silver Spring, MD 20903-5000\\n|> U.S.A.\\n|> Voice:1(301)394-3807 Ext. 45\\n|> FAX:1(301)394-4483\\n|> EMail:rchui@opal.nswc.navy.mil\\n|>  _ __                                  _    ,    __\\n|> ' )  )                           /    ' )  /    /  ) /\\n|>  /--' __. , , ____   ______   __/      /--/    /    /_  . . o\\n|> /  \\\\_(_(_(_/_/) ) )_(_) /) )_(_(_     /  ( o  (__/ / /_(_/_(_\\n|>           /\\n|>          '\\n\")"
            ]
          },
          "metadata": {},
          "output_type": "display_data"
        },
        {
          "data": {
            "text/plain": [
              "(1118,\n",
              " \"I am developing an X (Xt,Xm) application that will include a graphics window\\nof some sort with moving symbols among other things.  A pure X application\\ncould be implemented with Motif widgets, one of which would be an \\nXmDrawingArea for drawing with Xlib.  But I would like to take advantage of\\nthe Graphics Library (GL) available on our IBM RS/6000 (SGI's GL i believe).\\n\\nIs it possible to mix X and GL in one application program?\\nCan I use GL subroutines in an XmDrawingArea or in an X window opened by me\\nwith XOpenWindow?\\n\\nI have never used GL before, but the doc on GL winopen() says that the first\\ntime winopen() is called it opens a connection to the server.   Also, most of\\nthe GL calls do not require a Display or GC, unlike most X calls.  From this\\ninitial information it appears that X and GL cannot be mixed easily.   Is this\\ntrue?\\n\\nDoes PEX (graPHIGS?) have the same functionality of GL?\\n\\n\\nEnvironment:\\n     AIXwindows X11R4\\n     Motif 1.1\\n     GL is available\\n     AIX Sys V 3.2\\n     IBM RS/6000 360\\n\\n\\nThanks in advance.\\n\\nJay Graham\\nJade Simulations International Corp.\\n14 Colonnade Road, Suite 150\\nNepean, Ontario, Canada\\n613-225-5900 x226\")"
            ]
          },
          "metadata": {},
          "output_type": "display_data"
        },
        {
          "data": {
            "text/plain": [
              "(8705,\n",
              " 'I have a 486DX33 ISA system with 4 meg.  I am using a Diamond Speedstar HiColor\\nvideo card with 1 meg VRAM and a standard CTX 14-in SVGA monitor.  When I am\\nrunning Windows, and I have overlapping windows (say an application overlapping\\nthe program manager window), and I close the active application, window erasure\\nis very slow.  The part of the window that is not overlapping is erased first,\\nvery slowly.  This also happens when I iconify an application.\\n\\nThe HiColor card is advertised as a faster-than-standard video card, but it\\ndoes not have an accelerator chip on it.  I am running at 800x600x32k.  Is this\\nslow speed simply to be expected without an accelerator chip, or is there\\nsomething else that is bottlenecking the system that I am unaware of?\\n\\nThanks.')"
            ]
          },
          "metadata": {},
          "output_type": "display_data"
        },
        {
          "data": {
            "text/plain": [
              "(3716,\n",
              " \"In Windows I created a permanent Swap-file of 7771Kb as win3.1\\nrecommended me to do that (32bit access).\\nIf I use EMM386.EXE, after win3.1 startup I have 6689K of memory\\nfree, if I leave EMM386.EXE out of my config.sys I have 9935K\\nof memory free, and windows recommends me a swap file of 11769K.\\n\\nI use DOS6, with memmaker, have 4MB of internal Memory and a 486DX,\\n\\nDoes anybody knows why this is happening (possibly win needs\\nsome UMB's to manage virtual memory?, If true, which UMB's, those\\nthat EMM386 can find without including suspicious parts?)\\n\\nI need an optimized DOS-environment, because i develop applications for\\nDOS using a windows programming environment.\\n\")"
            ]
          },
          "metadata": {},
          "output_type": "display_data"
        },
        {
          "data": {
            "text/plain": [
              "['tape',\n",
              " 'meg',\n",
              " 'boot',\n",
              " 'cdrom',\n",
              " 'switch',\n",
              " 'cable',\n",
              " 'jumper',\n",
              " 'floppy',\n",
              " 'hard',\n",
              " 'drive']"
            ]
          },
          "metadata": {},
          "output_type": "display_data"
        },
        {
          "data": {
            "text/plain": [
              "(8908,\n",
              " 'MJMUISE@1302.watstar.uwaterloo.ca (Mike Muise) writes:\\n\\n> In article <C4wKBp.B9w@eskimo.com>, maven@eskimo.com (Norman Hamer) writes:\\n> >  What is a general rule of thumb for sobriety and cycling? Couple hours \\n> > after you \"feel\" sober? What? Or should I just work with \"If I drink \\n> > tonight, I don\\'t ride until tomorrow\"?\\n> \\n> 1 hr/drink for the first 4 drinks.\\n> 1.5 hours/drink for the next 6 drinks.\\n> 2 hours/drink for the rest.\\n\\nI took an alcohol server\\'s class a few years ago.  (What the hey- my employer\\npaid for it...)\\n\\nWe were told that the 1 drink / hour rule was written with 80 proof booze\\nand a 195 pound person in mind.  Drinking Cuervo Gold, weighing in @ 140,\\nI obviously will get drunk faster than the theoretical person mentioned\\nabove.  Worse, imagine Rum & coke made with Bacardi 151...\\n\\nMind you all, that\\'s for getting too drunk to drive a car.  I may only\\nhave been riding for a month or so, but I plan my evenings with a very\\nrigid exclusive or statement: Either don\\'t drink, or don\\'t ride.\\nPretty simple.\\n\\n> \\n> These are fairly cautious guidelines, and will work even if you happen to \\n> have a low tolerance or body mass.\\n> I think the cops and \"Don\\'t You Dare Drink & Drive\" (tm) commercials will \\n> usually say 1hr/drink in general, but after about 5 drinks and 5 hrs, you \\n> could very well be over the legal limit. \\n> Watch yourself.\\n> -Mike\\n\\nSorry, mike, I have to believe that that policy works best as fertilizer,\\neven if all you plan to do is drive home nice and \"safe\" in your cage...\\n\\n>   ________________________________________________\\n>  / Mike Muise / mjmuise@1302.watstar.uwaterloo.ca \\\\ no quotes, no jokes,\\n>  \\\\ Electrical Engineering, University of Waterloo / no disclaimer, no fear.\\n\\n')"
            ]
          },
          "metadata": {},
          "output_type": "display_data"
        },
        {
          "data": {
            "text/plain": [
              "(8263,\n",
              " 'Greetings all...\\n\\nCould some kind sole email me the specs for a Western Digital drive?\\n\\nIt is Model # WD93044-A with 782 cyl and 4 hds.  But I do not know the\\nsectors per track, or any of the other information I have to feed to my\\nbios to get it up and running.\\n\\nThanx for any help\\nBob K.\\n\\nroking@lynx.dac.northeastern.edu')"
            ]
          },
          "metadata": {},
          "output_type": "display_data"
        },
        {
          "data": {
            "text/plain": [
              "(2981,\n",
              " \"Hi there!\\n\\nWhat is your recommendation for a good hard-disk driver software for\\nnon-Apple drives? I would mainly need it for a SyQuest removable media\\ndrive, but maybe for some normal drives too.\\nI have heard and seen good things about SilverLining, but don't know\\nany competitors. It does not need to be fancy, filled with features...\\nI more like it affordable.\\n\\nThanks\\n\")"
            ]
          },
          "metadata": {},
          "output_type": "display_data"
        },
        {
          "data": {
            "text/plain": [
              "(6659,\n",
              " 'I have a 486 machine with a 3.5\" A: drive and a 5.25\" B: drive.  I\\nwant to swap them so 3.5\" drive is A:  What do I have to do?\\n\\nTIA\\n')"
            ]
          },
          "metadata": {},
          "output_type": "display_data"
        },
        {
          "data": {
            "text/plain": [
              "(4267,\n",
              " 'HELP, PROBLEM 486/33MHZ HANGS IN EXTENDED MODE TRYING TO\\nACCESS DRIVES A: OR B: , SOMETIMES IT WILL DO DIR , SOMETIMES WILL HANG\\nON ACCESS SOMETIMES WILL WHEN TYING A TEXT FILE.\\n\\nHARDWARE:\\nAMERICAN MEGATREND MOTHERBOARD\\nAMI BIOS 91\\nCONNER 85MB HARD DRIVE\\nTRIDENT 1 MEG SVGA')"
            ]
          },
          "metadata": {},
          "output_type": "display_data"
        }
      ],
      "source": [
        "chosen_topic_1 = np.random.choice(np.array(range(dtm.shape[0]))[np.argmax(W, axis=1)==1], size=5, replace=False)\n",
        "display([feature_names[i] for i in H[1].argsort()[-10:]])\n",
        "for i, content in newsgroup_df['document'].iloc[chosen_topic_1].items(): display((i, content))\n",
        "chosen_topic_2 = np.random.choice(np.array(range(dtm.shape[0]))[np.argmax(W, axis=1)==2], size=5, replace=False)\n",
        "display([feature_names[i] for i in H[2].argsort()[-10:]])\n",
        "for i, content in newsgroup_df['document'].iloc[chosen_topic_2].items(): display((i, content))"
      ]
    },
    {
      "cell_type": "markdown",
      "metadata": {
        "id": "PGhqtv-enhj_"
      },
      "source": [
        "Both topics seem to be representative of the randomly chosen instances best explained by that topic."
      ]
    },
    {
      "cell_type": "markdown",
      "metadata": {
        "id": "fFwytravnhkA"
      },
      "source": [
        "<b>Comparative Visualization</b>\n",
        "\n",
        "We can also see how the generated topics relate to the new topics."
      ]
    },
    {
      "cell_type": "code",
      "execution_count": null,
      "metadata": {
        "id": "5UBkCHcJnhkA",
        "outputId": "d3f62bda-a4b8-4728-c990-f12e6bfccb29"
      },
      "outputs": [
        {
          "data": {
            "image/png": "[encoded data removed]",
            "text/plain": [
              "<Figure size 432x288 with 1 Axes>"
            ]
          },
          "metadata": {
            "needs_background": "light"
          },
          "output_type": "display_data"
        }
      ],
      "source": [
        "def plot_topic_match_nmf(W, H):\n",
        "    nmf_group_df = newsgroup_df.copy()\n",
        "    #dominant topic for each instance\n",
        "    nmf_group_df['dominant topic'] = np.argmax(W,axis=1)\n",
        "    top_two_labels = H.argsort(axis=1)[:,-2:]\n",
        "    nmf_group_df['dominant labels'] = nmf_group_df['dominant topic'].apply(\n",
        "            lambda x: \" \".join([feature_names[i] for i in top_two_labels[x]])\n",
        "        )\n",
        "    topic_match_df = nmf_group_df.groupby(['newsgroup', 'dominant labels']).count().reset_index()\n",
        "    topic_match_df.plot.scatter(\n",
        "        x='newsgroup', y='dominant labels', s='document')\n",
        "    plt.xticks(rotation='vertical');\n",
        "    plt.title(\"Distribution of \")\n",
        "    plt.plot()\n",
        "    return nmf_group_df, topic_match_df\n",
        "\n",
        "nmf_group_df, topic_match_df = plot_topic_match_nmf(W, H);"
      ]
    },
    {
      "cell_type": "markdown",
      "metadata": {
        "id": "EbZXo920nhkB"
      },
      "source": [
        "Some of the NMF categories map directly to original newsgroups, like \"team, game\" maps to baseball and hockey with high frequency. So does \"nasa, space\" to medicine and space. However, other topics did not capture the original newsgroups well."
      ]
    },
    {
      "cell_type": "markdown",
      "metadata": {
        "id": "oK3CYHbbnhkB"
      },
      "source": [
        "#### Topic Diversity"
      ]
    },
    {
      "cell_type": "markdown",
      "metadata": {
        "id": "VMzkVnRtnhkB"
      },
      "source": [
        "Topic diversity measures how distinct the topics are from each other, based on their overlap or similarity.\n",
        "\n",
        "\"The more diverse the resulting topics are, the higher will be the coverage of the various aspects of the analyzed corpus. It is therefore important to also obtain topics that are different from each other (rather than just considering how much coherent the topics are).\" -Silvia Terragni (https://github.com/silviatti/topic-model-diversity)"
      ]
    },
    {
      "cell_type": "code",
      "execution_count": null,
      "metadata": {
        "id": "bVVflBL_nhkB"
      },
      "outputs": [],
      "source": [
        "top_ten_labels = H.argsort(axis=1)[:,-10:]\n",
        "nmf_topics_output = dict()\n",
        "nmf_topics_output['topics'] = [[feature_names[i] for i in x] for x in top_ten_labels]"
      ]
    },
    {
      "cell_type": "code",
      "execution_count": null,
      "metadata": {
        "id": "Z8u6TDClnhkC",
        "outputId": "0753907b-f13d-423d-e11d-9152232c2539"
      },
      "outputs": [
        {
          "data": {
            "text/plain": [
              "0.9111111111111111"
            ]
          },
          "execution_count": 75,
          "metadata": {},
          "output_type": "execute_result"
        }
      ],
      "source": [
        "metric = TopicDiversity(topk=10) # Initialize metric\n",
        "topic_diversity_score_nmf_18 = metric.score(nmf_topics_output) # Compute score of the metric\n",
        "topic_diversity_score_nmf_18"
      ]
    },
    {
      "cell_type": "markdown",
      "metadata": {
        "id": "cgTtP3BWnhkC"
      },
      "source": [
        "Let's compare this to the coherence-picked nmf:"
      ]
    },
    {
      "cell_type": "code",
      "execution_count": null,
      "metadata": {
        "id": "HDMHigsAnhkC",
        "outputId": "29760840-da10-46b6-d397-140e55333f90"
      },
      "outputs": [
        {
          "data": {
            "text/plain": [
              "0.8769230769230769"
            ]
          },
          "execution_count": 82,
          "metadata": {},
          "output_type": "execute_result"
        }
      ],
      "source": [
        "top_ten_labels = list(nmf_models.values())[-2][1].argsort(axis=1)[:,-10:]\n",
        "nmf_topics_output = dict()\n",
        "nmf_topics_output['topics'] = [[feature_names[i] for i in x] for x in top_ten_labels]\n",
        "topic_diversity_score_nmf_26 = metric.score(nmf_topics_output) # Compute score of the metric\n",
        "topic_diversity_score_nmf_26"
      ]
    },
    {
      "cell_type": "markdown",
      "metadata": {
        "id": "lI0cijuNnhkC"
      },
      "source": [
        "The diversity of the nmf picked by coherence is also lower. This is expected because there is a lower number of topics."
      ]
    },
    {
      "cell_type": "markdown",
      "metadata": {
        "id": "Kx6R5eyTnhkD"
      },
      "source": [
        "#### Predictive Utility"
      ]
    },
    {
      "cell_type": "markdown",
      "metadata": {
        "id": "0r5q-Ib9nhkD"
      },
      "source": [
        "The best way to measure how useful topic groups are would be to measure their predictive accuracy on a new set of data. However, since the new topics don't match back to the original labels we can't do this for the 20 newsgroups dataset. If we try to match them back to the original measure the accuracy is abysmal.\n",
        "\n",
        "In conclusion, <b>unless we are comparing topic models for a specific use case, their true usefulness will be near-possible to evaluate.<b>"
      ]
    },
    {
      "cell_type": "markdown",
      "metadata": {
        "id": "cVjhjQiXnhkD"
      },
      "source": [
        "Nevertheless, here's what happens if we try to map the topics back:"
      ]
    },
    {
      "cell_type": "code",
      "execution_count": null,
      "metadata": {
        "id": "0xFJ-oSRnhkD"
      },
      "outputs": [],
      "source": [
        "def get_predictions(model, X, vectorizer):\n",
        "    vectors = vectorizer.transform(X)#.todense() # (documents, vocab)\n",
        "    display(vectors)\n",
        "    predictions = model.transform(vectors)\n",
        "    predictions = np.argmax(predictions, axis=1)\n",
        "    return predictions"
      ]
    },
    {
      "cell_type": "code",
      "execution_count": null,
      "metadata": {
        "id": "WmRdOzeEnhkD",
        "outputId": "e1fe46cb-b05d-4c7d-f828-094c5b8a1172"
      },
      "outputs": [
        {
          "data": {
            "text/plain": [
              "<6971x36176 sparse matrix of type '<class 'numpy.float64'>'\n",
              "\twith 431499 stored elements in Compressed Sparse Row format>"
            ]
          },
          "metadata": {},
          "output_type": "display_data"
        },
        {
          "data": {
            "text/plain": [
              "((6971,),\n",
              " 0        7\n",
              " 1        5\n",
              " 2        0\n",
              " 3       17\n",
              " 4       13\n",
              "         ..\n",
              " 6966    14\n",
              " 6967     4\n",
              " 6968     9\n",
              " 6969     6\n",
              " 6970    15\n",
              " Name: target, Length: 6971, dtype: int64)"
            ]
          },
          "execution_count": 88,
          "metadata": {},
          "output_type": "execute_result"
        }
      ],
      "source": [
        "#test data created in preprocessing section - test_newsgroup_df\n",
        "test_vectors = test_newsgroup_df['processed_documents']\n",
        "get_predictions(model=nmf_model, X=test_vectors, vectorizer=vectorizer).shape, test_newsgroup_df['target'].reset_index(drop=True)"
      ]
    },
    {
      "cell_type": "code",
      "execution_count": null,
      "metadata": {
        "id": "Yk6bImrsnhkD"
      },
      "outputs": [],
      "source": [
        "# utility dictionary that maps dominant topic label back to its nmf topic number\n",
        "nmf_label_back_to_topic = nmf_group_df.groupby('dominant labels').first()['dominant topic'].to_dict()"
      ]
    },
    {
      "cell_type": "code",
      "execution_count": null,
      "metadata": {
        "id": "otIVfgKLnhkE"
      },
      "outputs": [],
      "source": [
        "# utility map for predicted topics back to original topics, based on which original topic most likely per predicted\n",
        "# Group by 'group' and get the most frequent string in 'value'\n",
        "topic_map = topic_match_df.groupby('dominant labels')['newsgroup'].agg(lambda x: np.argmax(x.value_counts().index)).reset_index()\n",
        "topic_map['dominant topic'] = topic_map['dominant labels'].apply(lambda x: nmf_label_back_to_topic[x])\n",
        "map_topic_to_newsgroup = topic_map[['dominant topic', 'newsgroup']].set_index('dominant topic')['newsgroup'].to_dict()"
      ]
    },
    {
      "cell_type": "code",
      "execution_count": null,
      "metadata": {
        "id": "p4G2eV5SnhkE",
        "outputId": "6b150376-034c-4bb3-97ec-21a250eec581"
      },
      "outputs": [
        {
          "data": {
            "text/plain": [
              "<6971x36176 sparse matrix of type '<class 'numpy.float64'>'\n",
              "\twith 431499 stored elements in Compressed Sparse Row format>"
            ]
          },
          "metadata": {},
          "output_type": "display_data"
        },
        {
          "data": {
            "text/plain": [
              "0.048199684406828286"
            ]
          },
          "execution_count": 124,
          "metadata": {},
          "output_type": "execute_result"
        }
      ],
      "source": [
        "# compute pred accuracy for most likely original topic\n",
        "# compare true test categories to mapped back labels of nmf dominant topics\n",
        "np.mean(\n",
        "        test_newsgroup_df['target'].reset_index(drop=True) == \\\n",
        "        np.array([map_topic_to_newsgroup[x] for x in \\\n",
        "                get_predictions(model=nmf_model, X=test_vectors, vectorizer=vectorizer)])\n",
        "    )"
      ]
    },
    {
      "cell_type": "markdown",
      "metadata": {
        "id": "QzWp3xpPnhkE"
      },
      "source": [
        "The ability to map back is incredibly weak with an accuracy of 5%. Predictive utility for the original topics is negligible."
      ]
    },
    {
      "cell_type": "markdown",
      "metadata": {
        "id": "b-_cuWjAnhkE"
      },
      "source": [
        "### BERTopic"
      ]
    },
    {
      "cell_type": "code",
      "execution_count": 40,
      "metadata": {
        "id": "5Sz3hdAqnhkF",
        "outputId": "846c16fa-1fa9-445f-ae7d-3a3f096f41c3",
        "colab": {
          "base_uri": "https://localhost:8080/"
        }
      },
      "outputs": [
        {
          "output_type": "stream",
          "name": "stdout",
          "text": [
            "Collecting bertopic\n",
            "  Downloading bertopic-0.16.4-py3-none-any.whl.metadata (23 kB)\n",
            "Collecting hdbscan>=0.8.29 (from bertopic)\n",
            "  Downloading hdbscan-0.8.40-cp310-cp310-manylinux_2_17_x86_64.manylinux2014_x86_64.whl.metadata (15 kB)\n",
            "Requirement already satisfied: numpy>=1.20.0 in /usr/local/lib/python3.10/dist-packages (from bertopic) (1.26.4)\n",
            "Requirement already satisfied: pandas>=1.1.5 in /usr/local/lib/python3.10/dist-packages (from bertopic) (2.2.2)\n",
            "Requirement already satisfied: plotly>=4.7.0 in /usr/local/lib/python3.10/dist-packages (from bertopic) (5.24.1)\n",
            "Requirement already satisfied: scikit-learn>=0.22.2.post1 in /usr/local/lib/python3.10/dist-packages (from bertopic) (1.1.0)\n",
            "Requirement already satisfied: sentence-transformers>=0.4.1 in /usr/local/lib/python3.10/dist-packages (from bertopic) (3.2.1)\n",
            "Requirement already satisfied: tqdm>=4.41.1 in /usr/local/lib/python3.10/dist-packages (from bertopic) (4.66.6)\n",
            "Collecting umap-learn>=0.5.0 (from bertopic)\n",
            "  Downloading umap_learn-0.5.7-py3-none-any.whl.metadata (21 kB)\n",
            "Requirement already satisfied: scipy>=1.0 in /usr/local/lib/python3.10/dist-packages (from hdbscan>=0.8.29->bertopic) (1.12.0)\n",
            "Requirement already satisfied: joblib>=1.0 in /usr/local/lib/python3.10/dist-packages (from hdbscan>=0.8.29->bertopic) (1.4.2)\n",
            "Requirement already satisfied: python-dateutil>=2.8.2 in /usr/local/lib/python3.10/dist-packages (from pandas>=1.1.5->bertopic) (2.8.2)\n",
            "Requirement already satisfied: pytz>=2020.1 in /usr/local/lib/python3.10/dist-packages (from pandas>=1.1.5->bertopic) (2024.2)\n",
            "Requirement already satisfied: tzdata>=2022.7 in /usr/local/lib/python3.10/dist-packages (from pandas>=1.1.5->bertopic) (2024.2)\n",
            "Requirement already satisfied: tenacity>=6.2.0 in /usr/local/lib/python3.10/dist-packages (from plotly>=4.7.0->bertopic) (9.0.0)\n",
            "Requirement already satisfied: packaging in /usr/local/lib/python3.10/dist-packages (from plotly>=4.7.0->bertopic) (24.2)\n",
            "Requirement already satisfied: threadpoolctl>=2.0.0 in /usr/local/lib/python3.10/dist-packages (from scikit-learn>=0.22.2.post1->bertopic) (3.5.0)\n",
            "Requirement already satisfied: transformers<5.0.0,>=4.41.0 in /usr/local/lib/python3.10/dist-packages (from sentence-transformers>=0.4.1->bertopic) (4.46.2)\n",
            "Requirement already satisfied: torch>=1.11.0 in /usr/local/lib/python3.10/dist-packages (from sentence-transformers>=0.4.1->bertopic) (2.5.1+cu121)\n",
            "Requirement already satisfied: huggingface-hub>=0.20.0 in /usr/local/lib/python3.10/dist-packages (from sentence-transformers>=0.4.1->bertopic) (0.26.2)\n",
            "Requirement already satisfied: Pillow in /usr/local/lib/python3.10/dist-packages (from sentence-transformers>=0.4.1->bertopic) (11.0.0)\n",
            "Requirement already satisfied: numba>=0.51.2 in /usr/local/lib/python3.10/dist-packages (from umap-learn>=0.5.0->bertopic) (0.60.0)\n",
            "Collecting pynndescent>=0.5 (from umap-learn>=0.5.0->bertopic)\n",
            "  Downloading pynndescent-0.5.13-py3-none-any.whl.metadata (6.8 kB)\n",
            "Requirement already satisfied: filelock in /usr/local/lib/python3.10/dist-packages (from huggingface-hub>=0.20.0->sentence-transformers>=0.4.1->bertopic) (3.16.1)\n",
            "Requirement already satisfied: fsspec>=2023.5.0 in /usr/local/lib/python3.10/dist-packages (from huggingface-hub>=0.20.0->sentence-transformers>=0.4.1->bertopic) (2024.10.0)\n",
            "Requirement already satisfied: pyyaml>=5.1 in /usr/local/lib/python3.10/dist-packages (from huggingface-hub>=0.20.0->sentence-transformers>=0.4.1->bertopic) (6.0.2)\n",
            "Requirement already satisfied: requests in /usr/local/lib/python3.10/dist-packages (from huggingface-hub>=0.20.0->sentence-transformers>=0.4.1->bertopic) (2.32.3)\n",
            "Requirement already satisfied: typing-extensions>=3.7.4.3 in /usr/local/lib/python3.10/dist-packages (from huggingface-hub>=0.20.0->sentence-transformers>=0.4.1->bertopic) (4.12.2)\n",
            "Requirement already satisfied: llvmlite<0.44,>=0.43.0dev0 in /usr/local/lib/python3.10/dist-packages (from numba>=0.51.2->umap-learn>=0.5.0->bertopic) (0.43.0)\n",
            "Requirement already satisfied: six>=1.5 in /usr/local/lib/python3.10/dist-packages (from python-dateutil>=2.8.2->pandas>=1.1.5->bertopic) (1.16.0)\n",
            "Requirement already satisfied: networkx in /usr/local/lib/python3.10/dist-packages (from torch>=1.11.0->sentence-transformers>=0.4.1->bertopic) (3.4.2)\n",
            "Requirement already satisfied: jinja2 in /usr/local/lib/python3.10/dist-packages (from torch>=1.11.0->sentence-transformers>=0.4.1->bertopic) (3.1.4)\n",
            "Requirement already satisfied: sympy==1.13.1 in /usr/local/lib/python3.10/dist-packages (from torch>=1.11.0->sentence-transformers>=0.4.1->bertopic) (1.13.1)\n",
            "Requirement already satisfied: mpmath<1.4,>=1.1.0 in /usr/local/lib/python3.10/dist-packages (from sympy==1.13.1->torch>=1.11.0->sentence-transformers>=0.4.1->bertopic) (1.3.0)\n",
            "Requirement already satisfied: regex!=2019.12.17 in /usr/local/lib/python3.10/dist-packages (from transformers<5.0.0,>=4.41.0->sentence-transformers>=0.4.1->bertopic) (2024.9.11)\n",
            "Requirement already satisfied: safetensors>=0.4.1 in /usr/local/lib/python3.10/dist-packages (from transformers<5.0.0,>=4.41.0->sentence-transformers>=0.4.1->bertopic) (0.4.5)\n",
            "Requirement already satisfied: tokenizers<0.21,>=0.20 in /usr/local/lib/python3.10/dist-packages (from transformers<5.0.0,>=4.41.0->sentence-transformers>=0.4.1->bertopic) (0.20.3)\n",
            "Requirement already satisfied: MarkupSafe>=2.0 in /usr/local/lib/python3.10/dist-packages (from jinja2->torch>=1.11.0->sentence-transformers>=0.4.1->bertopic) (3.0.2)\n",
            "Requirement already satisfied: charset-normalizer<4,>=2 in /usr/local/lib/python3.10/dist-packages (from requests->huggingface-hub>=0.20.0->sentence-transformers>=0.4.1->bertopic) (3.4.0)\n",
            "Requirement already satisfied: idna<4,>=2.5 in /usr/local/lib/python3.10/dist-packages (from requests->huggingface-hub>=0.20.0->sentence-transformers>=0.4.1->bertopic) (3.10)\n",
            "Requirement already satisfied: urllib3<3,>=1.21.1 in /usr/local/lib/python3.10/dist-packages (from requests->huggingface-hub>=0.20.0->sentence-transformers>=0.4.1->bertopic) (2.2.3)\n",
            "Requirement already satisfied: certifi>=2017.4.17 in /usr/local/lib/python3.10/dist-packages (from requests->huggingface-hub>=0.20.0->sentence-transformers>=0.4.1->bertopic) (2024.8.30)\n",
            "Downloading bertopic-0.16.4-py3-none-any.whl (143 kB)\n",
            "\u001b[2K   \u001b[90m━━━━━━━━━━━━━━━━━━━━━━━━━━━━━━━━━━━━━━━━\u001b[0m \u001b[32m143.7/143.7 kB\u001b[0m \u001b[31m5.3 MB/s\u001b[0m eta \u001b[36m0:00:00\u001b[0m\n",
            "\u001b[?25hDownloading hdbscan-0.8.40-cp310-cp310-manylinux_2_17_x86_64.manylinux2014_x86_64.whl (4.2 MB)\n",
            "\u001b[2K   \u001b[90m━━━━━━━━━━━━━━━━━━━━━━━━━━━━━━━━━━━━━━━━\u001b[0m \u001b[32m4.2/4.2 MB\u001b[0m \u001b[31m45.4 MB/s\u001b[0m eta \u001b[36m0:00:00\u001b[0m\n",
            "\u001b[?25hDownloading umap_learn-0.5.7-py3-none-any.whl (88 kB)\n",
            "\u001b[2K   \u001b[90m━━━━━━━━━━━━━━━━━━━━━━━━━━━━━━━━━━━━━━━━\u001b[0m \u001b[32m88.8/88.8 kB\u001b[0m \u001b[31m6.3 MB/s\u001b[0m eta \u001b[36m0:00:00\u001b[0m\n",
            "\u001b[?25hDownloading pynndescent-0.5.13-py3-none-any.whl (56 kB)\n",
            "\u001b[2K   \u001b[90m━━━━━━━━━━━━━━━━━━━━━━━━━━━━━━━━━━━━━━━━\u001b[0m \u001b[32m56.9/56.9 kB\u001b[0m \u001b[31m4.3 MB/s\u001b[0m eta \u001b[36m0:00:00\u001b[0m\n",
            "\u001b[?25hInstalling collected packages: pynndescent, hdbscan, umap-learn, bertopic\n",
            "Successfully installed bertopic-0.16.4 hdbscan-0.8.40 pynndescent-0.5.13 umap-learn-0.5.7\n"
          ]
        }
      ],
      "source": [
        "#! pip install bertopic"
      ]
    },
    {
      "cell_type": "code",
      "execution_count": null,
      "metadata": {
        "id": "JNtFJVkbnhkF",
        "outputId": "c87f7927-79da-4328-b32d-c344aabf3743"
      },
      "outputs": [
        {
          "name": "stdout",
          "output_type": "stream",
          "text": [
            "Requirement already satisfied: typing-inspect==0.8.0 in /Users/johndriscoll/opt/anaconda3/lib/python3.9/site-packages (0.8.0)\n",
            "Requirement already satisfied: typing_extensions==4.5.0 in /Users/johndriscoll/opt/anaconda3/lib/python3.9/site-packages (4.5.0)\n",
            "Requirement already satisfied: mypy-extensions>=0.3.0 in /Users/johndriscoll/opt/anaconda3/lib/python3.9/site-packages (from typing-inspect==0.8.0) (0.4.3)\n",
            "\u001b[33mDEPRECATION: pyodbc 4.0.0-unsupported has a non-standard version number. pip 24.1 will enforce this behaviour change. A possible replacement is to upgrade to a newer version of pyodbc or contact the author to suggest that they release a version with a conforming version number. Discussion can be found at https://github.com/pypa/pip/issues/12063\u001b[0m\u001b[33m\n",
            "\u001b[0m\n",
            "\u001b[1m[\u001b[0m\u001b[34;49mnotice\u001b[0m\u001b[1;39;49m]\u001b[0m\u001b[39;49m A new release of pip is available: \u001b[0m\u001b[31;49m24.0\u001b[0m\u001b[39;49m -> \u001b[0m\u001b[32;49m24.3.1\u001b[0m\n",
            "\u001b[1m[\u001b[0m\u001b[34;49mnotice\u001b[0m\u001b[1;39;49m]\u001b[0m\u001b[39;49m To update, run: \u001b[0m\u001b[32;49mpip install --upgrade pip\u001b[0m\n"
          ]
        }
      ],
      "source": [
        "#https://stackoverflow.com/questions/76313592/import-langchain-error-typeerror-issubclass-arg-1-must-be-a-class\n",
        "#! pip install typing-inspect==0.8.0 typing_extensions==4.5.0"
      ]
    },
    {
      "cell_type": "code",
      "execution_count": null,
      "metadata": {
        "id": "xGwK6zFFnhkF"
      },
      "outputs": [],
      "source": []
    },
    {
      "cell_type": "code",
      "execution_count": 43,
      "metadata": {
        "id": "p8w4BB9_nhkF"
      },
      "outputs": [],
      "source": [
        "from bertopic import BERTopic\n",
        "from bertopic.representation import KeyBERTInspired"
      ]
    },
    {
      "cell_type": "code",
      "execution_count": null,
      "metadata": {
        "id": "zfxX3cvunhkG",
        "outputId": "9a5e9e8a-3f45-4fed-8275-ea099d2175d4"
      },
      "outputs": [
        {
          "name": "stdout",
          "output_type": "stream",
          "text": [
            "Collecting tbb\n",
            "  Using cached tbb-2021.10.0-py2.py3-none-macosx_10_15_x86_64.macosx_11_0_x86_64.whl.metadata (989 bytes)\n",
            "Using cached tbb-2021.10.0-py2.py3-none-macosx_10_15_x86_64.macosx_11_0_x86_64.whl (640 kB)\n",
            "\u001b[33mDEPRECATION: pyodbc 4.0.0-unsupported has a non-standard version number. pip 24.1 will enforce this behaviour change. A possible replacement is to upgrade to a newer version of pyodbc or contact the author to suggest that they release a version with a conforming version number. Discussion can be found at https://github.com/pypa/pip/issues/12063\u001b[0m\u001b[33m\n",
            "\u001b[0mInstalling collected packages: tbb\n",
            "Successfully installed tbb-0.2\n",
            "\n",
            "\u001b[1m[\u001b[0m\u001b[34;49mnotice\u001b[0m\u001b[1;39;49m]\u001b[0m\u001b[39;49m A new release of pip is available: \u001b[0m\u001b[31;49m24.0\u001b[0m\u001b[39;49m -> \u001b[0m\u001b[32;49m24.3.1\u001b[0m\n",
            "\u001b[1m[\u001b[0m\u001b[34;49mnotice\u001b[0m\u001b[1;39;49m]\u001b[0m\u001b[39;49m To update, run: \u001b[0m\u001b[32;49mpip install --upgrade pip\u001b[0m\n"
          ]
        }
      ],
      "source": [
        "#! pip install -U tbb --ignore-installed"
      ]
    },
    {
      "cell_type": "code",
      "execution_count": 44,
      "metadata": {
        "id": "rwLyqLrgnhkG",
        "outputId": "344220c4-105a-4496-d83f-6cd8d9a9e6d7",
        "colab": {
          "base_uri": "https://localhost:8080/",
          "height": 212,
          "referenced_widgets": [
            "7205d1f8dd514abc90414147e4419ab7",
            "094a8661be004fd7a6efac23bab8b80e",
            "10d5f07cd0854d5e92e30b6ab5ba1467",
            "7fc070d82c184aa6a463a445fc2554c1",
            "cc7325af810046f3b0c84e594b16df2f",
            "5eff8664d9244060aa73823887c63bf6",
            "1c017cdd5c8948d7a806c865a2ffec4c",
            "7bfb315930a94178b9a98a210b924a0e",
            "f53a9ebd0d774890b7b169a37a0892bb",
            "11d0190427794866b9b26faf5feed874",
            "b772ed92a7a74368adf4d2a606b48c7c"
          ]
        }
      },
      "outputs": [
        {
          "metadata": {
            "tags": null
          },
          "name": "stderr",
          "output_type": "stream",
          "text": [
            "2024-11-30 02:06:15,903 - BERTopic - Embedding - Transforming documents to embeddings.\n"
          ]
        },
        {
          "data": {
            "application/vnd.jupyter.widget-view+json": {
              "model_id": "7205d1f8dd514abc90414147e4419ab7",
              "version_major": 2,
              "version_minor": 0
            },
            "text/plain": [
              "Batches:   0%|          | 0/328 [00:00<?, ?it/s]"
            ]
          },
          "metadata": {},
          "output_type": "display_data"
        },
        {
          "metadata": {
            "tags": null
          },
          "name": "stderr",
          "output_type": "stream",
          "text": [
            "2024-11-30 02:19:03,231 - BERTopic - Embedding - Completed ✓\n",
            "2024-11-30 02:19:03,233 - BERTopic - Dimensionality - Fitting the dimensionality reduction algorithm\n",
            "2024-11-30 02:19:14,389 - BERTopic - Dimensionality - Completed ✓\n",
            "2024-11-30 02:19:14,392 - BERTopic - Cluster - Start clustering the reduced embeddings\n",
            "2024-11-30 02:19:14,853 - BERTopic - Cluster - Completed ✓\n",
            "2024-11-30 02:19:14,863 - BERTopic - Representation - Extracting topics from clusters using representation models.\n",
            "2024-11-30 02:20:59,212 - BERTopic - Representation - Completed ✓\n"
          ]
        }
      ],
      "source": [
        "# uncomment below to use default representation model instead of custom w2v\n",
        "representation_model = KeyBERTInspired()\n",
        "bertopic_model = BERTopic(#nr_topics = 'auto',\n",
        "    representation_model = representation_model,\n",
        "    verbose=True\n",
        ")\n",
        "\n",
        "bertopic_topics, bertopic_probs = bertopic_model.fit_transform(newsgroup_df['processed_documents'])"
      ]
    },
    {
      "cell_type": "code",
      "execution_count": 45,
      "metadata": {
        "id": "4WU4Js4xnhkG"
      },
      "outputs": [],
      "source": [
        "bertopic_model.save(\"bertopic_model\", serialization=\"safetensors\")"
      ]
    },
    {
      "cell_type": "markdown",
      "metadata": {
        "id": "wxVdHzkznhkH"
      },
      "source": []
    }
  ],
  "metadata": {
    "kernelspec": {
      "display_name": "base",
      "language": "python",
      "name": "python3"
    },
    "language_info": {
      "codemirror_mode": {
        "name": "ipython",
        "version": 3
      },
      "file_extension": ".py",
      "mimetype": "text/x-python",
      "name": "python",
      "nbconvert_exporter": "python",
      "pygments_lexer": "ipython3",
      "version": "3.9.7"
    },
    "colab": {
      "provenance": []
    },
    "widgets": {
      "application/vnd.jupyter.widget-state+json": {
        "7205d1f8dd514abc90414147e4419ab7": {
          "model_module": "@jupyter-widgets/controls",
          "model_name": "HBoxModel",
          "model_module_version": "1.5.0",
          "state": {
            "_dom_classes": [],
            "_model_module": "@jupyter-widgets/controls",
            "_model_module_version": "1.5.0",
            "_model_name": "HBoxModel",
            "_view_count": null,
            "_view_module": "@jupyter-widgets/controls",
            "_view_module_version": "1.5.0",
            "_view_name": "HBoxView",
            "box_style": "",
            "children": [
              "IPY_MODEL_094a8661be004fd7a6efac23bab8b80e",
              "IPY_MODEL_10d5f07cd0854d5e92e30b6ab5ba1467",
              "IPY_MODEL_7fc070d82c184aa6a463a445fc2554c1"
            ],
            "layout": "IPY_MODEL_cc7325af810046f3b0c84e594b16df2f"
          }
        },
        "094a8661be004fd7a6efac23bab8b80e": {
          "model_module": "@jupyter-widgets/controls",
          "model_name": "HTMLModel",
          "model_module_version": "1.5.0",
          "state": {
            "_dom_classes": [],
            "_model_module": "@jupyter-widgets/controls",
            "_model_module_version": "1.5.0",
            "_model_name": "HTMLModel",
            "_view_count": null,
            "_view_module": "@jupyter-widgets/controls",
            "_view_module_version": "1.5.0",
            "_view_name": "HTMLView",
            "description": "",
            "description_tooltip": null,
            "layout": "IPY_MODEL_5eff8664d9244060aa73823887c63bf6",
            "placeholder": "​",
            "style": "IPY_MODEL_1c017cdd5c8948d7a806c865a2ffec4c",
            "value": "Batches:  60%"
          }
        },
        "10d5f07cd0854d5e92e30b6ab5ba1467": {
          "model_module": "@jupyter-widgets/controls",
          "model_name": "FloatProgressModel",
          "model_module_version": "1.5.0",
          "state": {
            "_dom_classes": [],
            "_model_module": "@jupyter-widgets/controls",
            "_model_module_version": "1.5.0",
            "_model_name": "FloatProgressModel",
            "_view_count": null,
            "_view_module": "@jupyter-widgets/controls",
            "_view_module_version": "1.5.0",
            "_view_name": "ProgressView",
            "bar_style": "",
            "description": "",
            "description_tooltip": null,
            "layout": "IPY_MODEL_7bfb315930a94178b9a98a210b924a0e",
            "max": 328,
            "min": 0,
            "orientation": "horizontal",
            "style": "IPY_MODEL_f53a9ebd0d774890b7b169a37a0892bb",
            "value": 198
          }
        },
        "7fc070d82c184aa6a463a445fc2554c1": {
          "model_module": "@jupyter-widgets/controls",
          "model_name": "HTMLModel",
          "model_module_version": "1.5.0",
          "state": {
            "_dom_classes": [],
            "_model_module": "@jupyter-widgets/controls",
            "_model_module_version": "1.5.0",
            "_model_name": "HTMLModel",
            "_view_count": null,
            "_view_module": "@jupyter-widgets/controls",
            "_view_module_version": "1.5.0",
            "_view_name": "HTMLView",
            "description": "",
            "description_tooltip": null,
            "layout": "IPY_MODEL_11d0190427794866b9b26faf5feed874",
            "placeholder": "​",
            "style": "IPY_MODEL_b772ed92a7a74368adf4d2a606b48c7c",
            "value": " 197/328 [10:51&lt;03:16,  1.50s/it]"
          }
        },
        "cc7325af810046f3b0c84e594b16df2f": {
          "model_module": "@jupyter-widgets/base",
          "model_name": "LayoutModel",
          "model_module_version": "1.2.0",
          "state": {
            "_model_module": "@jupyter-widgets/base",
            "_model_module_version": "1.2.0",
            "_model_name": "LayoutModel",
            "_view_count": null,
            "_view_module": "@jupyter-widgets/base",
            "_view_module_version": "1.2.0",
            "_view_name": "LayoutView",
            "align_content": null,
            "align_items": null,
            "align_self": null,
            "border": null,
            "bottom": null,
            "display": null,
            "flex": null,
            "flex_flow": null,
            "grid_area": null,
            "grid_auto_columns": null,
            "grid_auto_flow": null,
            "grid_auto_rows": null,
            "grid_column": null,
            "grid_gap": null,
            "grid_row": null,
            "grid_template_areas": null,
            "grid_template_columns": null,
            "grid_template_rows": null,
            "height": null,
            "justify_content": null,
            "justify_items": null,
            "left": null,
            "margin": null,
            "max_height": null,
            "max_width": null,
            "min_height": null,
            "min_width": null,
            "object_fit": null,
            "object_position": null,
            "order": null,
            "overflow": null,
            "overflow_x": null,
            "overflow_y": null,
            "padding": null,
            "right": null,
            "top": null,
            "visibility": null,
            "width": null
          }
        },
        "5eff8664d9244060aa73823887c63bf6": {
          "model_module": "@jupyter-widgets/base",
          "model_name": "LayoutModel",
          "model_module_version": "1.2.0",
          "state": {
            "_model_module": "@jupyter-widgets/base",
            "_model_module_version": "1.2.0",
            "_model_name": "LayoutModel",
            "_view_count": null,
            "_view_module": "@jupyter-widgets/base",
            "_view_module_version": "1.2.0",
            "_view_name": "LayoutView",
            "align_content": null,
            "align_items": null,
            "align_self": null,
            "border": null,
            "bottom": null,
            "display": null,
            "flex": null,
            "flex_flow": null,
            "grid_area": null,
            "grid_auto_columns": null,
            "grid_auto_flow": null,
            "grid_auto_rows": null,
            "grid_column": null,
            "grid_gap": null,
            "grid_row": null,
            "grid_template_areas": null,
            "grid_template_columns": null,
            "grid_template_rows": null,
            "height": null,
            "justify_content": null,
            "justify_items": null,
            "left": null,
            "margin": null,
            "max_height": null,
            "max_width": null,
            "min_height": null,
            "min_width": null,
            "object_fit": null,
            "object_position": null,
            "order": null,
            "overflow": null,
            "overflow_x": null,
            "overflow_y": null,
            "padding": null,
            "right": null,
            "top": null,
            "visibility": null,
            "width": null
          }
        },
        "1c017cdd5c8948d7a806c865a2ffec4c": {
          "model_module": "@jupyter-widgets/controls",
          "model_name": "DescriptionStyleModel",
          "model_module_version": "1.5.0",
          "state": {
            "_model_module": "@jupyter-widgets/controls",
            "_model_module_version": "1.5.0",
            "_model_name": "DescriptionStyleModel",
            "_view_count": null,
            "_view_module": "@jupyter-widgets/base",
            "_view_module_version": "1.2.0",
            "_view_name": "StyleView",
            "description_width": ""
          }
        },
        "7bfb315930a94178b9a98a210b924a0e": {
          "model_module": "@jupyter-widgets/base",
          "model_name": "LayoutModel",
          "model_module_version": "1.2.0",
          "state": {
            "_model_module": "@jupyter-widgets/base",
            "_model_module_version": "1.2.0",
            "_model_name": "LayoutModel",
            "_view_count": null,
            "_view_module": "@jupyter-widgets/base",
            "_view_module_version": "1.2.0",
            "_view_name": "LayoutView",
            "align_content": null,
            "align_items": null,
            "align_self": null,
            "border": null,
            "bottom": null,
            "display": null,
            "flex": null,
            "flex_flow": null,
            "grid_area": null,
            "grid_auto_columns": null,
            "grid_auto_flow": null,
            "grid_auto_rows": null,
            "grid_column": null,
            "grid_gap": null,
            "grid_row": null,
            "grid_template_areas": null,
            "grid_template_columns": null,
            "grid_template_rows": null,
            "height": null,
            "justify_content": null,
            "justify_items": null,
            "left": null,
            "margin": null,
            "max_height": null,
            "max_width": null,
            "min_height": null,
            "min_width": null,
            "object_fit": null,
            "object_position": null,
            "order": null,
            "overflow": null,
            "overflow_x": null,
            "overflow_y": null,
            "padding": null,
            "right": null,
            "top": null,
            "visibility": null,
            "width": null
          }
        },
        "f53a9ebd0d774890b7b169a37a0892bb": {
          "model_module": "@jupyter-widgets/controls",
          "model_name": "ProgressStyleModel",
          "model_module_version": "1.5.0",
          "state": {
            "_model_module": "@jupyter-widgets/controls",
            "_model_module_version": "1.5.0",
            "_model_name": "ProgressStyleModel",
            "_view_count": null,
            "_view_module": "@jupyter-widgets/base",
            "_view_module_version": "1.2.0",
            "_view_name": "StyleView",
            "bar_color": null,
            "description_width": ""
          }
        },
        "11d0190427794866b9b26faf5feed874": {
          "model_module": "@jupyter-widgets/base",
          "model_name": "LayoutModel",
          "model_module_version": "1.2.0",
          "state": {
            "_model_module": "@jupyter-widgets/base",
            "_model_module_version": "1.2.0",
            "_model_name": "LayoutModel",
            "_view_count": null,
            "_view_module": "@jupyter-widgets/base",
            "_view_module_version": "1.2.0",
            "_view_name": "LayoutView",
            "align_content": null,
            "align_items": null,
            "align_self": null,
            "border": null,
            "bottom": null,
            "display": null,
            "flex": null,
            "flex_flow": null,
            "grid_area": null,
            "grid_auto_columns": null,
            "grid_auto_flow": null,
            "grid_auto_rows": null,
            "grid_column": null,
            "grid_gap": null,
            "grid_row": null,
            "grid_template_areas": null,
            "grid_template_columns": null,
            "grid_template_rows": null,
            "height": null,
            "justify_content": null,
            "justify_items": null,
            "left": null,
            "margin": null,
            "max_height": null,
            "max_width": null,
            "min_height": null,
            "min_width": null,
            "object_fit": null,
            "object_position": null,
            "order": null,
            "overflow": null,
            "overflow_x": null,
            "overflow_y": null,
            "padding": null,
            "right": null,
            "top": null,
            "visibility": null,
            "width": null
          }
        },
        "b772ed92a7a74368adf4d2a606b48c7c": {
          "model_module": "@jupyter-widgets/controls",
          "model_name": "DescriptionStyleModel",
          "model_module_version": "1.5.0",
          "state": {
            "_model_module": "@jupyter-widgets/controls",
            "_model_module_version": "1.5.0",
            "_model_name": "DescriptionStyleModel",
            "_view_count": null,
            "_view_module": "@jupyter-widgets/base",
            "_view_module_version": "1.2.0",
            "_view_name": "StyleView",
            "description_width": ""
          }
        }
      }
    }
  },
  "nbformat": 4,
  "nbformat_minor": 0
}