{
 "cells": [
  {
   "cell_type": "code",
   "execution_count": 1,
   "metadata": {},
   "outputs": [],
   "source": [
    "import pandas as pd\n",
    "import numpy as np\n",
    "import seaborn as sns\n",
    "import matplotlib.pyplot as plt\n",
    "from sklearn.feature_extraction.text import ENGLISH_STOP_WORDS\n",
    "import string\n",
    "import re\n",
    "from nltk.tokenize import TweetTokenizer, RegexpTokenizer\n",
    "import nltk"
   ]
  },
  {
   "cell_type": "markdown",
   "metadata": {},
   "source": [
    "### Data Cleaning"
   ]
  },
  {
   "cell_type": "markdown",
   "metadata": {},
   "source": [
    "Our dataset is a collection of 18,000 newsgroup documents from 20 different newgroups. The dataset has been split into training and testing subsets. We will be training our topic model on the larger subset, the training set. Since our algorithm is an unsupervised machine learning algorithm, we will not be using the test set. Additionally, the target values for the 20 different newsgroups will be used to assess the evaluation of our model in correctly extracting relevant topics."
   ]
  },
  {
   "cell_type": "code",
   "execution_count": 25,
   "metadata": {},
   "outputs": [],
   "source": [
    "# import dataset from sklearn and remove headers and footers for a more realistic model\n",
    "\n",
    "from sklearn.datasets import fetch_20newsgroups\n",
    "dataset = fetch_20newsgroups(subset='train', remove=['headers', 'footers'])"
   ]
  },
  {
   "cell_type": "markdown",
   "metadata": {},
   "source": [
    "Past research on this dataset has shown a tendency for topic models to overfit on headers, so we have removed them from the data. This will improve generalizability to other documents that do not follow the same format.\n",
    "\n",
    "The data is split into document contents and targets. The 20 newsgroup targets are show below."
   ]
  },
  {
   "cell_type": "code",
   "execution_count": 26,
   "metadata": {},
   "outputs": [
    {
     "data": {
      "text/plain": [
       "['alt.atheism',\n",
       " 'comp.graphics',\n",
       " 'comp.os.ms-windows.misc',\n",
       " 'comp.sys.ibm.pc.hardware',\n",
       " 'comp.sys.mac.hardware',\n",
       " 'comp.windows.x',\n",
       " 'misc.forsale',\n",
       " 'rec.autos',\n",
       " 'rec.motorcycles',\n",
       " 'rec.sport.baseball',\n",
       " 'rec.sport.hockey',\n",
       " 'sci.crypt',\n",
       " 'sci.electronics',\n",
       " 'sci.med',\n",
       " 'sci.space',\n",
       " 'soc.religion.christian',\n",
       " 'talk.politics.guns',\n",
       " 'talk.politics.mideast',\n",
       " 'talk.politics.misc',\n",
       " 'talk.religion.misc']"
      ]
     },
     "execution_count": 26,
     "metadata": {},
     "output_type": "execute_result"
    }
   ],
   "source": [
    "dataset.target_names"
   ]
  },
  {
   "cell_type": "markdown",
   "metadata": {},
   "source": [
    "An example of a document and its corresponding newsgroup is illustrated. _Data_ includes the content of the newsgroup document, _target_ includes the index of the category of the newsgroup, and _target_names_ includes the name of the category of the newsgroup."
   ]
  },
  {
   "cell_type": "code",
   "execution_count": 27,
   "metadata": {},
   "outputs": [
    {
     "data": {
      "text/plain": [
       "\"Robert J.C. Kyanko (rob@rjck.UUCP) wrote:\\n> abraxis@iastate.edu writes in article <abraxis.734340159@class1.iastate.edu>:\\n> > Anyone know about the Weitek P9000 graphics chip?\\n> As far as the low-level stuff goes, it looks pretty nice.  It's got this\\n> quadrilateral fill command that requires just the four points.\\n\\nDo you have Weitek's address/phone number?  I'd like to get some information\\nabout this chip.\\n\""
      ]
     },
     "execution_count": 27,
     "metadata": {},
     "output_type": "execute_result"
    }
   ],
   "source": [
    "dataset.data[3]"
   ]
  },
  {
   "cell_type": "code",
   "execution_count": 28,
   "metadata": {},
   "outputs": [
    {
     "data": {
      "text/plain": [
       "(1, 'comp.graphics')"
      ]
     },
     "execution_count": 28,
     "metadata": {},
     "output_type": "execute_result"
    }
   ],
   "source": [
    "dataset.target[3], dataset.target_names[dataset.target[3]]"
   ]
  },
  {
   "cell_type": "markdown",
   "metadata": {},
   "source": [
    "We can represent this data as a dataframe for more efficient data cleaning and data exploration."
   ]
  },
  {
   "cell_type": "code",
   "execution_count": 29,
   "metadata": {},
   "outputs": [
    {
     "data": {
      "text/html": [
       "<div>\n",
       "<style scoped>\n",
       "    .dataframe tbody tr th:only-of-type {\n",
       "        vertical-align: middle;\n",
       "    }\n",
       "\n",
       "    .dataframe tbody tr th {\n",
       "        vertical-align: top;\n",
       "    }\n",
       "\n",
       "    .dataframe thead th {\n",
       "        text-align: right;\n",
       "    }\n",
       "</style>\n",
       "<table border=\"1\" class=\"dataframe\">\n",
       "  <thead>\n",
       "    <tr style=\"text-align: right;\">\n",
       "      <th></th>\n",
       "      <th>document</th>\n",
       "      <th>target</th>\n",
       "      <th>newsgroup</th>\n",
       "    </tr>\n",
       "  </thead>\n",
       "  <tbody>\n",
       "    <tr>\n",
       "      <th>0</th>\n",
       "      <td>I was wondering if anyone out there could enli...</td>\n",
       "      <td>7</td>\n",
       "      <td>rec.autos</td>\n",
       "    </tr>\n",
       "    <tr>\n",
       "      <th>1</th>\n",
       "      <td>A fair number of brave souls who upgraded thei...</td>\n",
       "      <td>4</td>\n",
       "      <td>comp.sys.mac.hardware</td>\n",
       "    </tr>\n",
       "    <tr>\n",
       "      <th>2</th>\n",
       "      <td>well folks, my mac plus finally gave up the gh...</td>\n",
       "      <td>4</td>\n",
       "      <td>comp.sys.mac.hardware</td>\n",
       "    </tr>\n",
       "    <tr>\n",
       "      <th>3</th>\n",
       "      <td>Robert J.C. Kyanko (rob@rjck.UUCP) wrote:\\n&gt; a...</td>\n",
       "      <td>1</td>\n",
       "      <td>comp.graphics</td>\n",
       "    </tr>\n",
       "    <tr>\n",
       "      <th>4</th>\n",
       "      <td>From article &lt;C5owCB.n3p@world.std.com&gt;, by to...</td>\n",
       "      <td>14</td>\n",
       "      <td>sci.space</td>\n",
       "    </tr>\n",
       "  </tbody>\n",
       "</table>\n",
       "</div>"
      ],
      "text/plain": [
       "                                            document  target  \\\n",
       "0  I was wondering if anyone out there could enli...       7   \n",
       "1  A fair number of brave souls who upgraded thei...       4   \n",
       "2  well folks, my mac plus finally gave up the gh...       4   \n",
       "3  Robert J.C. Kyanko (rob@rjck.UUCP) wrote:\\n> a...       1   \n",
       "4  From article <C5owCB.n3p@world.std.com>, by to...      14   \n",
       "\n",
       "               newsgroup  \n",
       "0              rec.autos  \n",
       "1  comp.sys.mac.hardware  \n",
       "2  comp.sys.mac.hardware  \n",
       "3          comp.graphics  \n",
       "4              sci.space  "
      ]
     },
     "execution_count": 29,
     "metadata": {},
     "output_type": "execute_result"
    }
   ],
   "source": [
    "newsgroup_df = pd.DataFrame({\"document\": dataset.data, \"target\": dataset.target})\n",
    "newsgroup_df = newsgroup_df.assign(newsgroup=newsgroup_df[\"target\"].apply(lambda x: dataset.target_names[x]))\n",
    "newsgroup_df.head()"
   ]
  },
  {
   "cell_type": "markdown",
   "metadata": {},
   "source": [
    "Let's do some exploratory data analysis to better understand our dataset. First, we can look at the distriubtion of our newsgroup targets to see if there are any outliers."
   ]
  },
  {
   "cell_type": "code",
   "execution_count": 30,
   "metadata": {},
   "outputs": [
    {
     "data": {
      "text/plain": [
       "Text(0.5, 0, 'Number of Corresponding Documents')"
      ]
     },
     "execution_count": 30,
     "metadata": {},
     "output_type": "execute_result"
    },
    {
     "data": {
      "image/png": "[encoded data removed]",
      "text/plain": [
       "<Figure size 1800x1000 with 1 Axes>"
      ]
     },
     "metadata": {},
     "output_type": "display_data"
    }
   ],
   "source": [
    "# plot the distribution of the newsgroups\n",
    "fig1 = plt.figure(figsize =[18 ,10])\n",
    "ax = sns.countplot(y=newsgroup_df['newsgroup'], color=\"lightblue\", order=dataset.target_names)\n",
    "plt.title('Distribution of Newsgroup Targets', size=20)\n",
    "plt.ylabel('Newsgroup Topic', size = 15)\n",
    "plt.xlabel('Number of Corresponding Documents', size = 15)"
   ]
  },
  {
   "cell_type": "markdown",
   "metadata": {},
   "source": [
    "Talk.politics.misc and talk.religion.misc are more abstract, overlap with other topics like talk.politics.guns and alt.atheism, and have lower counts of associated documents. We will remove them from our training set and focus on the remaining 18 topics instead."
   ]
  },
  {
   "cell_type": "code",
   "execution_count": 31,
   "metadata": {},
   "outputs": [
    {
     "data": {
      "text/plain": [
       "(10472, 3)"
      ]
     },
     "execution_count": 31,
     "metadata": {},
     "output_type": "execute_result"
    }
   ],
   "source": [
    "newsgroup_df = newsgroup_df[(newsgroup_df[\"newsgroup\"] != 'talk.politics.misc') & (newsgroup_df[\"newsgroup\"] != 'talk.religion.misc')]\n",
    "newsgroup_df.shape"
   ]
  },
  {
   "cell_type": "code",
   "execution_count": 32,
   "metadata": {},
   "outputs": [
    {
     "data": {
      "text/plain": [
       "0        I was wondering if anyone out there could enli...\n",
       "1        A fair number of brave souls who upgraded thei...\n",
       "2        well folks, my mac plus finally gave up the gh...\n",
       "3        Robert J.C. Kyanko (rob@rjck.UUCP) wrote:\\n> a...\n",
       "4        From article <C5owCB.n3p@world.std.com>, by to...\n",
       "                               ...                        \n",
       "11309    DN> From: nyeda@cnsvax.uwec.edu (David Nye)\\nD...\n",
       "11310    I have a (very old) Mac 512k and a Mac Plus, b...\n",
       "11311    I just installed a DX2-66 CPU in a clone mothe...\n",
       "11312    In article <1qkgbuINNs9n@shelley.u.washington....\n",
       "11313    Stolen from Pasadena between 4:30 and 6:30 pm ...\n",
       "Name: document, Length: 10472, dtype: object"
      ]
     },
     "execution_count": 32,
     "metadata": {},
     "output_type": "execute_result"
    }
   ],
   "source": [
    "newsgroup_df[\"document\"]"
   ]
  },
  {
   "cell_type": "code",
   "execution_count": 33,
   "metadata": {},
   "outputs": [
    {
     "name": "stdout",
     "output_type": "stream",
     "text": [
      "mean number of words: 257.52320473644005 standard deviation of number of words: 645.7135193230087\n"
     ]
    }
   ],
   "source": [
    "words_per_document = newsgroup_df[\"document\"].apply(lambda x: len(x.split(\" \")))\n",
    "mean_words = words_per_document.mean()\n",
    "std_words = words_per_document.std()\n",
    "print(\"mean number of words:\", mean_words, \"standard deviation of number of words:\", std_words)"
   ]
  },
  {
   "cell_type": "code",
   "execution_count": 34,
   "metadata": {},
   "outputs": [
    {
     "data": {
      "text/plain": [
       "714      1\n",
       "823      1\n",
       "789      1\n",
       "1138     1\n",
       "3953     1\n",
       "        ..\n",
       "625      1\n",
       "725      1\n",
       "4869     1\n",
       "10554    1\n",
       "631      1\n",
       "Name: document, Length: 300, dtype: int64"
      ]
     },
     "execution_count": 34,
     "metadata": {},
     "output_type": "execute_result"
    }
   ],
   "source": [
    "newsgroup_df[\"document\"].apply(lambda x: len(x.split(\" \"))).value_counts().sort_values()[:300]"
   ]
  },
  {
   "cell_type": "code",
   "execution_count": 35,
   "metadata": {},
   "outputs": [
    {
     "name": "stdout",
     "output_type": "stream",
     "text": [
      "max words per document 20083 , min words per document 1\n"
     ]
    }
   ],
   "source": [
    "print('max words per document', max(words_per_document), ', min words per document', min(words_per_document))"
   ]
  },
  {
   "cell_type": "code",
   "execution_count": 36,
   "metadata": {},
   "outputs": [
    {
     "data": {
      "text/plain": [
       "{'whiskers': [<matplotlib.lines.Line2D at 0x7fec0dddfdf0>,\n",
       "  <matplotlib.lines.Line2D at 0x7fec0ddd1100>],\n",
       " 'caps': [<matplotlib.lines.Line2D at 0x7fec0ddd13d0>,\n",
       "  <matplotlib.lines.Line2D at 0x7fec0ddd16a0>],\n",
       " 'boxes': [<matplotlib.lines.Line2D at 0x7fec0dddfb20>],\n",
       " 'medians': [<matplotlib.lines.Line2D at 0x7fec0ddd1970>],\n",
       " 'fliers': [<matplotlib.lines.Line2D at 0x7fec0ddd1c40>],\n",
       " 'means': []}"
      ]
     },
     "execution_count": 36,
     "metadata": {},
     "output_type": "execute_result"
    },
    {
     "data": {
      "image/png": "[encoded data removed]",
      "text/plain": [
       "<Figure size 640x480 with 1 Axes>"
      ]
     },
     "metadata": {},
     "output_type": "display_data"
    }
   ],
   "source": [
    "import matplotlib.pyplot\n",
    "matplotlib.pyplot.boxplot(words_per_document)"
   ]
  },
  {
   "cell_type": "code",
   "execution_count": 91,
   "metadata": {},
   "outputs": [
    {
     "name": "stderr",
     "output_type": "stream",
     "text": [
      "[nltk_data] Downloading package wordnet to /Users/sarah/nltk_data...\n",
      "[nltk_data]   Package wordnet is already up-to-date!\n",
      "[nltk_data] Downloading package words to /Users/sarah/nltk_data...\n",
      "[nltk_data]   Package words is already up-to-date!\n"
     ]
    }
   ],
   "source": [
    "#tokenize\n",
    "from nltk.stem import WordNetLemmatizer\n",
    "nltk.download(\"wordnet\")\n",
    "from nltk.corpus import words\n",
    "nltk.download('words')\n",
    "\n",
    "# List of stop words\n",
    "additional_stop_words = set([\"article\", \"subject\", 'time','im','thing', 'new', 'said', 'need', 'want', 'did',\n",
    "                             'know','like','people','think','writes','just','dont', '___', 'good', 'used',\n",
    "                            \"use\", \"think\", 'doe', \"year\", \"say\", \"make\", 'maxaxaxaxaxaxaxaxaxaxaxaxaxaxax'])\n",
    "stop_words = ENGLISH_STOP_WORDS.union(additional_stop_words)\n",
    "\n",
    "# Splits words on white spaces\n",
    "def tokenizer(text):\n",
    "    tokenizer = TweetTokenizer()\n",
    "    tokens = tokenizer.tokenize(text)\n",
    "    return tokens\n",
    "\n",
    "def process_text(text):\n",
    "    # Lowercase\n",
    "    text = text.lower()\n",
    "    # Remove punctuation, numbers, \\n, and extra whitespaces\n",
    "    text = re.sub(r'\\d+|[^\\w\\s]', '', text)\n",
    "    text = text.replace('\\n', ' ')\n",
    "    text = re.sub(r'\\s{2,}', ' ', text)\n",
    "    # only include english dictionary words\n",
    "    # Tokenize and lemmatize\n",
    "    wnl = WordNetLemmatizer()\n",
    "    tokens = [wnl.lemmatize(word) for word in tokenizer(text) if word not in stop_words]\n",
    "    text = [each for each in tokens if len(each) > 1]\n",
    "    text = [each for each in text if ' ' not in each]\n",
    "    return \" \".join(text)"
   ]
  },
  {
   "cell_type": "code",
   "execution_count": 84,
   "metadata": {},
   "outputs": [
    {
     "data": {
      "text/plain": [
       "\"A fair number of brave souls who upgraded their SI clock oscillator have\\nshared their experiences for this poll. Please send a brief message detailing\\nyour experiences with the procedure. Top speed attained, CPU rated speed,\\nadd on cards and adapters, heat sinks, hour of usage per day, floppy disk\\nfunctionality with 800 and 1.4 m floppies are especially requested.\\n\\nI will be summarizing in the next two days, so please add to the network\\nknowledge base if you have done the clock upgrade and haven't answered this\\npoll. Thanks.\""
      ]
     },
     "execution_count": 84,
     "metadata": {},
     "output_type": "execute_result"
    }
   ],
   "source": [
    "# Set options to display all rows and columns\n",
    "newsgroup_df['document'][1]"
   ]
  },
  {
   "cell_type": "code",
   "execution_count": 85,
   "metadata": {},
   "outputs": [
    {
     "data": {
      "text/plain": [
       "0    wondering enlighten car saw day door sport car...\n",
       "1    fair number brave soul upgraded si clock oscil...\n",
       "2    folk mac plus finally gave ghost weekend start...\n",
       "3    robert jc kyanko robrjckuucp wrote abraxisiast...\n",
       "4    cowcbnpworldstdcom tombakerworldstdcom tom bak...\n",
       "5    reuttransferstratuscom cdtswstratuscom tavares...\n",
       "6    responded request info treatment astrocytomas ...\n",
       "7    dxbpsuvmpsuedu qlbrlinnrkdnsnmsuedu bgrubbdant...\n",
       "8    win downloaded icon bmps figure change wallpap...\n",
       "9    jappocwruedu joseph pellettiere looking inform...\n",
       "Name: document, dtype: object"
      ]
     },
     "execution_count": 85,
     "metadata": {},
     "output_type": "execute_result"
    }
   ],
   "source": [
    "newsgroup_df['document'][:10].apply(process_text)"
   ]
  },
  {
   "cell_type": "code",
   "execution_count": 92,
   "metadata": {},
   "outputs": [
    {
     "data": {
      "text/plain": [
       "0        wondering enlighten car saw day door sport car...\n",
       "1        fair number brave soul upgraded si clock oscil...\n",
       "2        folk mac plus finally gave ghost weekend start...\n",
       "3        robert jc kyanko robrjckuucp wrote abraxisiast...\n",
       "4        cowcbnpworldstdcom tombakerworldstdcom tom bak...\n",
       "                               ...                        \n",
       "11309    dn nyedacnsvaxuwecedu david nye dn neurology d...\n",
       "11310    old mac mac plus problem screen blank minor ph...\n",
       "11311    installed dx cpu clone motherboard tried mount...\n",
       "11312    qkgbuinnsnshelleyuwashingtonedu bolsoncarsonuw...\n",
       "11313    stolen pasadena pm blue white honda cbrrr cali...\n",
       "Name: processed_documents, Length: 10472, dtype: object"
      ]
     },
     "execution_count": 92,
     "metadata": {},
     "output_type": "execute_result"
    }
   ],
   "source": [
    "### tokenize the abstracts\n",
    "newsgroup_df['processed_documents'] = newsgroup_df['document'].apply(process_text)\n",
    "newsgroup_df['processed_documents']"
   ]
  },
  {
   "cell_type": "code",
   "execution_count": 93,
   "metadata": {},
   "outputs": [
    {
     "data": {
      "text/html": [
       "<div>\n",
       "<style scoped>\n",
       "    .dataframe tbody tr th:only-of-type {\n",
       "        vertical-align: middle;\n",
       "    }\n",
       "\n",
       "    .dataframe tbody tr th {\n",
       "        vertical-align: top;\n",
       "    }\n",
       "\n",
       "    .dataframe thead th {\n",
       "        text-align: right;\n",
       "    }\n",
       "</style>\n",
       "<table border=\"1\" class=\"dataframe\">\n",
       "  <thead>\n",
       "    <tr style=\"text-align: right;\">\n",
       "      <th></th>\n",
       "      <th>word</th>\n",
       "      <th>frequency</th>\n",
       "    </tr>\n",
       "  </thead>\n",
       "  <tbody>\n",
       "    <tr>\n",
       "      <th>0</th>\n",
       "      <td>doe</td>\n",
       "      <td>3508</td>\n",
       "    </tr>\n",
       "    <tr>\n",
       "      <th>1</th>\n",
       "      <td>file</td>\n",
       "      <td>2821</td>\n",
       "    </tr>\n",
       "    <tr>\n",
       "      <th>2</th>\n",
       "      <td>right</td>\n",
       "      <td>2809</td>\n",
       "    </tr>\n",
       "    <tr>\n",
       "      <th>3</th>\n",
       "      <td>problem</td>\n",
       "      <td>2806</td>\n",
       "    </tr>\n",
       "    <tr>\n",
       "      <th>4</th>\n",
       "      <td>way</td>\n",
       "      <td>2586</td>\n",
       "    </tr>\n",
       "    <tr>\n",
       "      <th>5</th>\n",
       "      <td>work</td>\n",
       "      <td>2475</td>\n",
       "    </tr>\n",
       "    <tr>\n",
       "      <th>6</th>\n",
       "      <td>window</td>\n",
       "      <td>2402</td>\n",
       "    </tr>\n",
       "    <tr>\n",
       "      <th>7</th>\n",
       "      <td>god</td>\n",
       "      <td>2307</td>\n",
       "    </tr>\n",
       "    <tr>\n",
       "      <th>8</th>\n",
       "      <td>question</td>\n",
       "      <td>2042</td>\n",
       "    </tr>\n",
       "    <tr>\n",
       "      <th>9</th>\n",
       "      <td>program</td>\n",
       "      <td>1952</td>\n",
       "    </tr>\n",
       "    <tr>\n",
       "      <th>10</th>\n",
       "      <td>number</td>\n",
       "      <td>1945</td>\n",
       "    </tr>\n",
       "    <tr>\n",
       "      <th>11</th>\n",
       "      <td>point</td>\n",
       "      <td>1918</td>\n",
       "    </tr>\n",
       "    <tr>\n",
       "      <th>12</th>\n",
       "      <td>drive</td>\n",
       "      <td>1831</td>\n",
       "    </tr>\n",
       "    <tr>\n",
       "      <th>13</th>\n",
       "      <td>really</td>\n",
       "      <td>1781</td>\n",
       "    </tr>\n",
       "    <tr>\n",
       "      <th>14</th>\n",
       "      <td>come</td>\n",
       "      <td>1779</td>\n",
       "    </tr>\n",
       "    <tr>\n",
       "      <th>15</th>\n",
       "      <td>game</td>\n",
       "      <td>1773</td>\n",
       "    </tr>\n",
       "    <tr>\n",
       "      <th>16</th>\n",
       "      <td>using</td>\n",
       "      <td>1748</td>\n",
       "    </tr>\n",
       "    <tr>\n",
       "      <th>17</th>\n",
       "      <td>bit</td>\n",
       "      <td>1738</td>\n",
       "    </tr>\n",
       "    <tr>\n",
       "      <th>18</th>\n",
       "      <td>key</td>\n",
       "      <td>1724</td>\n",
       "    </tr>\n",
       "    <tr>\n",
       "      <th>19</th>\n",
       "      <td>day</td>\n",
       "      <td>1638</td>\n",
       "    </tr>\n",
       "  </tbody>\n",
       "</table>\n",
       "</div>"
      ],
      "text/plain": [
       "        word  frequency\n",
       "0        doe       3508\n",
       "1       file       2821\n",
       "2      right       2809\n",
       "3    problem       2806\n",
       "4        way       2586\n",
       "5       work       2475\n",
       "6     window       2402\n",
       "7        god       2307\n",
       "8   question       2042\n",
       "9    program       1952\n",
       "10    number       1945\n",
       "11     point       1918\n",
       "12     drive       1831\n",
       "13    really       1781\n",
       "14      come       1779\n",
       "15      game       1773\n",
       "16     using       1748\n",
       "17       bit       1738\n",
       "18       key       1724\n",
       "19       day       1638"
      ]
     },
     "execution_count": 93,
     "metadata": {},
     "output_type": "execute_result"
    }
   ],
   "source": [
    "# Get the top 20 most common words among all the documents\n",
    "from collections import Counter\n",
    "\n",
    "p_text = ' '.join(newsgroup_df['processed_documents'].tolist())\n",
    "\n",
    "p_text = p_text.split(' ')\n",
    "\n",
    "# Top 20\n",
    "top_20 = pd.DataFrame(\n",
    "    Counter(p_text).most_common(20),\n",
    "    columns=['word', 'frequency']\n",
    ")\n",
    "\n",
    "top_20"
   ]
  },
  {
   "cell_type": "code",
   "execution_count": 90,
   "metadata": {},
   "outputs": [
    {
     "data": {
      "text/plain": [
       "'said'"
      ]
     },
     "execution_count": 90,
     "metadata": {},
     "output_type": "execute_result"
    }
   ],
   "source": [
    "top_20['word'][15]"
   ]
  },
  {
   "cell_type": "markdown",
   "metadata": {},
   "source": [
    "We can now preprocess the data for the topic model. We will first clean the documents by removing punctation, numbers, and characters, converting to lowercase, and stripping empty strings. We will also remove non-descriptive words such as \"a\", \"is\", \"from\", \"and\", etc. We will add additional stop words that occur often in our dataset but do not have any significant meaning for the theme extraction. Lastly, we will lemmatize our documents, meaning we will distill words into their foundational terms, like \"running\" to \"run\". This will help reduce unnecessary and redundant terms and ensure a faster runtime."
   ]
  },
  {
   "cell_type": "code",
   "execution_count": 97,
   "metadata": {},
   "outputs": [],
   "source": [
    "from sklearn.feature_extraction.text import TfidfVectorizer\n",
    "# Initialize TfidfVectorizer\n",
    "vectorizer = TfidfVectorizer(max_df=0.90, min_df=2)\n",
    "\n",
    "# Fit and transform the processed abstracts into DTM\n",
    "dtm = vectorizer.fit_transform(newsgroup_df['processed_documents'])"
   ]
  },
  {
   "cell_type": "code",
   "execution_count": 98,
   "metadata": {},
   "outputs": [
    {
     "name": "stderr",
     "output_type": "stream",
     "text": [
      "/Library/Frameworks/Python.framework/Versions/3.9/lib/python3.9/site-packages/sklearn/decomposition/_nmf.py:289: FutureWarning: The 'init' value, when 'init=None' and n_components is less than n_samples and n_features, will be changed from 'nndsvd' to 'nndsvda' in 1.1 (renaming of 0.26).\n",
      "  warnings.warn(\n",
      "/Library/Frameworks/Python.framework/Versions/3.9/lib/python3.9/site-packages/sklearn/decomposition/_nmf.py:1637: ConvergenceWarning: Maximum number of iterations 200 reached. Increase it to improve convergence.\n",
      "  warnings.warn(\n"
     ]
    }
   ],
   "source": [
    "from sklearn.decomposition import NMF\n",
    "\n",
    "# Specify the number of topics\n",
    "n_topics = 18  # or any number based on your analysis needs\n",
    "nmf_model = NMF(n_components=n_topics)\n",
    "W = nmf_model.fit_transform(dtm)  # Document-topic matrix\n",
    "H = nmf_model.components_         # Topic-term matrix"
   ]
  },
  {
   "cell_type": "code",
   "execution_count": 99,
   "metadata": {},
   "outputs": [
    {
     "name": "stdout",
     "output_type": "stream",
     "text": [
      "Topic #1:\n",
      "thing,food,question,group,really,day,way,ive,msg,problem\n",
      "Topic #2:\n",
      "running,version,using,problem,font,manager,program,application,do,window\n",
      "Topic #3:\n",
      "hd,cable,switch,jumper,problem,boot,hard,floppy,disk,drive\n",
      "Topic #4:\n",
      "fan,league,baseball,hockey,season,win,play,player,team,game\n",
      "Topic #5:\n",
      "secure,algorithm,bit,phone,government,escrow,clipper,encryption,chip,key\n",
      "Topic #6:\n",
      "church,truth,belief,atheist,believe,faith,bible,jesus,christian,god\n",
      "Topic #7:\n",
      "manual,sell,asking,modem,printer,condition,shipping,price,sale,offer\n",
      "Topic #8:\n",
      "bus,vesa,vga,graphic,mode,ati,diamond,video,driver,card\n",
      "Topic #9:\n",
      "help,information,address,doe,info,looking,hi,advance,email,thanks\n",
      "Topic #10:\n",
      "policy,state,lebanon,peace,lebanese,palestinian,jew,arab,israeli,israel\n",
      "Topic #11:\n",
      "convert,gif,disk,bmp,ftp,image,directory,format,program,file\n",
      "Topic #12:\n",
      "government,handgun,state,crime,criminal,right,firearm,law,weapon,gun\n",
      "Topic #13:\n",
      "azerbaijan,azeri,muslim,greek,genocide,turk,turkey,armenia,turkish,armenian\n",
      "Topic #14:\n",
      "mac,data,pc,isa,device,bus,controller,ide,mb,scsi\n",
      "Topic #15:\n",
      "oil,insurance,driver,price,mile,speed,model,dealer,engine,car\n",
      "Topic #16:\n",
      "lunar,science,shuttle,cost,program,orbit,moon,launch,nasa,space\n",
      "Topic #17:\n",
      "mile,honda,dod,helmet,dog,riding,rider,ride,motorcycle,bike\n",
      "Topic #18:\n",
      "memory,mb,mhz,bit,screen,mac,apple,simms,color,monitor\n"
     ]
    }
   ],
   "source": [
    "feature_names = vectorizer.get_feature_names_out()\n",
    "for index, topic in enumerate(H):\n",
    "    print(f\"Topic #{index + 1}:\")\n",
    "    print(\",\".join([feature_names[i] for i in topic.argsort()[-10:]]))  # Top 10 words per topic"
   ]
  },
  {
   "cell_type": "code",
   "execution_count": 104,
   "metadata": {},
   "outputs": [
    {
     "name": "stdout",
     "output_type": "stream",
     "text": [
      "Document #11 dominant topic: Topic 17\n",
      "Topic Distribution for Document #11:\n",
      "Topic 1: 0.0000\n",
      "Topic 2: 0.0000\n",
      "Topic 3: 0.0023\n",
      "Topic 4: 0.0000\n",
      "Topic 5: 0.0000\n",
      "Topic 6: 0.0000\n",
      "Topic 7: 0.0025\n",
      "Topic 8: 0.0000\n",
      "Topic 9: 0.0245\n",
      "Topic 10: 0.0000\n",
      "Topic 11: 0.0000\n",
      "Topic 12: 0.0000\n",
      "Topic 13: 0.0000\n",
      "Topic 14: 0.0004\n",
      "Topic 15: 0.0111\n",
      "Topic 16: 0.0000\n",
      "Topic 17: 0.1161\n",
      "Topic 18: 0.0091\n",
      "\n",
      "Top words for Dominant Topic 17:\n",
      "mile honda dod helmet dog riding rider ride motorcycle bike\n",
      "rec.motorcycles\n",
      "I have a line on a Ducati 900GTS 1978 model with 17k on the clock.  Runs\n",
      "very well, paint is the bronze/brown/orange faded out, leaks a bit of oil\n",
      "and pops out of 1st with hard accel.  The shop will fix trans and oil \n",
      "leak.  They sold the bike to the 1 and only owner.  They want $3495, and\n",
      "I am thinking more like $3K.  Any opinions out there?  Please email me.\n",
      "Thanks.  It would be a nice stable mate to the Beemer.  Then I'll get\n",
      "a jap bike and call myself Axis Motors!\n",
      "\n",
      "-- \n",
      "-----------------------------------------------------------------------\n",
      "\"Tuba\" (Irwin)      \"I honk therefore I am\"     CompuTrac-Richardson,Tx\n",
      "irwin@cmptrc.lonestar.org    DoD #0826          (R75/6)\n"
     ]
    }
   ],
   "source": [
    "import numpy as np\n",
    "\n",
    "# Let's say we want the topic distribution for the first document (index 0)\n",
    "document_index = 10\n",
    "document_topics = W[document_index]  # Get topic weights for this document\n",
    "\n",
    "# Identify the dominant topic for this document\n",
    "dominant_topic = np.argmax(document_topics)\n",
    "\n",
    "print(f\"Document #{document_index + 1} dominant topic: Topic {dominant_topic + 1}\")\n",
    "print(f\"Topic Distribution for Document #{document_index + 1}:\")\n",
    "for topic_idx, weight in enumerate(document_topics):\n",
    "    print(f\"Topic {topic_idx + 1}: {weight:.4f}\")\n",
    "\n",
    "# Print the top words for the dominant topic to understand its meaning\n",
    "top_word_indices = H[dominant_topic].argsort()[-10:]  # Top 10 words for the dominant topic\n",
    "print(f\"\\nTop words for Dominant Topic {dominant_topic + 1}:\")\n",
    "print(\" \".join([feature_names[i] for i in top_word_indices]))\n",
    "print(newsgroup_df.iloc[document_index][\"newsgroup\"])\n",
    "print(newsgroup_df.iloc[document_index][\"document\"])"
   ]
  },
  {
   "cell_type": "markdown",
   "metadata": {},
   "source": [
    "### Run NMF"
   ]
  },
  {
   "cell_type": "code",
   "execution_count": null,
   "metadata": {},
   "outputs": [],
   "source": []
  }
 ],
 "metadata": {
  "kernelspec": {
   "display_name": "Python 3 (ipykernel)",
   "language": "python",
   "name": "python3"
  },
  "language_info": {
   "codemirror_mode": {
    "name": "ipython",
    "version": 3
   },
   "file_extension": ".py",
   "mimetype": "text/x-python",
   "name": "python",
   "nbconvert_exporter": "python",
   "pygments_lexer": "ipython3",
   "version": "3.9.2"
  }
 },
 "nbformat": 4,
 "nbformat_minor": 2
}
