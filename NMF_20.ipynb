{
 "cells": [
  {
   "cell_type": "code",
   "execution_count": 1,
   "metadata": {},
   "outputs": [
    {
     "name": "stderr",
     "output_type": "stream",
     "text": [
      "/Users/johndriscoll/opt/anaconda3/lib/python3.9/site-packages/pandas/core/computation/expressions.py:21: UserWarning: Pandas requires version '2.8.0' or newer of 'numexpr' (version '2.7.3' currently installed).\n",
      "  from pandas.core.computation.check import NUMEXPR_INSTALLED\n",
      "/Users/johndriscoll/opt/anaconda3/lib/python3.9/site-packages/pandas/core/arrays/masked.py:62: UserWarning: Pandas requires version '1.3.4' or newer of 'bottleneck' (version '1.3.2' currently installed).\n",
      "  from pandas.core import (\n"
     ]
    }
   ],
   "source": [
    "import pandas as pd\n",
    "import numpy as np\n",
    "import seaborn as sns\n",
    "import matplotlib.pyplot as plt\n",
    "from sklearn.feature_extraction.text import ENGLISH_STOP_WORDS\n",
    "import string\n",
    "import re\n",
    "from nltk.tokenize import TweetTokenizer, RegexpTokenizer\n",
    "import nltk\n",
    "from collections import Counter"
   ]
  },
  {
   "cell_type": "code",
   "execution_count": 2,
   "metadata": {},
   "outputs": [
    {
     "name": "stderr",
     "output_type": "stream",
     "text": [
      "[nltk_data] Downloading package wordnet to\n",
      "[nltk_data]     /Users/johndriscoll/nltk_data...\n",
      "[nltk_data]   Package wordnet is already up-to-date!\n",
      "[nltk_data] Downloading package words to\n",
      "[nltk_data]     /Users/johndriscoll/nltk_data...\n",
      "[nltk_data]   Unzipping corpora/words.zip.\n"
     ]
    },
    {
     "data": {
      "text/plain": [
       "True"
      ]
     },
     "execution_count": 2,
     "metadata": {},
     "output_type": "execute_result"
    }
   ],
   "source": [
    "#tokenization resources\n",
    "from nltk.stem import WordNetLemmatizer\n",
    "nltk.download(\"wordnet\")\n",
    "from nltk.corpus import words\n",
    "nltk.download('words')"
   ]
  },
  {
   "cell_type": "code",
   "execution_count": null,
   "metadata": {},
   "outputs": [],
   "source": [
    "#for NMF\n",
    "from sklearn.feature_extraction.text import TfidfVectorizer\n",
    "from sklearn.decomposition import NMF\n"
   ]
  },
  {
   "cell_type": "code",
   "execution_count": 147,
   "metadata": {},
   "outputs": [],
   "source": [
    "#for coherence implementation\n",
    "from gensim.models import Word2Vec\n",
    "from itertools import combinations\n",
    "from operator import itemgetter"
   ]
  },
  {
   "cell_type": "markdown",
   "metadata": {},
   "source": [
    "### Data Cleaning & EDA"
   ]
  },
  {
   "cell_type": "markdown",
   "metadata": {},
   "source": [
    "Our dataset is a collection of 18,000 newsgroup documents from 20 different newgroups. The dataset has been split into training and testing subsets. We will be training our topic model on the larger subset, the training set. Since our algorithm is an unsupervised machine learning algorithm, we will not be using the test set. Additionally, the target values for the 20 different newsgroups will be used to assess the evaluation of our model in correctly extracting relevant topics."
   ]
  },
  {
   "cell_type": "code",
   "execution_count": 3,
   "metadata": {},
   "outputs": [],
   "source": [
    "# import dataset from sklearn and remove headers and footers for a more realistic model\n",
    "\n",
    "from sklearn.datasets import fetch_20newsgroups\n",
    "dataset = fetch_20newsgroups(subset='train', remove=['headers', 'footers'])"
   ]
  },
  {
   "cell_type": "markdown",
   "metadata": {},
   "source": [
    "Past research on this dataset has shown a tendency for topic models to overfit on headers, so we have removed them from the data. This will improve generalizability to other documents that do not follow the same format.\n",
    "\n",
    "The data is split into document contents and targets. The 20 newsgroup targets are show below."
   ]
  },
  {
   "cell_type": "code",
   "execution_count": 4,
   "metadata": {},
   "outputs": [
    {
     "data": {
      "text/plain": [
       "['alt.atheism',\n",
       " 'comp.graphics',\n",
       " 'comp.os.ms-windows.misc',\n",
       " 'comp.sys.ibm.pc.hardware',\n",
       " 'comp.sys.mac.hardware',\n",
       " 'comp.windows.x',\n",
       " 'misc.forsale',\n",
       " 'rec.autos',\n",
       " 'rec.motorcycles',\n",
       " 'rec.sport.baseball',\n",
       " 'rec.sport.hockey',\n",
       " 'sci.crypt',\n",
       " 'sci.electronics',\n",
       " 'sci.med',\n",
       " 'sci.space',\n",
       " 'soc.religion.christian',\n",
       " 'talk.politics.guns',\n",
       " 'talk.politics.mideast',\n",
       " 'talk.politics.misc',\n",
       " 'talk.religion.misc']"
      ]
     },
     "execution_count": 4,
     "metadata": {},
     "output_type": "execute_result"
    }
   ],
   "source": [
    "dataset.target_names"
   ]
  },
  {
   "cell_type": "markdown",
   "metadata": {},
   "source": [
    "An example of a document and its corresponding newsgroup is illustrated. _Data_ includes the content of the newsgroup document, _target_ includes the index of the category of the newsgroup, and _target_names_ includes the name of the category of the newsgroup."
   ]
  },
  {
   "cell_type": "code",
   "execution_count": 5,
   "metadata": {},
   "outputs": [
    {
     "data": {
      "text/plain": [
       "\"Robert J.C. Kyanko (rob@rjck.UUCP) wrote:\\n> abraxis@iastate.edu writes in article <abraxis.734340159@class1.iastate.edu>:\\n> > Anyone know about the Weitek P9000 graphics chip?\\n> As far as the low-level stuff goes, it looks pretty nice.  It's got this\\n> quadrilateral fill command that requires just the four points.\\n\\nDo you have Weitek's address/phone number?  I'd like to get some information\\nabout this chip.\\n\""
      ]
     },
     "execution_count": 5,
     "metadata": {},
     "output_type": "execute_result"
    }
   ],
   "source": [
    "dataset.data[3]"
   ]
  },
  {
   "cell_type": "code",
   "execution_count": 6,
   "metadata": {},
   "outputs": [
    {
     "data": {
      "text/plain": [
       "(1, 'comp.graphics')"
      ]
     },
     "execution_count": 6,
     "metadata": {},
     "output_type": "execute_result"
    }
   ],
   "source": [
    "dataset.target[3], dataset.target_names[dataset.target[3]]"
   ]
  },
  {
   "cell_type": "markdown",
   "metadata": {},
   "source": [
    "We can represent this data as a dataframe for more efficient data cleaning and data exploration."
   ]
  },
  {
   "cell_type": "code",
   "execution_count": 7,
   "metadata": {},
   "outputs": [
    {
     "data": {
      "text/html": [
       "<div>\n",
       "<style scoped>\n",
       "    .dataframe tbody tr th:only-of-type {\n",
       "        vertical-align: middle;\n",
       "    }\n",
       "\n",
       "    .dataframe tbody tr th {\n",
       "        vertical-align: top;\n",
       "    }\n",
       "\n",
       "    .dataframe thead th {\n",
       "        text-align: right;\n",
       "    }\n",
       "</style>\n",
       "<table border=\"1\" class=\"dataframe\">\n",
       "  <thead>\n",
       "    <tr style=\"text-align: right;\">\n",
       "      <th></th>\n",
       "      <th>document</th>\n",
       "      <th>target</th>\n",
       "      <th>newsgroup</th>\n",
       "    </tr>\n",
       "  </thead>\n",
       "  <tbody>\n",
       "    <tr>\n",
       "      <th>0</th>\n",
       "      <td>I was wondering if anyone out there could enli...</td>\n",
       "      <td>7</td>\n",
       "      <td>rec.autos</td>\n",
       "    </tr>\n",
       "    <tr>\n",
       "      <th>1</th>\n",
       "      <td>A fair number of brave souls who upgraded thei...</td>\n",
       "      <td>4</td>\n",
       "      <td>comp.sys.mac.hardware</td>\n",
       "    </tr>\n",
       "    <tr>\n",
       "      <th>2</th>\n",
       "      <td>well folks, my mac plus finally gave up the gh...</td>\n",
       "      <td>4</td>\n",
       "      <td>comp.sys.mac.hardware</td>\n",
       "    </tr>\n",
       "    <tr>\n",
       "      <th>3</th>\n",
       "      <td>Robert J.C. Kyanko (rob@rjck.UUCP) wrote:\\n&gt; a...</td>\n",
       "      <td>1</td>\n",
       "      <td>comp.graphics</td>\n",
       "    </tr>\n",
       "    <tr>\n",
       "      <th>4</th>\n",
       "      <td>From article &lt;C5owCB.n3p@world.std.com&gt;, by to...</td>\n",
       "      <td>14</td>\n",
       "      <td>sci.space</td>\n",
       "    </tr>\n",
       "  </tbody>\n",
       "</table>\n",
       "</div>"
      ],
      "text/plain": [
       "                                            document  target  \\\n",
       "0  I was wondering if anyone out there could enli...       7   \n",
       "1  A fair number of brave souls who upgraded thei...       4   \n",
       "2  well folks, my mac plus finally gave up the gh...       4   \n",
       "3  Robert J.C. Kyanko (rob@rjck.UUCP) wrote:\\n> a...       1   \n",
       "4  From article <C5owCB.n3p@world.std.com>, by to...      14   \n",
       "\n",
       "               newsgroup  \n",
       "0              rec.autos  \n",
       "1  comp.sys.mac.hardware  \n",
       "2  comp.sys.mac.hardware  \n",
       "3          comp.graphics  \n",
       "4              sci.space  "
      ]
     },
     "execution_count": 7,
     "metadata": {},
     "output_type": "execute_result"
    }
   ],
   "source": [
    "newsgroup_df = pd.DataFrame({\"document\": dataset.data, \"target\": dataset.target})\n",
    "newsgroup_df = newsgroup_df.assign(newsgroup=newsgroup_df[\"target\"].apply(lambda x: dataset.target_names[x]))\n",
    "newsgroup_df.head()"
   ]
  },
  {
   "cell_type": "markdown",
   "metadata": {},
   "source": [
    "Let's do some exploratory data analysis to better understand our dataset. First, we can look at the distriubtion of our newsgroup targets to see if there are any outliers."
   ]
  },
  {
   "cell_type": "code",
   "execution_count": 8,
   "metadata": {},
   "outputs": [
    {
     "name": "stderr",
     "output_type": "stream",
     "text": [
      "/Users/johndriscoll/opt/anaconda3/lib/python3.9/site-packages/seaborn/_core.py:1225: FutureWarning: is_categorical_dtype is deprecated and will be removed in a future version. Use isinstance(dtype, CategoricalDtype) instead\n",
      "  if pd.api.types.is_categorical_dtype(vector):\n",
      "/Users/johndriscoll/opt/anaconda3/lib/python3.9/site-packages/seaborn/_core.py:1225: FutureWarning: is_categorical_dtype is deprecated and will be removed in a future version. Use isinstance(dtype, CategoricalDtype) instead\n",
      "  if pd.api.types.is_categorical_dtype(vector):\n"
     ]
    },
    {
     "data": {
      "text/plain": [
       "Text(0.5, 0, 'Number of Corresponding Documents')"
      ]
     },
     "execution_count": 8,
     "metadata": {},
     "output_type": "execute_result"
    },
    {
     "data": {
      "image/png": "[encoded data removed]",
      "text/plain": [
       "<Figure size 1296x720 with 1 Axes>"
      ]
     },
     "metadata": {
      "needs_background": "light"
     },
     "output_type": "display_data"
    }
   ],
   "source": [
    "# plot the distribution of the newsgroups\n",
    "fig1 = plt.figure(figsize =[18 ,10])\n",
    "ax = sns.countplot(y=newsgroup_df['newsgroup'], color=\"lightblue\", order=dataset.target_names)\n",
    "plt.title('Distribution of Newsgroup Targets', size=20)\n",
    "plt.ylabel('Newsgroup Topic', size = 15)\n",
    "plt.xlabel('Number of Corresponding Documents', size = 15)"
   ]
  },
  {
   "cell_type": "markdown",
   "metadata": {},
   "source": [
    "Talk.politics.misc and talk.religion.misc are more abstract, overlap with other topics like talk.politics.guns and alt.atheism, and have lower counts of associated documents. We will remove them from our training set and focus on the remaining 18 topics instead."
   ]
  },
  {
   "cell_type": "code",
   "execution_count": 9,
   "metadata": {},
   "outputs": [
    {
     "data": {
      "text/plain": [
       "(10472, 3)"
      ]
     },
     "execution_count": 9,
     "metadata": {},
     "output_type": "execute_result"
    }
   ],
   "source": [
    "newsgroup_df = newsgroup_df[(newsgroup_df[\"newsgroup\"] != 'talk.politics.misc') & (newsgroup_df[\"newsgroup\"] != 'talk.religion.misc')]\n",
    "newsgroup_df.shape"
   ]
  },
  {
   "cell_type": "code",
   "execution_count": 10,
   "metadata": {},
   "outputs": [
    {
     "data": {
      "text/plain": [
       "0        I was wondering if anyone out there could enli...\n",
       "1        A fair number of brave souls who upgraded thei...\n",
       "2        well folks, my mac plus finally gave up the gh...\n",
       "3        Robert J.C. Kyanko (rob@rjck.UUCP) wrote:\\n> a...\n",
       "4        From article <C5owCB.n3p@world.std.com>, by to...\n",
       "                               ...                        \n",
       "11309    DN> From: nyeda@cnsvax.uwec.edu (David Nye)\\nD...\n",
       "11310    I have a (very old) Mac 512k and a Mac Plus, b...\n",
       "11311    I just installed a DX2-66 CPU in a clone mothe...\n",
       "11312    In article <1qkgbuINNs9n@shelley.u.washington....\n",
       "11313    Stolen from Pasadena between 4:30 and 6:30 pm ...\n",
       "Name: document, Length: 10472, dtype: object"
      ]
     },
     "execution_count": 10,
     "metadata": {},
     "output_type": "execute_result"
    }
   ],
   "source": [
    "newsgroup_df[\"document\"]"
   ]
  },
  {
   "cell_type": "code",
   "execution_count": 11,
   "metadata": {},
   "outputs": [
    {
     "name": "stdout",
     "output_type": "stream",
     "text": [
      "mean number of words: 257.52320473644005 standard deviation of number of words: 645.7135193230087\n"
     ]
    }
   ],
   "source": [
    "words_per_document = newsgroup_df[\"document\"].apply(lambda x: len(x.split(\" \")))\n",
    "mean_words = words_per_document.mean()\n",
    "std_words = words_per_document.std()\n",
    "print(\"mean number of words:\", mean_words, \"standard deviation of number of words:\", std_words)"
   ]
  },
  {
   "cell_type": "code",
   "execution_count": 128,
   "metadata": {},
   "outputs": [
    {
     "data": {
      "text/plain": [
       "1189673"
      ]
     },
     "execution_count": 128,
     "metadata": {},
     "output_type": "execute_result"
    }
   ],
   "source": [
    "#total number of distinct words\n",
    "sum(words_per_document.unique())"
   ]
  },
  {
   "cell_type": "code",
   "execution_count": 12,
   "metadata": {},
   "outputs": [
    {
     "data": {
      "text/plain": [
       "document\n",
       "714      1\n",
       "823      1\n",
       "789      1\n",
       "1138     1\n",
       "3953     1\n",
       "        ..\n",
       "625      1\n",
       "725      1\n",
       "4869     1\n",
       "10554    1\n",
       "631      1\n",
       "Name: count, Length: 300, dtype: int64"
      ]
     },
     "execution_count": 12,
     "metadata": {},
     "output_type": "execute_result"
    }
   ],
   "source": [
    "newsgroup_df[\"document\"].apply(lambda x: len(x.split(\" \"))).value_counts().sort_values()[:300]"
   ]
  },
  {
   "cell_type": "code",
   "execution_count": 13,
   "metadata": {},
   "outputs": [
    {
     "name": "stdout",
     "output_type": "stream",
     "text": [
      "max words per document 20083 , min words per document 1\n"
     ]
    }
   ],
   "source": [
    "print('max words per document', max(words_per_document), ', min words per document', min(words_per_document))"
   ]
  },
  {
   "cell_type": "code",
   "execution_count": 14,
   "metadata": {},
   "outputs": [
    {
     "data": {
      "text/plain": [
       "{'whiskers': [<matplotlib.lines.Line2D at 0x7f9915703fd0>,\n",
       "  <matplotlib.lines.Line2D at 0x7f99157192e0>],\n",
       " 'caps': [<matplotlib.lines.Line2D at 0x7f9915719670>,\n",
       "  <matplotlib.lines.Line2D at 0x7f9915719a00>],\n",
       " 'boxes': [<matplotlib.lines.Line2D at 0x7f9915703b80>],\n",
       " 'medians': [<matplotlib.lines.Line2D at 0x7f9915719d90>],\n",
       " 'fliers': [<matplotlib.lines.Line2D at 0x7f9915725160>],\n",
       " 'means': []}"
      ]
     },
     "execution_count": 14,
     "metadata": {},
     "output_type": "execute_result"
    },
    {
     "data": {
      "image/png": "[encoded data removed]",
      "text/plain": [
       "<Figure size 432x288 with 1 Axes>"
      ]
     },
     "metadata": {
      "needs_background": "light"
     },
     "output_type": "display_data"
    }
   ],
   "source": [
    "plt.boxplot(words_per_document)"
   ]
  },
  {
   "cell_type": "markdown",
   "metadata": {},
   "source": [
    "We can now preprocess the data for the topic model. We will first clean the documents by removing punctation, numbers, and characters, converting to lowercase, and stripping empty strings. We will also remove non-descriptive words such as \"a\", \"is\", \"from\", \"and\", etc. We will add additional stop words that occur often in our dataset but do not have any significant meaning for the theme extraction. Lastly, we will lemmatize our documents, meaning we will distill words into their foundational terms, like \"running\" to \"run\". This will help reduce unnecessary and redundant terms and ensure a faster runtime."
   ]
  },
  {
   "cell_type": "code",
   "execution_count": 15,
   "metadata": {},
   "outputs": [],
   "source": [
    "# List of stop words\n",
    "additional_stop_words = set([\"article\", \"subject\", 'time','im','thing', 'new', 'said', 'need', 'want', 'did',\n",
    "                             'know','like','people','think','writes','just','dont', '___', 'good', 'used',\n",
    "                            \"use\", \"think\", 'doe', \"year\", \"say\", \"make\", 'maxaxaxaxaxaxaxaxaxaxaxaxaxaxax'])\n",
    "stop_words = ENGLISH_STOP_WORDS.union(additional_stop_words)\n",
    "\n",
    "# Splits words on white spaces\n",
    "def tokenizer(text):\n",
    "    tokenizer = TweetTokenizer()\n",
    "    tokens = tokenizer.tokenize(text)\n",
    "    return tokens\n",
    "\n",
    "def process_text(text):\n",
    "    # Lowercase\n",
    "    text = text.lower()\n",
    "    # Remove punctuation, numbers, \\n, and extra whitespaces\n",
    "    text = re.sub(r'\\d+|[^\\w\\s]', '', text)\n",
    "    text = text.replace('\\n', ' ')\n",
    "    text = re.sub(r'\\s{2,}', ' ', text)\n",
    "    # only include english dictionary words\n",
    "    # Tokenize and lemmatize\n",
    "    wnl = WordNetLemmatizer()\n",
    "    tokens = [wnl.lemmatize(word) for word in tokenizer(text) if word not in stop_words]\n",
    "    text = [each for each in tokens if len(each) > 1]\n",
    "    text = [each for each in text if ' ' not in each]\n",
    "    return \" \".join(text)"
   ]
  },
  {
   "cell_type": "code",
   "execution_count": 16,
   "metadata": {},
   "outputs": [
    {
     "data": {
      "text/plain": [
       "\"A fair number of brave souls who upgraded their SI clock oscillator have\\nshared their experiences for this poll. Please send a brief message detailing\\nyour experiences with the procedure. Top speed attained, CPU rated speed,\\nadd on cards and adapters, heat sinks, hour of usage per day, floppy disk\\nfunctionality with 800 and 1.4 m floppies are especially requested.\\n\\nI will be summarizing in the next two days, so please add to the network\\nknowledge base if you have done the clock upgrade and haven't answered this\\npoll. Thanks.\""
      ]
     },
     "execution_count": 16,
     "metadata": {},
     "output_type": "execute_result"
    }
   ],
   "source": [
    "# Set options to display all rows and columns\n",
    "newsgroup_df['document'][1]"
   ]
  },
  {
   "cell_type": "code",
   "execution_count": 17,
   "metadata": {},
   "outputs": [
    {
     "data": {
      "text/plain": [
       "0    wondering enlighten car saw day door sport car...\n",
       "1    fair number brave soul upgraded si clock oscil...\n",
       "2    folk mac plus finally gave ghost weekend start...\n",
       "3    robert jc kyanko robrjckuucp wrote abraxisiast...\n",
       "4    cowcbnpworldstdcom tombakerworldstdcom tom bak...\n",
       "5    reuttransferstratuscom cdtswstratuscom tavares...\n",
       "6    responded request info treatment astrocytomas ...\n",
       "7    dxbpsuvmpsuedu qlbrlinnrkdnsnmsuedu bgrubbdant...\n",
       "8    win downloaded icon bmps figure change wallpap...\n",
       "9    jappocwruedu joseph pellettiere looking inform...\n",
       "Name: document, dtype: object"
      ]
     },
     "execution_count": 17,
     "metadata": {},
     "output_type": "execute_result"
    }
   ],
   "source": [
    "newsgroup_df['document'][:10].apply(process_text)"
   ]
  },
  {
   "cell_type": "code",
   "execution_count": 18,
   "metadata": {},
   "outputs": [
    {
     "data": {
      "text/plain": [
       "0        wondering enlighten car saw day door sport car...\n",
       "1        fair number brave soul upgraded si clock oscil...\n",
       "2        folk mac plus finally gave ghost weekend start...\n",
       "3        robert jc kyanko robrjckuucp wrote abraxisiast...\n",
       "4        cowcbnpworldstdcom tombakerworldstdcom tom bak...\n",
       "                               ...                        \n",
       "11309    dn nyedacnsvaxuwecedu david nye dn neurology d...\n",
       "11310    old mac mac plus problem screen blank minor ph...\n",
       "11311    installed dx cpu clone motherboard tried mount...\n",
       "11312    qkgbuinnsnshelleyuwashingtonedu bolsoncarsonuw...\n",
       "11313    stolen pasadena pm blue white honda cbrrr cali...\n",
       "Name: processed_documents, Length: 10472, dtype: object"
      ]
     },
     "execution_count": 18,
     "metadata": {},
     "output_type": "execute_result"
    }
   ],
   "source": [
    "### tokenize the abstracts\n",
    "newsgroup_df['processed_documents'] = newsgroup_df['document'].apply(process_text)\n",
    "newsgroup_df['processed_documents']"
   ]
  },
  {
   "cell_type": "code",
   "execution_count": 19,
   "metadata": {},
   "outputs": [
    {
     "data": {
      "text/html": [
       "<div>\n",
       "<style scoped>\n",
       "    .dataframe tbody tr th:only-of-type {\n",
       "        vertical-align: middle;\n",
       "    }\n",
       "\n",
       "    .dataframe tbody tr th {\n",
       "        vertical-align: top;\n",
       "    }\n",
       "\n",
       "    .dataframe thead th {\n",
       "        text-align: right;\n",
       "    }\n",
       "</style>\n",
       "<table border=\"1\" class=\"dataframe\">\n",
       "  <thead>\n",
       "    <tr style=\"text-align: right;\">\n",
       "      <th></th>\n",
       "      <th>word</th>\n",
       "      <th>frequency</th>\n",
       "    </tr>\n",
       "  </thead>\n",
       "  <tbody>\n",
       "    <tr>\n",
       "      <th>0</th>\n",
       "      <td>doe</td>\n",
       "      <td>3508</td>\n",
       "    </tr>\n",
       "    <tr>\n",
       "      <th>1</th>\n",
       "      <td>file</td>\n",
       "      <td>2821</td>\n",
       "    </tr>\n",
       "    <tr>\n",
       "      <th>2</th>\n",
       "      <td>right</td>\n",
       "      <td>2809</td>\n",
       "    </tr>\n",
       "    <tr>\n",
       "      <th>3</th>\n",
       "      <td>problem</td>\n",
       "      <td>2806</td>\n",
       "    </tr>\n",
       "    <tr>\n",
       "      <th>4</th>\n",
       "      <td>way</td>\n",
       "      <td>2586</td>\n",
       "    </tr>\n",
       "    <tr>\n",
       "      <th>5</th>\n",
       "      <td>work</td>\n",
       "      <td>2475</td>\n",
       "    </tr>\n",
       "    <tr>\n",
       "      <th>6</th>\n",
       "      <td>window</td>\n",
       "      <td>2402</td>\n",
       "    </tr>\n",
       "    <tr>\n",
       "      <th>7</th>\n",
       "      <td>god</td>\n",
       "      <td>2307</td>\n",
       "    </tr>\n",
       "    <tr>\n",
       "      <th>8</th>\n",
       "      <td>question</td>\n",
       "      <td>2042</td>\n",
       "    </tr>\n",
       "    <tr>\n",
       "      <th>9</th>\n",
       "      <td>program</td>\n",
       "      <td>1952</td>\n",
       "    </tr>\n",
       "    <tr>\n",
       "      <th>10</th>\n",
       "      <td>number</td>\n",
       "      <td>1945</td>\n",
       "    </tr>\n",
       "    <tr>\n",
       "      <th>11</th>\n",
       "      <td>point</td>\n",
       "      <td>1918</td>\n",
       "    </tr>\n",
       "    <tr>\n",
       "      <th>12</th>\n",
       "      <td>drive</td>\n",
       "      <td>1831</td>\n",
       "    </tr>\n",
       "    <tr>\n",
       "      <th>13</th>\n",
       "      <td>really</td>\n",
       "      <td>1781</td>\n",
       "    </tr>\n",
       "    <tr>\n",
       "      <th>14</th>\n",
       "      <td>come</td>\n",
       "      <td>1779</td>\n",
       "    </tr>\n",
       "    <tr>\n",
       "      <th>15</th>\n",
       "      <td>game</td>\n",
       "      <td>1773</td>\n",
       "    </tr>\n",
       "    <tr>\n",
       "      <th>16</th>\n",
       "      <td>using</td>\n",
       "      <td>1748</td>\n",
       "    </tr>\n",
       "    <tr>\n",
       "      <th>17</th>\n",
       "      <td>bit</td>\n",
       "      <td>1738</td>\n",
       "    </tr>\n",
       "    <tr>\n",
       "      <th>18</th>\n",
       "      <td>key</td>\n",
       "      <td>1724</td>\n",
       "    </tr>\n",
       "    <tr>\n",
       "      <th>19</th>\n",
       "      <td>day</td>\n",
       "      <td>1638</td>\n",
       "    </tr>\n",
       "  </tbody>\n",
       "</table>\n",
       "</div>"
      ],
      "text/plain": [
       "        word  frequency\n",
       "0        doe       3508\n",
       "1       file       2821\n",
       "2      right       2809\n",
       "3    problem       2806\n",
       "4        way       2586\n",
       "5       work       2475\n",
       "6     window       2402\n",
       "7        god       2307\n",
       "8   question       2042\n",
       "9    program       1952\n",
       "10    number       1945\n",
       "11     point       1918\n",
       "12     drive       1831\n",
       "13    really       1781\n",
       "14      come       1779\n",
       "15      game       1773\n",
       "16     using       1748\n",
       "17       bit       1738\n",
       "18       key       1724\n",
       "19       day       1638"
      ]
     },
     "execution_count": 19,
     "metadata": {},
     "output_type": "execute_result"
    }
   ],
   "source": [
    "# Get the top 20 most common words among all the documents\n",
    "\n",
    "p_text = ' '.join(newsgroup_df['processed_documents'].tolist())\n",
    "\n",
    "p_text = p_text.split(' ')\n",
    "\n",
    "# Top 20\n",
    "top_20 = pd.DataFrame(\n",
    "    Counter(p_text).most_common(20),\n",
    "    columns=['word', 'frequency']\n",
    ")\n",
    "\n",
    "top_20"
   ]
  },
  {
   "cell_type": "code",
   "execution_count": 20,
   "metadata": {},
   "outputs": [
    {
     "data": {
      "text/plain": [
       "'game'"
      ]
     },
     "execution_count": 20,
     "metadata": {},
     "output_type": "execute_result"
    }
   ],
   "source": [
    "top_20['word'][15]"
   ]
  },
  {
   "cell_type": "markdown",
   "metadata": {},
   "source": [
    "### NMF - Manual Topic Number"
   ]
  },
  {
   "cell_type": "markdown",
   "metadata": {},
   "source": [
    "Transform lemmatized and cleaned words into a document-term frequency matrix (DTM)"
   ]
  },
  {
   "cell_type": "code",
   "execution_count": 149,
   "metadata": {},
   "outputs": [],
   "source": [
    "# Initialize TfidfVectorizer\n",
    "vectorizer = TfidfVectorizer(max_df=0.90, min_df=2)\n",
    "\n",
    "# Fit and transform the processed abstracts into DTM\n",
    "dtm = vectorizer.fit_transform(newsgroup_df['processed_documents'])"
   ]
  },
  {
   "cell_type": "code",
   "execution_count": 150,
   "metadata": {},
   "outputs": [],
   "source": [
    "def do_nmf(n_topics):\n",
    "\n",
    "    # Specify the number of topics\n",
    "    nmf_model = NMF(n_components=n_topics)\n",
    "    W = nmf_model.fit_transform(dtm)  # Document-topic matrix   (n_samples, n_components)\n",
    "    H = nmf_model.components_         # Topic-term matrix       (n_components, n_features)\n",
    "    return W, H"
   ]
  },
  {
   "cell_type": "code",
   "execution_count": 151,
   "metadata": {},
   "outputs": [
    {
     "name": "stderr",
     "output_type": "stream",
     "text": [
      "/Users/johndriscoll/opt/anaconda3/lib/python3.9/site-packages/sklearn/decomposition/_nmf.py:1665: ConvergenceWarning: Maximum number of iterations 200 reached. Increase it to improve convergence.\n",
      "  warnings.warn(\n"
     ]
    }
   ],
   "source": [
    "n_topics = 18\n",
    "W, H = do_nmf(n_topics)"
   ]
  },
  {
   "cell_type": "code",
   "execution_count": 139,
   "metadata": {},
   "outputs": [
    {
     "name": "stdout",
     "output_type": "stream",
     "text": [
      "Topic #1:\n",
      "thing,food,question,group,really,day,way,ive,msg,problem\n",
      "Topic #2:\n",
      "running,version,using,problem,font,manager,program,application,do,window\n",
      "Topic #3:\n",
      "hd,cable,switch,jumper,problem,boot,hard,floppy,disk,drive\n",
      "Topic #4:\n",
      "fan,league,baseball,hockey,season,win,play,player,team,game\n",
      "Topic #5:\n",
      "secure,algorithm,bit,phone,government,escrow,clipper,encryption,chip,key\n",
      "Topic #6:\n",
      "church,truth,belief,atheist,believe,faith,bible,jesus,christian,god\n",
      "Topic #7:\n",
      "manual,sell,asking,modem,printer,condition,shipping,price,sale,offer\n",
      "Topic #8:\n",
      "bus,vesa,vga,graphic,mode,ati,diamond,video,driver,card\n",
      "Topic #9:\n",
      "help,information,address,doe,info,looking,hi,advance,email,thanks\n",
      "Topic #10:\n",
      "policy,state,lebanon,peace,lebanese,palestinian,jew,arab,israeli,israel\n",
      "Topic #11:\n",
      "convert,gif,disk,bmp,ftp,image,directory,format,program,file\n",
      "Topic #12:\n",
      "government,handgun,state,crime,criminal,right,firearm,law,weapon,gun\n",
      "Topic #13:\n",
      "azerbaijan,azeri,muslim,greek,genocide,turk,turkey,armenia,turkish,armenian\n",
      "Topic #14:\n",
      "mac,data,pc,isa,device,bus,controller,ide,mb,scsi\n",
      "Topic #15:\n",
      "oil,insurance,driver,price,mile,speed,model,dealer,engine,car\n",
      "Topic #16:\n",
      "lunar,science,shuttle,cost,program,orbit,moon,launch,nasa,space\n",
      "Topic #17:\n",
      "mile,honda,dod,helmet,dog,riding,rider,ride,motorcycle,bike\n",
      "Topic #18:\n",
      "memory,mb,mhz,bit,screen,mac,apple,simms,color,monitor\n"
     ]
    }
   ],
   "source": [
    "feature_names = vectorizer.get_feature_names_out()\n",
    "for index, topic in enumerate(H):\n",
    "    print(f\"Topic #{index + 1}:\")\n",
    "    print(\",\".join([feature_names[i] for i in topic.argsort()[-10:]]))  # Top 10 words per topic"
   ]
  },
  {
   "cell_type": "code",
   "execution_count": 140,
   "metadata": {},
   "outputs": [
    {
     "name": "stdout",
     "output_type": "stream",
     "text": [
      "Document #11 dominant topic: Topic 17\n",
      "Topic Distribution for Document #11:\n",
      "Topic 1: 0.0000\n",
      "Topic 2: 0.0000\n",
      "Topic 3: 0.0023\n",
      "Topic 4: 0.0000\n",
      "Topic 5: 0.0000\n",
      "Topic 6: 0.0000\n",
      "Topic 7: 0.0025\n",
      "Topic 8: 0.0000\n",
      "Topic 9: 0.0245\n",
      "Topic 10: 0.0000\n",
      "Topic 11: 0.0000\n",
      "Topic 12: 0.0000\n",
      "Topic 13: 0.0000\n",
      "Topic 14: 0.0004\n",
      "Topic 15: 0.0115\n",
      "Topic 16: 0.0000\n",
      "Topic 17: 0.1223\n",
      "Topic 18: 0.0100\n",
      "\n",
      "Top words for Dominant Topic 17:\n",
      "mile honda dod helmet dog riding rider ride motorcycle bike\n",
      "rec.motorcycles\n",
      "I have a line on a Ducati 900GTS 1978 model with 17k on the clock.  Runs\n",
      "very well, paint is the bronze/brown/orange faded out, leaks a bit of oil\n",
      "and pops out of 1st with hard accel.  The shop will fix trans and oil \n",
      "leak.  They sold the bike to the 1 and only owner.  They want $3495, and\n",
      "I am thinking more like $3K.  Any opinions out there?  Please email me.\n",
      "Thanks.  It would be a nice stable mate to the Beemer.  Then I'll get\n",
      "a jap bike and call myself Axis Motors!\n",
      "\n",
      "-- \n",
      "-----------------------------------------------------------------------\n",
      "\"Tuba\" (Irwin)      \"I honk therefore I am\"     CompuTrac-Richardson,Tx\n",
      "irwin@cmptrc.lonestar.org    DoD #0826          (R75/6)\n"
     ]
    }
   ],
   "source": [
    "# Let's say we want the topic distribution for the first document (index 0)\n",
    "document_index = 10\n",
    "document_topics = W[document_index]  # Get topic weights for this document\n",
    "\n",
    "# Identify the dominant topic for this document\n",
    "dominant_topic = np.argmax(document_topics)\n",
    "\n",
    "print(f\"Document #{document_index + 1} dominant topic: Topic {dominant_topic + 1}\")\n",
    "print(f\"Topic Distribution for Document #{document_index + 1}:\")\n",
    "for topic_idx, weight in enumerate(document_topics):\n",
    "    print(f\"Topic {topic_idx + 1}: {weight:.4f}\")\n",
    "\n",
    "# Print the top words for the dominant topic to understand its meaning\n",
    "top_word_indices = H[dominant_topic].argsort()[-10:]  # Top 10 words for the dominant topic\n",
    "print(f\"\\nTop words for Dominant Topic {dominant_topic + 1}:\")\n",
    "print(\" \".join([feature_names[i] for i in top_word_indices]))\n",
    "print(newsgroup_df.iloc[document_index][\"newsgroup\"])\n",
    "print(newsgroup_df.iloc[document_index][\"document\"])"
   ]
  },
  {
   "cell_type": "markdown",
   "metadata": {},
   "source": [
    "#### Residual Score (NMF only)"
   ]
  },
  {
   "cell_type": "markdown",
   "metadata": {},
   "source": [
    "\"Residuals are differences between the observed and predicted values of the data. A residual of 0 means the topic perfectly approximates the text of the article, so the lower the better.\n",
    "\n",
    "To calculate the residual you can take the Frobenius norm (square root of the sum of the absolute squares of its elements) of the tf-idf weights (A) minus the dot product of the coefficients of the topics (H) and the topics (W). We can then get the average residual for each topic to see which has the smallest residual on average.\" - https://freedium.cfd/https://towardsdatascience.com/topic-modeling-articles-with-nmf-8c6b2a227a45 \n",
    "<br><br><br>\n",
    "How well do the topics approximate the original weights of the tfidf matrix for each document?\n",
    "Averaged across topics, can get the sense of how good of an approximator each topic is."
   ]
  },
  {
   "cell_type": "markdown",
   "metadata": {},
   "source": [
    "Residual$[x_i]$$\\norm{x_i - W_i \\dot H}_F$ where document $x_i \\in$ documents $X$, $W_i$ is row i of the Document-topic matrix and $H$ is the Topic-term matrix    "
   ]
  },
  {
   "cell_type": "code",
   "execution_count": 162,
   "metadata": {},
   "outputs": [
    {
     "data": {
      "text/plain": [
       "array([0.86997882, 0.98167667, 0.95914379, ..., 0.99333907, 0.98706183,\n",
       "       0.99290276])"
      ]
     },
     "execution_count": 162,
     "metadata": {},
     "output_type": "execute_result"
    }
   ],
   "source": [
    "# For each document calculate the difference between the original tfidf weights and those predicted\n",
    "# by multiplying W and H for that specific row.\n",
    "# Cell Source: https://freedium.cfd/https://towardsdatascience.com/topic-modeling-articles-with-nmf-8c6b2a227a45\n",
    "def do_residual(dtm, W, H):\n",
    "    residuals = np.zeros(dtm.shape[0])\n",
    "    for row in range(dtm.shape[0]):\n",
    "        # 'fro' here means we are using the Frobenium norm as the distance metric\n",
    "        residuals[row] = np.linalg.norm(dtm[row, :] - W[row, :].dot(H), 'fro')\n",
    "    return residuals\n",
    "\n",
    "residuals = do_residual(dtm, W, H)\n",
    "residuals"
   ]
  },
  {
   "cell_type": "code",
   "execution_count": 178,
   "metadata": {},
   "outputs": [
    {
     "data": {
      "text/plain": [
       "0.970847744962895"
      ]
     },
     "execution_count": 178,
     "metadata": {},
     "output_type": "execute_result"
    }
   ],
   "source": [
    "np.mean(residuals)"
   ]
  },
  {
   "cell_type": "code",
   "execution_count": 163,
   "metadata": {},
   "outputs": [
    {
     "data": {
      "text/plain": [
       "Text(0.5, 1.0, 'Average Residual per Document by Main Topic')"
      ]
     },
     "execution_count": 163,
     "metadata": {},
     "output_type": "execute_result"
    },
    {
     "data": {
      "image/png": "[encoded data removed]",
      "text/plain": [
       "<Figure size 432x288 with 1 Axes>"
      ]
     },
     "metadata": {
      "needs_background": "light"
     },
     "output_type": "display_data"
    }
   ],
   "source": [
    "residuals_by_topic = pd.Series(residuals).groupby(np.argmax(W, axis=1)).mean()\n",
    "plt.bar(x=residuals_by_topic.index, height=residuals_by_topic.values)\n",
    "plt.xticks(residuals_by_topic.index)\n",
    "plt.title(\"Average Residual per Document by Main Topic\")"
   ]
  },
  {
   "cell_type": "markdown",
   "metadata": {},
   "source": [
    "Residuals are nearly indistinguishable by visualization."
   ]
  },
  {
   "cell_type": "code",
   "execution_count": 164,
   "metadata": {},
   "outputs": [
    {
     "data": {
      "text/plain": [
       "15    0.990003\n",
       "8     0.984839\n",
       "17    0.983752\n",
       "11    0.981852\n",
       "3     0.981042\n",
       "13    0.979894\n",
       "16    0.973994\n",
       "5     0.970253\n",
       "4     0.958097\n",
       "10    0.954919\n",
       "9     0.953967\n",
       "1     0.953938\n",
       "6     0.947169\n",
       "7     0.946123\n",
       "12    0.943851\n",
       "2     0.921431\n",
       "14    0.908278\n",
       "0     0.904748\n",
       "dtype: float64"
      ]
     },
     "execution_count": 164,
     "metadata": {},
     "output_type": "execute_result"
    }
   ],
   "source": [
    "residuals_by_topic.sort_values(ascending=False)"
   ]
  },
  {
   "cell_type": "markdown",
   "metadata": {},
   "source": [
    "Topic 1 has the lowest residual while topic 2 has the highest. "
   ]
  },
  {
   "cell_type": "markdown",
   "metadata": {},
   "source": [
    "#### \"Expert\" Manual Evaluation"
   ]
  },
  {
   "cell_type": "markdown",
   "metadata": {},
   "source": [
    "Since relevance is difficult to interpret without a baseline, we compare the two for quality below by inspecting sets of training instances."
   ]
  },
  {
   "cell_type": "code",
   "execution_count": 93,
   "metadata": {},
   "outputs": [
    {
     "data": {
      "text/plain": [
       "['machine',\n",
       " 'display',\n",
       " 'line',\n",
       " 'image',\n",
       " 'program',\n",
       " 'screen',\n",
       " 'color',\n",
       " 'using',\n",
       " 'server',\n",
       " 'problem']"
      ]
     },
     "metadata": {},
     "output_type": "display_data"
    },
    {
     "data": {
      "text/plain": [
       "(964,\n",
       " \"I have a problem where an Athena strip chart widget is not calling it's\\nget value function.  I am pretty sure this is happening because I am\\nnot using XtAppMainLoop, but am dealing with events via sockets.  (ya ya).\\n\\nAnyway, I want to cause a timeout so that the strip chart widget(s) will\\ncall their get value callback.  Or if someone knows another FAST way around\\nthis (or any way for that matter) let me know.  I cannot (or I don't think)\\ncall the XtNgetValue callback myself because I don't have the value for\\nthe third parameter of the get value proc (XtPointer call_data).  \\n\\nIn other words, I want to force a strip chart widget to update itself.\\n\\nAny ideas anyone?  \\n\")"
      ]
     },
     "metadata": {},
     "output_type": "display_data"
    },
    {
     "data": {
      "text/plain": [
       "(8231,\n",
       " 'I would be interested in hearing from anyone who knows of good software for\\nantenna simulation, particularly in source form suitable for Unix workstations\\n(though good PC software would also be of interest).\\nI\\'m aware of the numerous mininec mutations, and have been using MN for\\nsome time now.  I\\'m primarily interested in HF, VHF, and low UHF (< 500 MHz)\\ndesigns, mostly wire antennas, but for thick wires and mesh surfaces as well\\nas for your basic thin wire assumption.\\nIs anything interesting happening with NEC itself?  I\\'ve seen a version\\nthat was mutilated to run (sort of) under Microsoft Fortran, but I\\'m not\\nsure how many \"new and improved\" versions of the code might be out there\\nsomewhere.\\nI\\'d also be interested in non-NEC derivatives.  The ones I\\'ve seen have\\nbeen aimed at microwave applications, but if there is something out there\\nuseful at the lower frequencies, I\\'d like to know about it.\\nThanks,')"
      ]
     },
     "metadata": {},
     "output_type": "display_data"
    },
    {
     "data": {
      "text/plain": [
       "(4181,\n",
       " \": Robert G. Carpenter writes:\\n\\n: >Hi Netters,\\n: >\\n: >I'm building a CAD package and need a 3D graphics library that can handle\\n: >some rudimentry tasks, such as hidden line removal, shading, animation, etc.\\n: >\\n: >Can you please offer some recommendations?\\n: >\\n: >I'll also need contact info (name, address, email...) if you can find it.\\n: >\\n: >Thanks\\n: >\\n: >(Please Post Your Responses, in case others have same need)\\n: >\\n: >Bob Carpenter\\n: >\\n\\nThe following is extracted from sumex-aim.stanford.edu.  It should also be on\\nthe mirrors.  I think there is source for some applications that may have some\\nbearing on your project.  Poke around the source directory.  I've never used\\nthis package, nor do I know anyone who did, but the price is right :-)\\n\\nHope this helps.\\n\\n\\t\\t\\t\\t\\tCheinan\\n\\nAbstracts of files as of Thu Apr  1 03:11:39 PST 1993\\nDirectory: info-mac/source\\n\\n#### BINHEX     3d-grafsys-121.hqx   ****\\n\\nDate: Fri, 5 Mar 93 14:13:07 +0100\\nFrom: Christian Steffen Ove Franz <cfranz@iiic.ethz.ch>\\nTo: questions@mac.archive.umich.edu\\nSubject: 3d GrafSys 1.21 in incoming directory\\nA 3d GrafSys short description follows:\\n\\nProgrammers 3D GrafSys Vers 1.21 now available. \\n\\nVersion 1.21 is mainly a bugfix for THINK C users. THIS VERSION\\nNOW RUNS WITH THINK C, I PROMISE! The Docs now contain a chapter for\\nC programmers on how to use the GrafSys. If you have problems, feel free \\nto contact me.\\nThe other change is that I removed the FastPerfTrig calls from\\nthe FPU version to make it run faster.\\n\\nThose of you who don't know what all this is about, read on.\\n\\n********\\n\\nProgrammers 3D GrafSys -- What it is:\\n-------------------------------------\\n\\nDidn't you always have this great game in mind where you needed some way of \\ndrawing three-dimensional scenes? \\n\\nDidn't you always want to write this program that visualized the structure \\nof three-dimensional molecules?\\n\\nAnd didn't the task of writing your 3D conversions routines keep you from \\nactually doing it?\\n\\nWell if the answer to any of the above questions is 'Yes, but what has it to \\ndo with this package???' , read on.\\n\\nGrafSys is a THINK Pascal/C library that provides you with simple routines \\nfor building, saving, loading (as resources), and manipulating \\n(independent rotating around arbitrary achses, translating and scaling) \\nthree dimensional objects. Objects, not just simple single-line drawings.\\n\\nGrafSys supports full 3D clipping, animation and some (primitive) hidden-\\nline/hidden-surface drawing with simple commands from within YOUR PROGRAM.\\n\\nGrafSys also supports full eye control with both perspective and parallel\\nprojections (If you can't understand a word, don't worry, this is just showing\\noff for those who know about it. The docs that come with it will try to explain\\nwhat it all means later on). \\n\\nGrafSys provides a powerful interface to supply your own drawing routines with\\ndata so you can use GrafSys to do the 3D transformations and your own routines\\nto do the actual drawing. (Note that GrafSys also provides drawing routines so\\nyou don't have to worry about that if you don't want to)\\n\\nGrafSys 1.11 comes in two versions. One for the 881 and 020 or above \\nprocessors. The other version uses fixed-point arithmetic and runs on any Mac.\\nBoth versions are *100% source compatibel*. \\n\\nGrafSys comes with an extensive manual that teaches you the fundamentals of 3D\\ngraphics and how to use the package.\\n\\nIf demand is big enough I will convert the GrafSys to an object-class library. \\nHowever, I feelt that the way it is implemented now makes it easier to use for\\na lot more people than the select 'OOP-Guild'.\\n\\nGrafSys is free for any non-commercial usage. Read the documentation enclosed.\\n\")"
      ]
     },
     "metadata": {},
     "output_type": "display_data"
    },
    {
     "data": {
      "text/plain": [
       "(1622,\n",
       " \"In article <1993Apr2.203400.15357@kocrsv01.delcoelect.com> c2xjfa@kocrsv01.delcoelect.com (James F Allman III) writes:\\n>\\n>> \\n>> > I'm doing a study on what the following type of users would like to\\n>> > have on a Unix Manager.  Basically I'm looking for the Unix commands\\n>> > and features on Motif window interface which will help the different\\n>> > type of users make use of Unix.\\n>> ...\\n\\n\\n>> Personally, I can't stand Motif.  I also can't stand GUI      Command Line!\\n>> interfaces for things like access to the commands I know      Command Line!\\n>> and love.  I think you'll find that experience [sic] users    Command Line!\\n>> \\n>> \\t\\t\\t\\t\\tder Mouse\\n>> ...\\n\\n\\n>A year and a half ago I felt the same way.  The I started using\\n>gooyies.  Give me the command line when something out of the ordinary\\n>needs done, and the gooy when I am doing normal or repative work. \\n>Note that most operations are repetative.  Hackers love CLs because\\n>  ...\\n\\nWhat I like about GUI's:\\n\\n\\t- The ability to view and manipulate a group of objects, files,\\n\\t  text, directories, etc. and and manipulate them in some way\\n\\t  such as delete, copy, paste, rename ...\\n\\n\\t- The ability to have several applications / screens visible\\n\\t  and accessable at the same time.\\n\\n\\t- Being able to do a standard set of functions easily and\\n\\t  quickly on an unfamiliar operating system. I am familiar with\\n\\t  the command lines of several operating systems but occasionally\\n\\t  I will have to some work on a system that I almost never use.\\n\\t  If it has a GUI, I can usually accomplish what I want to do\\n\\t  fairly easily, the command line on the other hand often is\\n\\t  a long and painful experience.\\n\\n\\nWhat I hate about GUI's:\\n\\n\\t- Having to switch between the mouse and the keyboard. I guess\\n\\t  I have a strong one-handed preference. I like to use a\\n\\t  computer with one hand and use the other for holding something\\n\\t  like a piece of paper of a mug of tea. I have configured my\\n\\t  favorite editor so that most of the editing functions can be\\n\\t  done with one hand such as navigating, cutting, pasting,\\n\\t  searching, opening and saving files, etc. The main thing I\\n\\t  need to use both hands for is entering text.\\n\\n\\tI guess I need to get one of those mice with, like, 20 buttons\\n\\tor something and then I will have the best of both worlds.\")"
      ]
     },
     "metadata": {},
     "output_type": "display_data"
    },
    {
     "data": {
      "text/plain": [
       "(2098,\n",
       " 'Hi,\\n\\n  I am trying to write an X-windows based interface that runs on top of GDB. Could \\nanyone help me in understanding the way we are supposed to \"fork\" GDB off as a \\nsubprocess ?? I currently use pipes but when I try and debug this program, the \\nfollowing happens :\\n\\nPROGRAM :\\n\\n\\tmain()\\n\\t{\\n           int x;\\n \\n\\n\\t   printf(\"enter x : \");\\n           scanf(\"%d\", &x);\\n           printf(\"x = .%d.\\\\n\", x );\\n\\n        }\\n\\nOUTPUT :\\n\\n\\tThe program hangs without returning the output of the printf statement. When I type\\nin a value (like 5), then all the printf\\'s output comes out at one time.\\n\\n\\nIs there any other way, besides using PIPES to do this i.e., like ioctl or something else ??\\n\\nThanks,\\n\\nDeepak\\n')"
      ]
     },
     "metadata": {},
     "output_type": "display_data"
    },
    {
     "data": {
      "text/plain": [
       "['controller',\n",
       " 'switch',\n",
       " 'cable',\n",
       " 'jumper',\n",
       " 'problem',\n",
       " 'boot',\n",
       " 'hard',\n",
       " 'floppy',\n",
       " 'disk',\n",
       " 'drive']"
      ]
     },
     "metadata": {},
     "output_type": "display_data"
    },
    {
     "data": {
      "text/plain": [
       "(5955,\n",
       " \"I haven't seen much info about how to add an extra internal disk to a\\nmac. We would like to try it, and I wonder if someone had some good\\nadvice.\\n\\nWe have a Mac IIcx with the original internal Quantum 40MB hard disk,\\nand an unusable floppy drive. We also have a new spare Connor 40MB\\ndisk which we would like to use. The idea is to replace the broken\\nfloppy drive with the new hard disk, but there seems to be some\\nproblems:\\n\\nThe internal SCSI cable and power cable inside the cx has only\\nconnectors for one single hard disk drive.\\n\\nIf I made a ribbon cable and a power cable with three connectors each\\n(1 for motherboard, 1 for each of the 2 disks), would it work?\\n\\nIs the IIcx able to supply the extra power to the extra disk?\\n\\nWhat about terminators? I suppose that i should remove the resistor\\npacks from the disk that is closest to the motherboard, but leave them\\ninstalled in the other disk.\\n\\nThe SCSI ID jumpers should also be changed so that the new disk gets\\nID #1. The old one should have ID #0.\\n\\nIt is no problem for us to remove the floppy drive, as we have an\\nexternal floppy that we can use if it won't boot of the hard disk.\\n\\nThank you!\\n\")"
      ]
     },
     "metadata": {},
     "output_type": "display_data"
    },
    {
     "data": {
      "text/plain": [
       "(1639,\n",
       " \"In article <1quod6$i3n@menudo.uh.edu>, sunnyt@coding.bchs.uh.edu wrote:\\n> \\n> In article <1993Apr19.164734.24779@newsgate.sps.mot.com>  \\n> rjacks@austlcm.sps.mot.com (rodney jacks) writes:\\n> > I would really like to get one of the new CD300i CDROM\\n> > drives for my c650, but my local Apple doesn't know \\n> > when they will be available.  He doesn't even have a part\\n> > number yet.   Does anyone know what the part number \\n> > for this drive is and when it will be available?\\n> > \\n> > My Apple dealer suggested I buy one of the CD300 external\\n> > drives, but I don't want to pay extra for a case/power supply\\n> > I'm not going to use.\\n> > \\n> > -Rodney Jacks\\n> > (rjacks@austlcm.sps.mot.com)\\n> \\n\\t\\t\\t  While there may not be a part number for the CD300i drive, I have seen\\na part number for the bezel kit (a new front panel with the slot in it\\nthrough which you insert the CD). The document (which I got from the\\n2/10/93 announcement at our Apple office) states the drive kit and bezel\\nkits are separate items and the bezel kit has an SRP of $149 fro the C650.\\nThe external unit may be a better deal after all.\")"
      ]
     },
     "metadata": {},
     "output_type": "display_data"
    },
    {
     "data": {
      "text/plain": [
       "(3017, 'WHAT IS THE FLANK DRIVE EVERYONES TALKING ABOUT?\\n')"
      ]
     },
     "metadata": {},
     "output_type": "display_data"
    },
    {
     "data": {
      "text/plain": [
       "(7363,\n",
       " '2-gigabyte Fujitsu 5.25\" disk drive\\ninternal drive, model M26525A\\n(uses either a SCSI or EDI interface on your disk controller card)\\nbrand new, still in box, never used\\n\\n  only $1800 (compare to $2400 in cheapest mail-order catalogs)')"
      ]
     },
     "metadata": {},
     "output_type": "display_data"
    },
    {
     "data": {
      "text/plain": [
       "(511,\n",
       " 'In article <9304172194@jester.GUN.de>, michael@jester.GUN.de (Michael Gerhards) writes:\\n> Holly       KS (cs3sd3ae@maccs.mcmaster.ca) wrote:\\n>> My Western Digital also has three sets of pins on the back. I am using it with\\n>> another hard drive as well and the settings for the jumpers were written right \\n>> on the circuit board of the WD drive......MA SL ??\\n> \\n> The ??-jumper is used, if the other drive a conner cp3xxx. \\n> \\n> no jumper set: drive is alone\\n> MA: drive is master\\n> SL: drive is slave\\n\\nyo,yo,yo .\\nthe western digital hd will hve it marked either s,m,a\\nput jumper on the s \"its printed on the circuitry underkneth it.\\n\\nhope i helped i had the same problem.\\nbye..\\nlater daze.\\noharad@wanda.waiariki.ac.nz\\n')"
      ]
     },
     "metadata": {},
     "output_type": "display_data"
    }
   ],
   "source": [
    "chosen_topic_1 = np.random.choice(np.array(range(dtm.shape[0]))[np.argmax(W, axis=1)==1], size=5, replace=False)\n",
    "display([feature_names[i] for i in H[1].argsort()[-10:]])\n",
    "for i, content in newsgroup_df['document'].iloc[chosen_topic_1].items(): display((i, content))\n",
    "chosen_topic_2 = np.random.choice(np.array(range(dtm.shape[0]))[np.argmax(W, axis=1)==2], size=5, replace=False)\n",
    "display([feature_names[i] for i in H[2].argsort()[-10:]])\n",
    "for i, content in newsgroup_df['document'].iloc[chosen_topic_2].items(): display((i, content))"
   ]
  },
  {
   "cell_type": "markdown",
   "metadata": {},
   "source": [
    "Both topics seem to be representative of the randomly chosen instances best explained by that topic."
   ]
  },
  {
   "cell_type": "markdown",
   "metadata": {},
   "source": [
    "#### Coherence Score for NMF"
   ]
  },
  {
   "cell_type": "markdown",
   "metadata": {},
   "source": [
    "Coherence score measures the relative distance between words within a topic."
   ]
  },
  {
   "cell_type": "markdown",
   "metadata": {},
   "source": [
    "##### TC-W2V Implementation for SKLearn \n",
    "Source: https://github.com/derekgreene/topic-model-tutorial/blob/master/3%20-%20Parameter%20Selection%20for%20NMF.ipynb"
   ]
  },
  {
   "cell_type": "markdown",
   "metadata": {},
   "source": [
    "<b>Build a Word Embedding</b>\n",
    "\n",
    "To select the number of topics, here we will use a topic coherence measure called TC-W2V. This measure relies on the use of a word embedding model constructed from our corpus. So in this step we will use the Gensim implementation of Word2Vec to build a Word2Vec model based on our collection of news articles."
   ]
  },
  {
   "cell_type": "code",
   "execution_count": 94,
   "metadata": {},
   "outputs": [],
   "source": [
    "#First, we need to define a class that will generate documents in a form that can be consumed by Gensim's Word2Vec implementation:\n",
    "\n",
    "class TokenGenerator:\n",
    "    def __init__(self, documents, stopwords):\n",
    "        self.documents = documents\n",
    "        self.stopwords = stopwords\n",
    "        self.tokenizer = re.compile( r\"(?u)\\b\\w\\w+\\b\" )\n",
    "\n",
    "    def __iter__(self):\n",
    "        print(\"Building Word2Vec model ...\")\n",
    "        for doc in self.documents:\n",
    "            tokens = []\n",
    "            for tok in self.tokenizer.findall( doc ):\n",
    "                if tok in self.stopwords:\n",
    "                    tokens.append( \"<stopword>\" )\n",
    "                elif len(tok) >= 2:\n",
    "                    tokens.append( tok )\n",
    "            yield tokens"
   ]
  },
  {
   "cell_type": "code",
   "execution_count": null,
   "metadata": {},
   "outputs": [
    {
     "name": "stdout",
     "output_type": "stream",
     "text": [
      "Building Word2Vec model ...\n",
      "Building Word2Vec model ...\n",
      "Building Word2Vec model ...\n",
      "Building Word2Vec model ...\n",
      "Building Word2Vec model ...\n",
      "Building Word2Vec model ...\n",
      "Model has 6997 terms\n"
     ]
    }
   ],
   "source": [
    "# # Now build a Skipgram Word2Vec model from all documents in the input file using Gensim:\n",
    "\n",
    "# raw_documents = newsgroup_df['processed_documents']\n",
    "# custom_stop_words = stop_words\n",
    "\n",
    "# docgen = TokenGenerator(raw_documents, custom_stop_words)\n",
    "# # the model has 500 dimensions, the minimum document-term frequency is 20\n",
    "# w2v_model = Word2Vec(docgen, vector_size=500, min_count=20, sg=1)\n",
    "\n",
    "# # Save for later use, so that we do not need to rebuild it:\n",
    "# # w2v_model.save(\"w2v-model.bin\")\n",
    "\n",
    "# print(\"Model has %d terms\" % len(w2v_model.wv.key_to_index))"
   ]
  },
  {
   "cell_type": "code",
   "execution_count": 132,
   "metadata": {},
   "outputs": [],
   "source": [
    "# To re-load this model, run\n",
    "w2v_model = Word2Vec.load(\"w2v-model.bin\")"
   ]
  },
  {
   "cell_type": "markdown",
   "metadata": {},
   "source": [
    "<b>Selecting the Number of Topics</b>\n",
    "\n",
    "Once we have our Word2vec model, we can use it as part of our topic coherence approach to evaluate the different NMF topic models that we created previously. To do this, we will implement a simple version of the TC-W2V coherence measure.\n"
   ]
  },
  {
   "cell_type": "code",
   "execution_count": 133,
   "metadata": {},
   "outputs": [],
   "source": [
    "# We use the Word2vec model to calculate coherence scores for each of these models. \n",
    "# We will define this coherence score as follows:\n",
    "\n",
    "def calculate_coherence(w2v_model, term_rankings):\n",
    "    overall_coherence = 0.0\n",
    "    for topic_index in range(len(term_rankings)):\n",
    "        # check each pair of terms\n",
    "        pair_scores = []\n",
    "        for pair in combinations( term_rankings[topic_index], 2 ):\n",
    "            try: # sometimes a term NMF identified may not have been identified by w2v\n",
    "                pair_scores.append( w2v_model.wv.similarity(pair[0], pair[1]) )\n",
    "            except:\n",
    "                None\n",
    "        # get the mean for all pairs in this topic\n",
    "        topic_score = sum(pair_scores) / len(pair_scores)\n",
    "        overall_coherence += topic_score\n",
    "    # get the mean score across all topics\n",
    "    return overall_coherence / len(term_rankings)\n",
    "\n",
    "#We also define a function to get the topic descriptor (i.e. list of top terms) for each topic:\n",
    "\n",
    "def get_descriptor( all_terms, H, topic_index, top ):\n",
    "    # reverse sort the values to sort the indices\n",
    "    top_indices = np.argsort( H[topic_index,:] )[::-1]\n",
    "    # now get the terms corresponding to the top-ranked indices\n",
    "    top_terms = []\n",
    "    for term_index in top_indices[0:top]:\n",
    "        top_terms.append( all_terms[term_index] )\n",
    "    return top_terms"
   ]
  },
  {
   "cell_type": "code",
   "execution_count": 144,
   "metadata": {},
   "outputs": [],
   "source": [
    "def do_coherence(k, W, H, terms=feature_names):\n",
    "    \"\"\"Generates a final coherence score for a NMF model\"\"\"\n",
    "    # where k is number of topics\n",
    "\n",
    "    # Get all of the topic descriptors - the term_rankings, based on top 10 terms\n",
    "    term_rankings = []\n",
    "    for topic_index in range(k):\n",
    "        term_rankings.append( get_descriptor( terms, H, topic_index, 10 ) )\n",
    "    global temp_top_terms\n",
    "    temp_top_terms = term_rankings\n",
    "    curr_coherence = calculate_coherence( w2v_model, term_rankings )\n",
    "    print(\"K=%02d: Coherence=%.4f\" % ( k, curr_coherence ) )\n",
    "    return curr_coherence"
   ]
  },
  {
   "cell_type": "code",
   "execution_count": 145,
   "metadata": {},
   "outputs": [
    {
     "name": "stdout",
     "output_type": "stream",
     "text": [
      "K=18: Coherence=0.4881\n"
     ]
    },
    {
     "data": {
      "text/plain": [
       "0.4881122863518052"
      ]
     },
     "execution_count": 145,
     "metadata": {},
     "output_type": "execute_result"
    }
   ],
   "source": [
    "do_coherence(18, W, H)"
   ]
  },
  {
   "cell_type": "markdown",
   "metadata": {},
   "source": [
    "end sourced code"
   ]
  },
  {
   "cell_type": "markdown",
   "metadata": {},
   "source": [
    "### NMF - Automatic Topic Number"
   ]
  },
  {
   "cell_type": "markdown",
   "metadata": {},
   "source": [
    "In practice, a model will not know a-priori the true number of topics in a set, so coherence score can be used as a measure to choose the best topic model across multiple numbers of topics."
   ]
  },
  {
   "cell_type": "code",
   "execution_count": null,
   "metadata": {},
   "outputs": [
    {
     "name": "stdout",
     "output_type": "stream",
     "text": [
      "K=10: Coherence=0.4485\n",
      "K=12: Coherence=0.4756\n"
     ]
    },
    {
     "name": "stderr",
     "output_type": "stream",
     "text": [
      "/Users/johndriscoll/opt/anaconda3/lib/python3.9/site-packages/sklearn/decomposition/_nmf.py:1665: ConvergenceWarning: Maximum number of iterations 200 reached. Increase it to improve convergence.\n",
      "  warnings.warn(\n"
     ]
    },
    {
     "name": "stdout",
     "output_type": "stream",
     "text": [
      "K=14: Coherence=0.4794\n"
     ]
    },
    {
     "name": "stderr",
     "output_type": "stream",
     "text": [
      "/Users/johndriscoll/opt/anaconda3/lib/python3.9/site-packages/sklearn/decomposition/_nmf.py:1665: ConvergenceWarning: Maximum number of iterations 200 reached. Increase it to improve convergence.\n",
      "  warnings.warn(\n"
     ]
    },
    {
     "name": "stdout",
     "output_type": "stream",
     "text": [
      "K=16: Coherence=0.4859\n"
     ]
    },
    {
     "name": "stderr",
     "output_type": "stream",
     "text": [
      "/Users/johndriscoll/opt/anaconda3/lib/python3.9/site-packages/sklearn/decomposition/_nmf.py:1665: ConvergenceWarning: Maximum number of iterations 200 reached. Increase it to improve convergence.\n",
      "  warnings.warn(\n"
     ]
    },
    {
     "name": "stdout",
     "output_type": "stream",
     "text": [
      "K=18: Coherence=0.4903\n"
     ]
    },
    {
     "name": "stderr",
     "output_type": "stream",
     "text": [
      "/Users/johndriscoll/opt/anaconda3/lib/python3.9/site-packages/sklearn/decomposition/_nmf.py:1665: ConvergenceWarning: Maximum number of iterations 200 reached. Increase it to improve convergence.\n",
      "  warnings.warn(\n"
     ]
    },
    {
     "name": "stdout",
     "output_type": "stream",
     "text": [
      "K=20: Coherence=0.5160\n",
      "K=22: Coherence=0.5215\n",
      "K=24: Coherence=0.5140\n",
      "K=26: Coherence=0.5224\n",
      "K=28: Coherence=0.5321\n",
      "28\n"
     ]
    }
   ],
   "source": [
    "# Create a list of the topic numbers we want to try\n",
    "topic_nums = list(np.arange(10, 30, 2))\n",
    "coherence_scores = dict()\n",
    "nmf_models = dict()\n",
    "\n",
    "for k in topic_nums:\n",
    "    curr_W, curr_H = do_nmf(k)\n",
    "    nmf_models[k] = (curr_W, curr_H)\n",
    "    coherence_scores[k] = do_coherence(k, curr_W, curr_H)\n",
    "\n",
    "# Get the number of topics with the highest coherence score\n",
    "scores = list(zip(topic_nums.values(), coherence_scores.values()))\n",
    "best_num_topics = sorted(scores, key=itemgetter(1), reverse=True)[0][0]\n",
    "\n",
    "print(best_num_topics, coherence_scores[best_num_topics])"
   ]
  },
  {
   "cell_type": "code",
   "execution_count": 169,
   "metadata": {},
   "outputs": [
    {
     "data": {
      "image/png": "[encoded data removed]",
      "text/plain": [
       "<Figure size 432x288 with 1 Axes>"
      ]
     },
     "metadata": {
      "needs_background": "light"
     },
     "output_type": "display_data"
    }
   ],
   "source": [
    "plt.plot(topic_nums, coherence_scores)\n",
    "plt.title(\"Coherence Score by Topic Number - Best: {}\".format(best_num_topics))\n",
    "plt.grid(True)\n",
    "plt.xticks(topic_nums)\n",
    "plt.show()"
   ]
  },
  {
   "cell_type": "code",
   "execution_count": 179,
   "metadata": {},
   "outputs": [
    {
     "data": {
      "text/plain": [
       "0.9636908113434091"
      ]
     },
     "execution_count": 179,
     "metadata": {},
     "output_type": "execute_result"
    }
   ],
   "source": [
    "# manually selected had residual of 0.98\n",
    "np.mean(do_residual(dtm, nmf_models[-1][0], nmf_models[-1][1]))"
   ]
  },
  {
   "cell_type": "markdown",
   "metadata": {},
   "source": [
    "The matrix chosen by coherence score had a worse residual than the one chosen with 18 features, indicating that selecting by coherence score may not result in the best decomposition, but it is standard practice at the moment."
   ]
  },
  {
   "cell_type": "markdown",
   "metadata": {},
   "source": [
    "### Run NMF"
   ]
  },
  {
   "cell_type": "code",
   "execution_count": null,
   "metadata": {},
   "outputs": [],
   "source": []
  }
 ],
 "metadata": {
  "kernelspec": {
   "display_name": "base",
   "language": "python",
   "name": "python3"
  },
  "language_info": {
   "codemirror_mode": {
    "name": "ipython",
    "version": 3
   },
   "file_extension": ".py",
   "mimetype": "text/x-python",
   "name": "python",
   "nbconvert_exporter": "python",
   "pygments_lexer": "ipython3",
   "version": "3.9.7"
  }
 },
 "nbformat": 4,
 "nbformat_minor": 2
}
